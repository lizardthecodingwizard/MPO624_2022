{
  "nbformat": 4,
  "nbformat_minor": 0,
  "metadata": {
    "colab": {
      "name": "Copy of Preprocessing Demo.ipynb",
      "provenance": [],
      "collapsed_sections": [],
      "toc_visible": true
    },
    "kernelspec": {
      "name": "python3",
      "display_name": "Python 3"
    }
  },
  "cells": [
    {
      "cell_type": "markdown",
      "metadata": {
        "id": "aWxZqcJyFgBf"
      },
      "source": [
        "\n",
        "\n",
        "# **Data Preprocessing for Machine Learning**\n",
        "\n",
        "### The general workflow for developing a ML model\n",
        "\n",
        "*Define the Problem*\n",
        "  - Think about what you want to achieve with ML\n",
        "  - Check data availability\n",
        "\n",
        "*Data Retrieval and Preprocessing* \n",
        "  - Retrieving data\n",
        "  - Split your data into training, (validation), and testing sets \n",
        "  - Feature extraction and classify the examples if these apply to you\n",
        "  - Perform normalization if necessary\n",
        "  - Other techniques: redundant data removal, feature space reduction, resampling, etc.\n",
        "\n",
        "*Model Training*\n",
        "  - Optimize ML model(s) using the **training dataset only**\n",
        "\n",
        "*Model Deployment*\n",
        "  - Apply the trained ML model to the **testing dataset only** \n",
        "\n",
        "*Model Evaluation*\n",
        "  - Use verification metrics and subjective evaluations to determine the skill of the ML model for a given task.  \n",
        "  - Evaluate if the decision-making process is reasonable\n",
        "  - Allow end-users to better trust the ML decisions\n",
        "\n",
        "<br>\n",
        "<br>\n",
        "\n",
        "These steps are applicable for both classical ML and DL models. More details about the ML pipeline can be found [here](https://www.oreilly.com/library/view/building-machine-learning/9781492053187/ch01.html). \n",
        "\n",
        "<br>\n",
        "<br>\n",
        "\n",
        "\n",
        "Please cite the notebook as follows:\n",
        "\n",
        "    Ko, M., 2021: \"Data Preprocessing Introduction for Machine Learning\"\n",
        "\n",
        "This notebook was modified based on   \n",
        "\n",
        "    Burke, A., 2020: \"Traditional Machine Learning Pipeline Applied to NWP Model Data\"\n",
        "\n",
        "The data for this tutorial: \n",
        "\n",
        "    McGovern, A., Burke, A., Harrison, D., and G. M. Lackmann, 2020: A Machine Learning Tutorial for Operational Forecasting: Part I. Wea. Forecasting, In Press \n"
      ]
    },
    {
      "cell_type": "markdown",
      "metadata": {
        "id": "cXbZ0rSzLm2O"
      },
      "source": [
        "<br>\n",
        "\n",
        "\n",
        "# Setup\n",
        "\n",
        "Import essential libraries\n",
        "\n",
        "In this lecture, we run ML with [scikit-learn](https://scikit-learn.org/stable/).\n",
        "\n",
        "\n",
        "<br>"
      ]
    },
    {
      "cell_type": "code",
      "metadata": {
        "id": "CZaggDzOdqIJ",
        "colab": {
          "base_uri": "https://localhost:8080/"
        },
        "outputId": "9b2a7201-dc50-4caa-87e2-c4f3f5d80914"
      },
      "source": [
        "# array data analysis\n",
        "import pandas as pd\n",
        "import numpy as np\n",
        "# MATLAB-like plotting\n",
        "import matplotlib.pyplot as plt\n",
        "import matplotlib\n",
        "%matplotlib inline\n",
        "# Scikit-Learn: Machine Learning libraries\n",
        "from sklearn.linear_model import LinearRegression\n",
        "from sklearn.model_selection import train_test_split\n",
        "\n",
        "import gdown\n",
        "! pip install netcdf4\n",
        "\n",
        "import warnings\n",
        "warnings.filterwarnings('ignore')"
      ],
      "execution_count": null,
      "outputs": [
        {
          "output_type": "stream",
          "name": "stdout",
          "text": [
            "Requirement already satisfied: netcdf4 in /usr/local/lib/python3.7/dist-packages (1.5.8)\n",
            "Requirement already satisfied: numpy>=1.9 in /usr/local/lib/python3.7/dist-packages (from netcdf4) (1.19.5)\n",
            "Requirement already satisfied: cftime in /usr/local/lib/python3.7/dist-packages (from netcdf4) (1.5.1.1)\n"
          ]
        }
      ]
    },
    {
      "cell_type": "code",
      "metadata": {
        "colab": {
          "base_uri": "https://localhost:8080/",
          "height": 17
        },
        "id": "EVUcRhB1P5T7",
        "outputId": "200de7c0-5f16-4e24-dc15-09509642a022"
      },
      "source": [
        "#precent auto-scrolling\n",
        "#The next cell prevents output in the notebook from being nested in a scroll box\n",
        "%%javascript\n",
        "IPython.OutputArea.prototype._should_scroll = function(lines) {\n",
        "    return false;"
      ],
      "execution_count": null,
      "outputs": [
        {
          "output_type": "display_data",
          "data": {
            "application/javascript": [
              "IPython.OutputArea.prototype._should_scroll = function(lines) {\n",
              "    return false;"
            ],
            "text/plain": [
              "<IPython.core.display.Javascript object>"
            ]
          },
          "metadata": {}
        }
      ]
    },
    {
      "cell_type": "markdown",
      "metadata": {
        "id": "4jURmN_9L1h0"
      },
      "source": [
        "## Import data\n",
        "\n",
        "The next cell imports all of the data that will be used by this notebook. If anything crashes, it will probably be here."
      ]
    },
    {
      "cell_type": "code",
      "metadata": {
        "id": "fHpYvj-YFB32"
      },
      "source": [
        "# MLurl = 'https://drive.google.com/uc?id=1ixh7rnyn-GXYg15DTNuvkkFYTYyX92bF'\n",
        "# MLoutput = 'AI_tutorial_data.tar.gz'\n",
        "# gdown.download(MLurl, MLoutput, quiet=False) "
      ],
      "execution_count": null,
      "outputs": []
    },
    {
      "cell_type": "code",
      "source": [
        "# ! tar -xzvf AI_tutorial_data.tar.gz\n",
        "# ! rm *.tar.gz \n",
        "# !ls"
      ],
      "metadata": {
        "id": "UcDg2dhc0TmK"
      },
      "execution_count": null,
      "outputs": []
    },
    {
      "cell_type": "code",
      "source": [
        "!wget -O \"AI_tutorial_data.tar.gz\"  \"https://zenodo.org/record/5834841/files/AI_tutorial_data.tar.gz?download=1\""
      ],
      "metadata": {
        "colab": {
          "base_uri": "https://localhost:8080/"
        },
        "id": "srR2VZPQ3bIO",
        "outputId": "aff6f112-05ca-4b52-8896-fcece222f12d"
      },
      "execution_count": null,
      "outputs": [
        {
          "output_type": "stream",
          "name": "stdout",
          "text": [
            "--2022-01-12 01:54:36--  https://zenodo.org/record/5834841/files/AI_tutorial_data.tar.gz?download=1\n",
            "Resolving zenodo.org (zenodo.org)... 137.138.76.77\n",
            "Connecting to zenodo.org (zenodo.org)|137.138.76.77|:443... connected.\n",
            "HTTP request sent, awaiting response... 200 OK\n",
            "Length: 268165355 (256M) [application/octet-stream]\n",
            "Saving to: ‘AI_tutorial_data.tar.gz’\n",
            "\n",
            "AI_tutorial_data.ta 100%[===================>] 255.74M  5.20MB/s    in 41s     \n",
            "\n",
            "2022-01-12 01:55:20 (6.19 MB/s) - ‘AI_tutorial_data.tar.gz’ saved [268165355/268165355]\n",
            "\n"
          ]
        }
      ]
    },
    {
      "cell_type": "code",
      "source": [
        "!mkdir AI_tutorial_data\n",
        "!tar -xzvf AI_tutorial_data.tar.gz --directory /content/AI_tutorial_data\n",
        "! rm *.tar.gz "
      ],
      "metadata": {
        "id": "_8OhGYeQ_rLS",
        "colab": {
          "base_uri": "https://localhost:8080/"
        },
        "outputId": "920e02ef-bbcc-4fa6-d29e-c991f5e3b908"
      },
      "execution_count": null,
      "outputs": [
        {
          "output_type": "stream",
          "name": "stdout",
          "text": [
            "._.\n",
            "./\n",
            "./._keug_processed_data.csv\n",
            "./keug_processed_data.csv\n",
            "./._klch_processed_data.csv\n",
            "./klch_processed_data.csv\n",
            "./._klit_processed_data.csv\n",
            "./klit_processed_data.csv\n",
            "./._koma_processed_data.csv\n",
            "./koma_processed_data.csv\n",
            "./._kjax_processed_data.csv\n",
            "./kjax_processed_data.csv\n",
            "./._kcmh_processed_data.csv\n",
            "./kcmh_processed_data.csv\n",
            "./._kdbq_processed_data.csv\n",
            "./kdbq_processed_data.csv\n",
            "./._kgeg_processed_data.csv\n",
            "./kgeg_processed_data.csv\n",
            "./._kchs_processed_data.csv\n",
            "./kchs_processed_data.csv\n",
            "./._kcys_processed_data.csv\n",
            "./kcys_processed_data.csv\n",
            "./._kast_processed_data.csv\n",
            "./kast_processed_data.csv\n",
            "./._kdfw_processed_data.csv\n",
            "./kdfw_processed_data.csv\n",
            "./._kboi_processed_data.csv\n",
            "./kboi_processed_data.csv\n",
            "./._kdlh_processed_data.csv\n",
            "./kdlh_processed_data.csv\n",
            "./._kbro_processed_data.csv\n",
            "./kbro_processed_data.csv\n",
            "./._kroa_processed_data.csv\n",
            "./kroa_processed_data.csv\n"
          ]
        }
      ]
    },
    {
      "cell_type": "markdown",
      "metadata": {
        "id": "XcMlMUTiZrD2"
      },
      "source": [
        "<br>\n",
        "\n",
        "## Prediction Problem and Dataset Information\n",
        "\n",
        "<br>"
      ]
    },
    {
      "cell_type": "markdown",
      "metadata": {
        "id": "RBCUBekJZwwP"
      },
      "source": [
        "\n",
        "\n",
        "\n",
        "<img src=\"https://upload.wikimedia.org/wikipedia/commons/thumb/0/05/NWS_Weather_Forecast_Offices.svg/720px-NWS_Weather_Forecast_Offices.svg.png\" width=\"600\">\n",
        "\n",
        "\n",
        "We are going to mimic the [WxChallenge](https://www.wxchallenge.com/) (with slight changes for time constraints)\n",
        "  - Predict the high temperature of a given city, FWD (Ft Worth and Dallas)\n",
        "  - Learn the general ML workflow from this problem\n",
        "  - Apply your knowledge to another city or to a different problem\n"
      ]
    },
    {
      "cell_type": "code",
      "metadata": {
        "id": "eMyg_Y90bV7e"
      },
      "source": [
        "# Load DFW (Dallas-Ft. Worth) file\n",
        "total_dataset = pd.read_csv('AI_tutorial_data/kdfw_processed_data.csv',index_col=0).sort_values(by='date') ##kdfw - Dallas-Ft Worth, TX\n",
        "total_dataset = total_dataset.replace('********', np.nan).replace(np.inf,np.nan).dropna(how='any',axis=1)"
      ],
      "execution_count": null,
      "outputs": []
    },
    {
      "cell_type": "code",
      "metadata": {
        "colab": {
          "base_uri": "https://localhost:8080/"
        },
        "id": "dSYOGSqpGwbU",
        "outputId": "a7eeae21-e662-4ffa-e28d-8a99728ad164"
      },
      "source": [
        "total_dataset.shape"
      ],
      "execution_count": null,
      "outputs": [
        {
          "output_type": "execute_result",
          "data": {
            "text/plain": [
              "(3143, 2693)"
            ]
          },
          "metadata": {},
          "execution_count": 6
        }
      ]
    },
    {
      "cell_type": "code",
      "metadata": {
        "id": "VA3NPPrEoURz",
        "colab": {
          "base_uri": "https://localhost:8080/",
          "height": 473
        },
        "outputId": "61c393bd-ff15-4337-9366-ebc4033968b5"
      },
      "source": [
        "#First five rows\n",
        "total_dataset.head()"
      ],
      "execution_count": null,
      "outputs": [
        {
          "output_type": "execute_result",
          "data": {
            "text/html": [
              "\n",
              "  <div id=\"df-c46fb685-3bec-4614-85a4-ee7d2feb207b\">\n",
              "    <div class=\"colab-df-container\">\n",
              "      <div>\n",
              "<style scoped>\n",
              "    .dataframe tbody tr th:only-of-type {\n",
              "        vertical-align: middle;\n",
              "    }\n",
              "\n",
              "    .dataframe tbody tr th {\n",
              "        vertical-align: top;\n",
              "    }\n",
              "\n",
              "    .dataframe thead th {\n",
              "        text-align: right;\n",
              "    }\n",
              "</style>\n",
              "<table border=\"1\" class=\"dataframe\">\n",
              "  <thead>\n",
              "    <tr style=\"text-align: right;\">\n",
              "      <th></th>\n",
              "      <th>date</th>\n",
              "      <th>OBS_tmpf_max</th>\n",
              "      <th>OBS_tmpf_min</th>\n",
              "      <th>OBS_sknt_max</th>\n",
              "      <th>OBS_phour</th>\n",
              "      <th>GFS0_pmsl_max</th>\n",
              "      <th>GFS0_pmsl_min</th>\n",
              "      <th>GFS0_pmsl_avg</th>\n",
              "      <th>GFS0_pres_max</th>\n",
              "      <th>GFS0_pres_min</th>\n",
              "      <th>GFS0_pres_avg</th>\n",
              "      <th>GFS0_sktc_max</th>\n",
              "      <th>GFS0_sktc_min</th>\n",
              "      <th>GFS0_sktc_avg</th>\n",
              "      <th>GFS0_stc1_max</th>\n",
              "      <th>GFS0_stc1_min</th>\n",
              "      <th>GFS0_stc1_avg</th>\n",
              "      <th>GFS0_snfl_max</th>\n",
              "      <th>GFS0_snfl_min</th>\n",
              "      <th>GFS0_snfl_avg</th>\n",
              "      <th>GFS0_wtns_max</th>\n",
              "      <th>GFS0_wtns_min</th>\n",
              "      <th>GFS0_wtns_avg</th>\n",
              "      <th>GFS0_p01m_max</th>\n",
              "      <th>GFS0_p01m_min</th>\n",
              "      <th>GFS0_p01m_avg</th>\n",
              "      <th>GFS0_c01m_max</th>\n",
              "      <th>GFS0_c01m_min</th>\n",
              "      <th>GFS0_c01m_avg</th>\n",
              "      <th>GFS0_stc2_max</th>\n",
              "      <th>GFS0_stc2_min</th>\n",
              "      <th>GFS0_stc2_avg</th>\n",
              "      <th>GFS0_lcld_max</th>\n",
              "      <th>GFS0_lcld_min</th>\n",
              "      <th>GFS0_lcld_avg</th>\n",
              "      <th>GFS0_mcld_max</th>\n",
              "      <th>GFS0_mcld_min</th>\n",
              "      <th>GFS0_mcld_avg</th>\n",
              "      <th>GFS0_hcld_max</th>\n",
              "      <th>GFS0_hcld_min</th>\n",
              "      <th>...</th>\n",
              "      <th>NAMMOS0_vis_max</th>\n",
              "      <th>NAMMOS0_vis_min</th>\n",
              "      <th>NAMMOS0_vis_avg</th>\n",
              "      <th>NAMMOS0_poz_max</th>\n",
              "      <th>NAMMOS0_poz_min</th>\n",
              "      <th>NAMMOS0_poz_avg</th>\n",
              "      <th>NAMMOS0_pos_max</th>\n",
              "      <th>NAMMOS0_pos_min</th>\n",
              "      <th>NAMMOS0_pos_avg</th>\n",
              "      <th>NAMMOS12_n_x_max</th>\n",
              "      <th>NAMMOS12_tmp_max</th>\n",
              "      <th>NAMMOS12_tmp_min</th>\n",
              "      <th>NAMMOS12_tmp_avg</th>\n",
              "      <th>NAMMOS12_dpt_max</th>\n",
              "      <th>NAMMOS12_dpt_min</th>\n",
              "      <th>NAMMOS12_dpt_avg</th>\n",
              "      <th>NAMMOS12_wdr</th>\n",
              "      <th>NAMMOS12_wsp_max</th>\n",
              "      <th>NAMMOS12_wsp_min</th>\n",
              "      <th>NAMMOS12_wsp_avg</th>\n",
              "      <th>NAMMOS12_p06_max</th>\n",
              "      <th>NAMMOS12_p06_min</th>\n",
              "      <th>NAMMOS12_p06_avg</th>\n",
              "      <th>NAMMOS12_p12_max</th>\n",
              "      <th>NAMMOS12_q06_max</th>\n",
              "      <th>NAMMOS12_q06_min</th>\n",
              "      <th>NAMMOS12_q06_avg</th>\n",
              "      <th>NAMMOS12_q12_max</th>\n",
              "      <th>NAMMOS12_cig_max</th>\n",
              "      <th>NAMMOS12_cig_min</th>\n",
              "      <th>NAMMOS12_cig_avg</th>\n",
              "      <th>NAMMOS12_vis_max</th>\n",
              "      <th>NAMMOS12_vis_min</th>\n",
              "      <th>NAMMOS12_vis_avg</th>\n",
              "      <th>NAMMOS12_poz_max</th>\n",
              "      <th>NAMMOS12_poz_min</th>\n",
              "      <th>NAMMOS12_poz_avg</th>\n",
              "      <th>NAMMOS12_pos_max</th>\n",
              "      <th>NAMMOS12_pos_min</th>\n",
              "      <th>NAMMOS12_pos_avg</th>\n",
              "    </tr>\n",
              "  </thead>\n",
              "  <tbody>\n",
              "    <tr>\n",
              "      <th>0</th>\n",
              "      <td>2011-01-01</td>\n",
              "      <td>44.06</td>\n",
              "      <td>30.02</td>\n",
              "      <td>14.0</td>\n",
              "      <td>0.0</td>\n",
              "      <td>1026.3</td>\n",
              "      <td>1015.1</td>\n",
              "      <td>1022.640000</td>\n",
              "      <td>1004.4</td>\n",
              "      <td>993.2</td>\n",
              "      <td>1000.630000</td>\n",
              "      <td>7.0</td>\n",
              "      <td>-1.5</td>\n",
              "      <td>1.990000</td>\n",
              "      <td>282.5</td>\n",
              "      <td>277.5</td>\n",
              "      <td>279.290000</td>\n",
              "      <td>0.0</td>\n",
              "      <td>0.0</td>\n",
              "      <td>0.0</td>\n",
              "      <td>0.0</td>\n",
              "      <td>0.0</td>\n",
              "      <td>0.0</td>\n",
              "      <td>0.0</td>\n",
              "      <td>0.0</td>\n",
              "      <td>0.0</td>\n",
              "      <td>0.0</td>\n",
              "      <td>0.0</td>\n",
              "      <td>0.0</td>\n",
              "      <td>0.0</td>\n",
              "      <td>0.0</td>\n",
              "      <td>0.0</td>\n",
              "      <td>0.0</td>\n",
              "      <td>0.0</td>\n",
              "      <td>0.000000</td>\n",
              "      <td>11.0</td>\n",
              "      <td>0.0</td>\n",
              "      <td>1.200000</td>\n",
              "      <td>45.0</td>\n",
              "      <td>0.0</td>\n",
              "      <td>...</td>\n",
              "      <td>7.0</td>\n",
              "      <td>7.0</td>\n",
              "      <td>7.0</td>\n",
              "      <td>5.666667</td>\n",
              "      <td>0.000000</td>\n",
              "      <td>2.111111</td>\n",
              "      <td>93.00</td>\n",
              "      <td>41.666667</td>\n",
              "      <td>72.194444</td>\n",
              "      <td>46.0</td>\n",
              "      <td>42.0</td>\n",
              "      <td>35.0</td>\n",
              "      <td>38.500000</td>\n",
              "      <td>11.0</td>\n",
              "      <td>7.0</td>\n",
              "      <td>9.0</td>\n",
              "      <td>340.0</td>\n",
              "      <td>12.0</td>\n",
              "      <td>4.0</td>\n",
              "      <td>7.000000</td>\n",
              "      <td>1.0</td>\n",
              "      <td>1.0</td>\n",
              "      <td>1.0</td>\n",
              "      <td>4.5</td>\n",
              "      <td>0.0</td>\n",
              "      <td>0.0</td>\n",
              "      <td>0.0</td>\n",
              "      <td>0.0</td>\n",
              "      <td>8.0</td>\n",
              "      <td>8.0</td>\n",
              "      <td>8.0</td>\n",
              "      <td>7.0</td>\n",
              "      <td>7.0</td>\n",
              "      <td>7.0</td>\n",
              "      <td>5.666667</td>\n",
              "      <td>0.000000</td>\n",
              "      <td>2.111111</td>\n",
              "      <td>93.00</td>\n",
              "      <td>41.666667</td>\n",
              "      <td>72.194444</td>\n",
              "    </tr>\n",
              "    <tr>\n",
              "      <th>1</th>\n",
              "      <td>2011-01-02</td>\n",
              "      <td>48.02</td>\n",
              "      <td>24.98</td>\n",
              "      <td>7.0</td>\n",
              "      <td>0.0</td>\n",
              "      <td>1029.5</td>\n",
              "      <td>1024.7</td>\n",
              "      <td>1026.938889</td>\n",
              "      <td>1007.6</td>\n",
              "      <td>1003.1</td>\n",
              "      <td>1005.122222</td>\n",
              "      <td>8.9</td>\n",
              "      <td>-2.4</td>\n",
              "      <td>1.788889</td>\n",
              "      <td>278.1</td>\n",
              "      <td>276.4</td>\n",
              "      <td>277.038889</td>\n",
              "      <td>0.0</td>\n",
              "      <td>0.0</td>\n",
              "      <td>0.0</td>\n",
              "      <td>0.0</td>\n",
              "      <td>0.0</td>\n",
              "      <td>0.0</td>\n",
              "      <td>0.0</td>\n",
              "      <td>0.0</td>\n",
              "      <td>0.0</td>\n",
              "      <td>0.0</td>\n",
              "      <td>0.0</td>\n",
              "      <td>0.0</td>\n",
              "      <td>0.0</td>\n",
              "      <td>0.0</td>\n",
              "      <td>0.0</td>\n",
              "      <td>0.0</td>\n",
              "      <td>0.0</td>\n",
              "      <td>0.000000</td>\n",
              "      <td>0.0</td>\n",
              "      <td>0.0</td>\n",
              "      <td>0.000000</td>\n",
              "      <td>99.0</td>\n",
              "      <td>0.0</td>\n",
              "      <td>...</td>\n",
              "      <td>7.0</td>\n",
              "      <td>7.0</td>\n",
              "      <td>7.0</td>\n",
              "      <td>5.000000</td>\n",
              "      <td>0.750000</td>\n",
              "      <td>2.808036</td>\n",
              "      <td>96.75</td>\n",
              "      <td>50.000000</td>\n",
              "      <td>79.581845</td>\n",
              "      <td>23.0</td>\n",
              "      <td>47.0</td>\n",
              "      <td>25.0</td>\n",
              "      <td>35.285714</td>\n",
              "      <td>14.0</td>\n",
              "      <td>8.0</td>\n",
              "      <td>11.0</td>\n",
              "      <td>30.0</td>\n",
              "      <td>7.0</td>\n",
              "      <td>4.0</td>\n",
              "      <td>5.571429</td>\n",
              "      <td>1.0</td>\n",
              "      <td>1.0</td>\n",
              "      <td>1.0</td>\n",
              "      <td>2.0</td>\n",
              "      <td>0.0</td>\n",
              "      <td>0.0</td>\n",
              "      <td>0.0</td>\n",
              "      <td>0.0</td>\n",
              "      <td>8.0</td>\n",
              "      <td>8.0</td>\n",
              "      <td>8.0</td>\n",
              "      <td>7.0</td>\n",
              "      <td>7.0</td>\n",
              "      <td>7.0</td>\n",
              "      <td>5.000000</td>\n",
              "      <td>0.750000</td>\n",
              "      <td>2.808036</td>\n",
              "      <td>96.75</td>\n",
              "      <td>50.000000</td>\n",
              "      <td>79.581845</td>\n",
              "    </tr>\n",
              "    <tr>\n",
              "      <th>2</th>\n",
              "      <td>2011-01-03</td>\n",
              "      <td>57.92</td>\n",
              "      <td>30.92</td>\n",
              "      <td>18.0</td>\n",
              "      <td>0.0</td>\n",
              "      <td>1025.3</td>\n",
              "      <td>1017.1</td>\n",
              "      <td>1021.183333</td>\n",
              "      <td>1003.6</td>\n",
              "      <td>995.6</td>\n",
              "      <td>999.562500</td>\n",
              "      <td>12.2</td>\n",
              "      <td>-1.2</td>\n",
              "      <td>4.475000</td>\n",
              "      <td>281.5</td>\n",
              "      <td>275.7</td>\n",
              "      <td>277.929167</td>\n",
              "      <td>0.0</td>\n",
              "      <td>0.0</td>\n",
              "      <td>0.0</td>\n",
              "      <td>0.0</td>\n",
              "      <td>0.0</td>\n",
              "      <td>0.0</td>\n",
              "      <td>0.0</td>\n",
              "      <td>0.0</td>\n",
              "      <td>0.0</td>\n",
              "      <td>0.0</td>\n",
              "      <td>0.0</td>\n",
              "      <td>0.0</td>\n",
              "      <td>0.0</td>\n",
              "      <td>0.0</td>\n",
              "      <td>0.0</td>\n",
              "      <td>0.0</td>\n",
              "      <td>0.0</td>\n",
              "      <td>0.000000</td>\n",
              "      <td>41.0</td>\n",
              "      <td>0.0</td>\n",
              "      <td>4.208333</td>\n",
              "      <td>95.0</td>\n",
              "      <td>0.0</td>\n",
              "      <td>...</td>\n",
              "      <td>7.0</td>\n",
              "      <td>7.0</td>\n",
              "      <td>7.0</td>\n",
              "      <td>8.000000</td>\n",
              "      <td>5.750000</td>\n",
              "      <td>6.875000</td>\n",
              "      <td>28.00</td>\n",
              "      <td>22.500000</td>\n",
              "      <td>25.250000</td>\n",
              "      <td>0.0</td>\n",
              "      <td>54.0</td>\n",
              "      <td>54.0</td>\n",
              "      <td>54.000000</td>\n",
              "      <td>28.0</td>\n",
              "      <td>28.0</td>\n",
              "      <td>28.0</td>\n",
              "      <td>180.0</td>\n",
              "      <td>14.0</td>\n",
              "      <td>14.0</td>\n",
              "      <td>14.000000</td>\n",
              "      <td>0.0</td>\n",
              "      <td>0.0</td>\n",
              "      <td>0.0</td>\n",
              "      <td>0.0</td>\n",
              "      <td>0.0</td>\n",
              "      <td>0.0</td>\n",
              "      <td>0.0</td>\n",
              "      <td>0.0</td>\n",
              "      <td>8.0</td>\n",
              "      <td>8.0</td>\n",
              "      <td>8.0</td>\n",
              "      <td>7.0</td>\n",
              "      <td>7.0</td>\n",
              "      <td>7.0</td>\n",
              "      <td>8.000000</td>\n",
              "      <td>5.750000</td>\n",
              "      <td>6.875000</td>\n",
              "      <td>28.00</td>\n",
              "      <td>22.500000</td>\n",
              "      <td>25.250000</td>\n",
              "    </tr>\n",
              "    <tr>\n",
              "      <th>3</th>\n",
              "      <td>2011-01-04</td>\n",
              "      <td>55.94</td>\n",
              "      <td>41.00</td>\n",
              "      <td>8.0</td>\n",
              "      <td>0.0</td>\n",
              "      <td>1022.6</td>\n",
              "      <td>1016.0</td>\n",
              "      <td>1018.912500</td>\n",
              "      <td>1001.0</td>\n",
              "      <td>994.5</td>\n",
              "      <td>997.312500</td>\n",
              "      <td>14.4</td>\n",
              "      <td>1.7</td>\n",
              "      <td>6.820833</td>\n",
              "      <td>283.5</td>\n",
              "      <td>278.1</td>\n",
              "      <td>280.679167</td>\n",
              "      <td>0.0</td>\n",
              "      <td>0.0</td>\n",
              "      <td>0.0</td>\n",
              "      <td>0.0</td>\n",
              "      <td>0.0</td>\n",
              "      <td>0.0</td>\n",
              "      <td>0.0</td>\n",
              "      <td>0.0</td>\n",
              "      <td>0.0</td>\n",
              "      <td>0.0</td>\n",
              "      <td>0.0</td>\n",
              "      <td>0.0</td>\n",
              "      <td>0.0</td>\n",
              "      <td>0.0</td>\n",
              "      <td>0.0</td>\n",
              "      <td>92.0</td>\n",
              "      <td>0.0</td>\n",
              "      <td>16.625000</td>\n",
              "      <td>50.0</td>\n",
              "      <td>0.0</td>\n",
              "      <td>11.916667</td>\n",
              "      <td>77.0</td>\n",
              "      <td>0.0</td>\n",
              "      <td>...</td>\n",
              "      <td>7.0</td>\n",
              "      <td>7.0</td>\n",
              "      <td>7.0</td>\n",
              "      <td>1.666667</td>\n",
              "      <td>1.666667</td>\n",
              "      <td>1.666667</td>\n",
              "      <td>0.00</td>\n",
              "      <td>0.000000</td>\n",
              "      <td>0.000000</td>\n",
              "      <td>0.0</td>\n",
              "      <td>56.0</td>\n",
              "      <td>56.0</td>\n",
              "      <td>56.000000</td>\n",
              "      <td>41.0</td>\n",
              "      <td>41.0</td>\n",
              "      <td>41.0</td>\n",
              "      <td>270.0</td>\n",
              "      <td>7.0</td>\n",
              "      <td>7.0</td>\n",
              "      <td>7.000000</td>\n",
              "      <td>0.0</td>\n",
              "      <td>0.0</td>\n",
              "      <td>0.0</td>\n",
              "      <td>0.0</td>\n",
              "      <td>0.0</td>\n",
              "      <td>0.0</td>\n",
              "      <td>0.0</td>\n",
              "      <td>0.0</td>\n",
              "      <td>8.0</td>\n",
              "      <td>8.0</td>\n",
              "      <td>8.0</td>\n",
              "      <td>7.0</td>\n",
              "      <td>7.0</td>\n",
              "      <td>7.0</td>\n",
              "      <td>1.666667</td>\n",
              "      <td>1.666667</td>\n",
              "      <td>1.666667</td>\n",
              "      <td>0.00</td>\n",
              "      <td>0.000000</td>\n",
              "      <td>0.000000</td>\n",
              "    </tr>\n",
              "    <tr>\n",
              "      <th>4</th>\n",
              "      <td>2011-01-05</td>\n",
              "      <td>57.92</td>\n",
              "      <td>35.96</td>\n",
              "      <td>12.0</td>\n",
              "      <td>0.0</td>\n",
              "      <td>1019.5</td>\n",
              "      <td>1014.8</td>\n",
              "      <td>1016.875000</td>\n",
              "      <td>997.8</td>\n",
              "      <td>993.0</td>\n",
              "      <td>995.162500</td>\n",
              "      <td>13.6</td>\n",
              "      <td>0.6</td>\n",
              "      <td>6.166667</td>\n",
              "      <td>282.6</td>\n",
              "      <td>277.1</td>\n",
              "      <td>280.287500</td>\n",
              "      <td>0.0</td>\n",
              "      <td>0.0</td>\n",
              "      <td>0.0</td>\n",
              "      <td>0.0</td>\n",
              "      <td>0.0</td>\n",
              "      <td>0.0</td>\n",
              "      <td>0.0</td>\n",
              "      <td>0.0</td>\n",
              "      <td>0.0</td>\n",
              "      <td>0.0</td>\n",
              "      <td>0.0</td>\n",
              "      <td>0.0</td>\n",
              "      <td>0.0</td>\n",
              "      <td>0.0</td>\n",
              "      <td>0.0</td>\n",
              "      <td>2.0</td>\n",
              "      <td>0.0</td>\n",
              "      <td>0.208333</td>\n",
              "      <td>0.0</td>\n",
              "      <td>0.0</td>\n",
              "      <td>0.000000</td>\n",
              "      <td>25.0</td>\n",
              "      <td>0.0</td>\n",
              "      <td>...</td>\n",
              "      <td>7.0</td>\n",
              "      <td>7.0</td>\n",
              "      <td>7.0</td>\n",
              "      <td>1.750000</td>\n",
              "      <td>1.750000</td>\n",
              "      <td>1.750000</td>\n",
              "      <td>0.00</td>\n",
              "      <td>0.000000</td>\n",
              "      <td>0.000000</td>\n",
              "      <td>0.0</td>\n",
              "      <td>54.0</td>\n",
              "      <td>54.0</td>\n",
              "      <td>54.000000</td>\n",
              "      <td>32.0</td>\n",
              "      <td>32.0</td>\n",
              "      <td>32.0</td>\n",
              "      <td>330.0</td>\n",
              "      <td>9.0</td>\n",
              "      <td>9.0</td>\n",
              "      <td>9.000000</td>\n",
              "      <td>0.0</td>\n",
              "      <td>0.0</td>\n",
              "      <td>0.0</td>\n",
              "      <td>0.0</td>\n",
              "      <td>0.0</td>\n",
              "      <td>0.0</td>\n",
              "      <td>0.0</td>\n",
              "      <td>0.0</td>\n",
              "      <td>8.0</td>\n",
              "      <td>8.0</td>\n",
              "      <td>8.0</td>\n",
              "      <td>7.0</td>\n",
              "      <td>7.0</td>\n",
              "      <td>7.0</td>\n",
              "      <td>1.750000</td>\n",
              "      <td>1.750000</td>\n",
              "      <td>1.750000</td>\n",
              "      <td>0.00</td>\n",
              "      <td>0.000000</td>\n",
              "      <td>0.000000</td>\n",
              "    </tr>\n",
              "  </tbody>\n",
              "</table>\n",
              "<p>5 rows × 2693 columns</p>\n",
              "</div>\n",
              "      <button class=\"colab-df-convert\" onclick=\"convertToInteractive('df-c46fb685-3bec-4614-85a4-ee7d2feb207b')\"\n",
              "              title=\"Convert this dataframe to an interactive table.\"\n",
              "              style=\"display:none;\">\n",
              "        \n",
              "  <svg xmlns=\"http://www.w3.org/2000/svg\" height=\"24px\"viewBox=\"0 0 24 24\"\n",
              "       width=\"24px\">\n",
              "    <path d=\"M0 0h24v24H0V0z\" fill=\"none\"/>\n",
              "    <path d=\"M18.56 5.44l.94 2.06.94-2.06 2.06-.94-2.06-.94-.94-2.06-.94 2.06-2.06.94zm-11 1L8.5 8.5l.94-2.06 2.06-.94-2.06-.94L8.5 2.5l-.94 2.06-2.06.94zm10 10l.94 2.06.94-2.06 2.06-.94-2.06-.94-.94-2.06-.94 2.06-2.06.94z\"/><path d=\"M17.41 7.96l-1.37-1.37c-.4-.4-.92-.59-1.43-.59-.52 0-1.04.2-1.43.59L10.3 9.45l-7.72 7.72c-.78.78-.78 2.05 0 2.83L4 21.41c.39.39.9.59 1.41.59.51 0 1.02-.2 1.41-.59l7.78-7.78 2.81-2.81c.8-.78.8-2.07 0-2.86zM5.41 20L4 18.59l7.72-7.72 1.47 1.35L5.41 20z\"/>\n",
              "  </svg>\n",
              "      </button>\n",
              "      \n",
              "  <style>\n",
              "    .colab-df-container {\n",
              "      display:flex;\n",
              "      flex-wrap:wrap;\n",
              "      gap: 12px;\n",
              "    }\n",
              "\n",
              "    .colab-df-convert {\n",
              "      background-color: #E8F0FE;\n",
              "      border: none;\n",
              "      border-radius: 50%;\n",
              "      cursor: pointer;\n",
              "      display: none;\n",
              "      fill: #1967D2;\n",
              "      height: 32px;\n",
              "      padding: 0 0 0 0;\n",
              "      width: 32px;\n",
              "    }\n",
              "\n",
              "    .colab-df-convert:hover {\n",
              "      background-color: #E2EBFA;\n",
              "      box-shadow: 0px 1px 2px rgba(60, 64, 67, 0.3), 0px 1px 3px 1px rgba(60, 64, 67, 0.15);\n",
              "      fill: #174EA6;\n",
              "    }\n",
              "\n",
              "    [theme=dark] .colab-df-convert {\n",
              "      background-color: #3B4455;\n",
              "      fill: #D2E3FC;\n",
              "    }\n",
              "\n",
              "    [theme=dark] .colab-df-convert:hover {\n",
              "      background-color: #434B5C;\n",
              "      box-shadow: 0px 1px 3px 1px rgba(0, 0, 0, 0.15);\n",
              "      filter: drop-shadow(0px 1px 2px rgba(0, 0, 0, 0.3));\n",
              "      fill: #FFFFFF;\n",
              "    }\n",
              "  </style>\n",
              "\n",
              "      <script>\n",
              "        const buttonEl =\n",
              "          document.querySelector('#df-c46fb685-3bec-4614-85a4-ee7d2feb207b button.colab-df-convert');\n",
              "        buttonEl.style.display =\n",
              "          google.colab.kernel.accessAllowed ? 'block' : 'none';\n",
              "\n",
              "        async function convertToInteractive(key) {\n",
              "          const element = document.querySelector('#df-c46fb685-3bec-4614-85a4-ee7d2feb207b');\n",
              "          const dataTable =\n",
              "            await google.colab.kernel.invokeFunction('convertToInteractive',\n",
              "                                                     [key], {});\n",
              "          if (!dataTable) return;\n",
              "\n",
              "          const docLinkHtml = 'Like what you see? Visit the ' +\n",
              "            '<a target=\"_blank\" href=https://colab.research.google.com/notebooks/data_table.ipynb>data table notebook</a>'\n",
              "            + ' to learn more about interactive tables.';\n",
              "          element.innerHTML = '';\n",
              "          dataTable['output_type'] = 'display_data';\n",
              "          await google.colab.output.renderOutput(dataTable, element);\n",
              "          const docLink = document.createElement('div');\n",
              "          docLink.innerHTML = docLinkHtml;\n",
              "          element.appendChild(docLink);\n",
              "        }\n",
              "      </script>\n",
              "    </div>\n",
              "  </div>\n",
              "  "
            ],
            "text/plain": [
              "         date  OBS_tmpf_max  ...  NAMMOS12_pos_min  NAMMOS12_pos_avg\n",
              "0  2011-01-01         44.06  ...         41.666667         72.194444\n",
              "1  2011-01-02         48.02  ...         50.000000         79.581845\n",
              "2  2011-01-03         57.92  ...         22.500000         25.250000\n",
              "3  2011-01-04         55.94  ...          0.000000          0.000000\n",
              "4  2011-01-05         57.92  ...          0.000000          0.000000\n",
              "\n",
              "[5 rows x 2693 columns]"
            ]
          },
          "metadata": {},
          "execution_count": 7
        }
      ]
    },
    {
      "cell_type": "code",
      "metadata": {
        "id": "6PqOsKd8oUOe",
        "colab": {
          "base_uri": "https://localhost:8080/",
          "height": 386
        },
        "outputId": "45ff7a4a-4af2-471f-aa16-1a923b6b1973"
      },
      "source": [
        "#Last five rows\n",
        "total_dataset.tail()"
      ],
      "execution_count": null,
      "outputs": [
        {
          "output_type": "execute_result",
          "data": {
            "text/html": [
              "\n",
              "  <div id=\"df-b7be14c1-4b58-454e-a94e-461b966cca00\">\n",
              "    <div class=\"colab-df-container\">\n",
              "      <div>\n",
              "<style scoped>\n",
              "    .dataframe tbody tr th:only-of-type {\n",
              "        vertical-align: middle;\n",
              "    }\n",
              "\n",
              "    .dataframe tbody tr th {\n",
              "        vertical-align: top;\n",
              "    }\n",
              "\n",
              "    .dataframe thead th {\n",
              "        text-align: right;\n",
              "    }\n",
              "</style>\n",
              "<table border=\"1\" class=\"dataframe\">\n",
              "  <thead>\n",
              "    <tr style=\"text-align: right;\">\n",
              "      <th></th>\n",
              "      <th>date</th>\n",
              "      <th>OBS_tmpf_max</th>\n",
              "      <th>OBS_tmpf_min</th>\n",
              "      <th>OBS_sknt_max</th>\n",
              "      <th>OBS_phour</th>\n",
              "      <th>GFS0_pmsl_max</th>\n",
              "      <th>GFS0_pmsl_min</th>\n",
              "      <th>GFS0_pmsl_avg</th>\n",
              "      <th>GFS0_pres_max</th>\n",
              "      <th>GFS0_pres_min</th>\n",
              "      <th>GFS0_pres_avg</th>\n",
              "      <th>GFS0_sktc_max</th>\n",
              "      <th>GFS0_sktc_min</th>\n",
              "      <th>GFS0_sktc_avg</th>\n",
              "      <th>GFS0_stc1_max</th>\n",
              "      <th>GFS0_stc1_min</th>\n",
              "      <th>GFS0_stc1_avg</th>\n",
              "      <th>GFS0_snfl_max</th>\n",
              "      <th>GFS0_snfl_min</th>\n",
              "      <th>GFS0_snfl_avg</th>\n",
              "      <th>GFS0_wtns_max</th>\n",
              "      <th>GFS0_wtns_min</th>\n",
              "      <th>GFS0_wtns_avg</th>\n",
              "      <th>GFS0_p01m_max</th>\n",
              "      <th>GFS0_p01m_min</th>\n",
              "      <th>GFS0_p01m_avg</th>\n",
              "      <th>GFS0_c01m_max</th>\n",
              "      <th>GFS0_c01m_min</th>\n",
              "      <th>GFS0_c01m_avg</th>\n",
              "      <th>GFS0_stc2_max</th>\n",
              "      <th>GFS0_stc2_min</th>\n",
              "      <th>GFS0_stc2_avg</th>\n",
              "      <th>GFS0_lcld_max</th>\n",
              "      <th>GFS0_lcld_min</th>\n",
              "      <th>GFS0_lcld_avg</th>\n",
              "      <th>GFS0_mcld_max</th>\n",
              "      <th>GFS0_mcld_min</th>\n",
              "      <th>GFS0_mcld_avg</th>\n",
              "      <th>GFS0_hcld_max</th>\n",
              "      <th>GFS0_hcld_min</th>\n",
              "      <th>...</th>\n",
              "      <th>NAMMOS0_vis_max</th>\n",
              "      <th>NAMMOS0_vis_min</th>\n",
              "      <th>NAMMOS0_vis_avg</th>\n",
              "      <th>NAMMOS0_poz_max</th>\n",
              "      <th>NAMMOS0_poz_min</th>\n",
              "      <th>NAMMOS0_poz_avg</th>\n",
              "      <th>NAMMOS0_pos_max</th>\n",
              "      <th>NAMMOS0_pos_min</th>\n",
              "      <th>NAMMOS0_pos_avg</th>\n",
              "      <th>NAMMOS12_n_x_max</th>\n",
              "      <th>NAMMOS12_tmp_max</th>\n",
              "      <th>NAMMOS12_tmp_min</th>\n",
              "      <th>NAMMOS12_tmp_avg</th>\n",
              "      <th>NAMMOS12_dpt_max</th>\n",
              "      <th>NAMMOS12_dpt_min</th>\n",
              "      <th>NAMMOS12_dpt_avg</th>\n",
              "      <th>NAMMOS12_wdr</th>\n",
              "      <th>NAMMOS12_wsp_max</th>\n",
              "      <th>NAMMOS12_wsp_min</th>\n",
              "      <th>NAMMOS12_wsp_avg</th>\n",
              "      <th>NAMMOS12_p06_max</th>\n",
              "      <th>NAMMOS12_p06_min</th>\n",
              "      <th>NAMMOS12_p06_avg</th>\n",
              "      <th>NAMMOS12_p12_max</th>\n",
              "      <th>NAMMOS12_q06_max</th>\n",
              "      <th>NAMMOS12_q06_min</th>\n",
              "      <th>NAMMOS12_q06_avg</th>\n",
              "      <th>NAMMOS12_q12_max</th>\n",
              "      <th>NAMMOS12_cig_max</th>\n",
              "      <th>NAMMOS12_cig_min</th>\n",
              "      <th>NAMMOS12_cig_avg</th>\n",
              "      <th>NAMMOS12_vis_max</th>\n",
              "      <th>NAMMOS12_vis_min</th>\n",
              "      <th>NAMMOS12_vis_avg</th>\n",
              "      <th>NAMMOS12_poz_max</th>\n",
              "      <th>NAMMOS12_poz_min</th>\n",
              "      <th>NAMMOS12_poz_avg</th>\n",
              "      <th>NAMMOS12_pos_max</th>\n",
              "      <th>NAMMOS12_pos_min</th>\n",
              "      <th>NAMMOS12_pos_avg</th>\n",
              "    </tr>\n",
              "  </thead>\n",
              "  <tbody>\n",
              "    <tr>\n",
              "      <th>3135</th>\n",
              "      <td>2019-07-29</td>\n",
              "      <td>93.9</td>\n",
              "      <td>79.0</td>\n",
              "      <td>16.0</td>\n",
              "      <td>0.0002</td>\n",
              "      <td>1014.800000</td>\n",
              "      <td>1012.20</td>\n",
              "      <td>1013.579167</td>\n",
              "      <td>994.200000</td>\n",
              "      <td>991.700000</td>\n",
              "      <td>993.004167</td>\n",
              "      <td>39.740000</td>\n",
              "      <td>28.04</td>\n",
              "      <td>31.760833</td>\n",
              "      <td>309.200000</td>\n",
              "      <td>302.800000</td>\n",
              "      <td>305.525000</td>\n",
              "      <td>0.0</td>\n",
              "      <td>0.0</td>\n",
              "      <td>0.0</td>\n",
              "      <td>0.000000</td>\n",
              "      <td>0.000000</td>\n",
              "      <td>0.00000</td>\n",
              "      <td>0.0</td>\n",
              "      <td>0.0</td>\n",
              "      <td>0.0</td>\n",
              "      <td>0.0</td>\n",
              "      <td>0.0</td>\n",
              "      <td>0.0</td>\n",
              "      <td>0.0</td>\n",
              "      <td>0.000000</td>\n",
              "      <td>0.000000</td>\n",
              "      <td>56.000000</td>\n",
              "      <td>0.0</td>\n",
              "      <td>16.541667</td>\n",
              "      <td>100.000000</td>\n",
              "      <td>0.0</td>\n",
              "      <td>19.333333</td>\n",
              "      <td>100.000000</td>\n",
              "      <td>0.000000</td>\n",
              "      <td>...</td>\n",
              "      <td>7.0</td>\n",
              "      <td>7.0</td>\n",
              "      <td>7.0</td>\n",
              "      <td>0.0</td>\n",
              "      <td>0.0</td>\n",
              "      <td>0.0</td>\n",
              "      <td>0.0</td>\n",
              "      <td>0.0</td>\n",
              "      <td>0.0</td>\n",
              "      <td>0.0</td>\n",
              "      <td>91.0</td>\n",
              "      <td>91.0</td>\n",
              "      <td>91.0</td>\n",
              "      <td>69.0</td>\n",
              "      <td>69.0</td>\n",
              "      <td>69.0</td>\n",
              "      <td>210.0</td>\n",
              "      <td>13.0</td>\n",
              "      <td>13.0</td>\n",
              "      <td>13.0</td>\n",
              "      <td>0.0</td>\n",
              "      <td>0.0</td>\n",
              "      <td>0.0</td>\n",
              "      <td>0.0</td>\n",
              "      <td>0.0</td>\n",
              "      <td>0.0</td>\n",
              "      <td>0.0</td>\n",
              "      <td>0.0</td>\n",
              "      <td>8.0</td>\n",
              "      <td>8.0</td>\n",
              "      <td>8.0</td>\n",
              "      <td>7.0</td>\n",
              "      <td>7.0</td>\n",
              "      <td>7.0</td>\n",
              "      <td>0.0</td>\n",
              "      <td>0.0</td>\n",
              "      <td>0.0</td>\n",
              "      <td>0.0</td>\n",
              "      <td>0.0</td>\n",
              "      <td>0.0</td>\n",
              "    </tr>\n",
              "    <tr>\n",
              "      <th>3136</th>\n",
              "      <td>2019-07-30</td>\n",
              "      <td>100.0</td>\n",
              "      <td>77.0</td>\n",
              "      <td>12.0</td>\n",
              "      <td>0.0000</td>\n",
              "      <td>1016.100000</td>\n",
              "      <td>1011.60</td>\n",
              "      <td>1013.904167</td>\n",
              "      <td>995.500000</td>\n",
              "      <td>991.200000</td>\n",
              "      <td>993.366667</td>\n",
              "      <td>46.640000</td>\n",
              "      <td>27.24</td>\n",
              "      <td>35.235833</td>\n",
              "      <td>314.400000</td>\n",
              "      <td>301.800000</td>\n",
              "      <td>307.525000</td>\n",
              "      <td>0.0</td>\n",
              "      <td>0.0</td>\n",
              "      <td>0.0</td>\n",
              "      <td>0.000000</td>\n",
              "      <td>0.000000</td>\n",
              "      <td>0.00000</td>\n",
              "      <td>0.0</td>\n",
              "      <td>0.0</td>\n",
              "      <td>0.0</td>\n",
              "      <td>0.0</td>\n",
              "      <td>0.0</td>\n",
              "      <td>0.0</td>\n",
              "      <td>0.0</td>\n",
              "      <td>0.000000</td>\n",
              "      <td>0.000000</td>\n",
              "      <td>4.000000</td>\n",
              "      <td>0.0</td>\n",
              "      <td>0.458333</td>\n",
              "      <td>17.000000</td>\n",
              "      <td>0.0</td>\n",
              "      <td>0.708333</td>\n",
              "      <td>86.000000</td>\n",
              "      <td>0.000000</td>\n",
              "      <td>...</td>\n",
              "      <td>7.0</td>\n",
              "      <td>7.0</td>\n",
              "      <td>7.0</td>\n",
              "      <td>0.0</td>\n",
              "      <td>0.0</td>\n",
              "      <td>0.0</td>\n",
              "      <td>0.0</td>\n",
              "      <td>0.0</td>\n",
              "      <td>0.0</td>\n",
              "      <td>0.0</td>\n",
              "      <td>94.0</td>\n",
              "      <td>94.0</td>\n",
              "      <td>94.0</td>\n",
              "      <td>71.0</td>\n",
              "      <td>71.0</td>\n",
              "      <td>71.0</td>\n",
              "      <td>350.0</td>\n",
              "      <td>6.0</td>\n",
              "      <td>6.0</td>\n",
              "      <td>6.0</td>\n",
              "      <td>0.0</td>\n",
              "      <td>0.0</td>\n",
              "      <td>0.0</td>\n",
              "      <td>0.0</td>\n",
              "      <td>0.0</td>\n",
              "      <td>0.0</td>\n",
              "      <td>0.0</td>\n",
              "      <td>0.0</td>\n",
              "      <td>8.0</td>\n",
              "      <td>8.0</td>\n",
              "      <td>8.0</td>\n",
              "      <td>7.0</td>\n",
              "      <td>7.0</td>\n",
              "      <td>7.0</td>\n",
              "      <td>0.0</td>\n",
              "      <td>0.0</td>\n",
              "      <td>0.0</td>\n",
              "      <td>0.0</td>\n",
              "      <td>0.0</td>\n",
              "      <td>0.0</td>\n",
              "    </tr>\n",
              "    <tr>\n",
              "      <th>3137</th>\n",
              "      <td>2019-07-31</td>\n",
              "      <td>97.0</td>\n",
              "      <td>75.0</td>\n",
              "      <td>11.0</td>\n",
              "      <td>0.0000</td>\n",
              "      <td>1016.200000</td>\n",
              "      <td>1012.80</td>\n",
              "      <td>1014.329167</td>\n",
              "      <td>995.600000</td>\n",
              "      <td>992.400000</td>\n",
              "      <td>993.833333</td>\n",
              "      <td>43.440000</td>\n",
              "      <td>29.64</td>\n",
              "      <td>35.619167</td>\n",
              "      <td>313.200000</td>\n",
              "      <td>304.000000</td>\n",
              "      <td>308.370833</td>\n",
              "      <td>0.0</td>\n",
              "      <td>0.0</td>\n",
              "      <td>0.0</td>\n",
              "      <td>0.000000</td>\n",
              "      <td>0.000000</td>\n",
              "      <td>0.00000</td>\n",
              "      <td>0.0</td>\n",
              "      <td>0.0</td>\n",
              "      <td>0.0</td>\n",
              "      <td>0.0</td>\n",
              "      <td>0.0</td>\n",
              "      <td>0.0</td>\n",
              "      <td>0.0</td>\n",
              "      <td>0.000000</td>\n",
              "      <td>0.000000</td>\n",
              "      <td>2.000000</td>\n",
              "      <td>0.0</td>\n",
              "      <td>0.083333</td>\n",
              "      <td>0.000000</td>\n",
              "      <td>0.0</td>\n",
              "      <td>0.000000</td>\n",
              "      <td>100.000000</td>\n",
              "      <td>0.000000</td>\n",
              "      <td>...</td>\n",
              "      <td>7.0</td>\n",
              "      <td>7.0</td>\n",
              "      <td>7.0</td>\n",
              "      <td>0.0</td>\n",
              "      <td>0.0</td>\n",
              "      <td>0.0</td>\n",
              "      <td>0.0</td>\n",
              "      <td>0.0</td>\n",
              "      <td>0.0</td>\n",
              "      <td>0.0</td>\n",
              "      <td>92.0</td>\n",
              "      <td>92.0</td>\n",
              "      <td>92.0</td>\n",
              "      <td>69.0</td>\n",
              "      <td>69.0</td>\n",
              "      <td>69.0</td>\n",
              "      <td>140.0</td>\n",
              "      <td>9.0</td>\n",
              "      <td>9.0</td>\n",
              "      <td>9.0</td>\n",
              "      <td>0.0</td>\n",
              "      <td>0.0</td>\n",
              "      <td>0.0</td>\n",
              "      <td>0.0</td>\n",
              "      <td>0.0</td>\n",
              "      <td>0.0</td>\n",
              "      <td>0.0</td>\n",
              "      <td>0.0</td>\n",
              "      <td>8.0</td>\n",
              "      <td>8.0</td>\n",
              "      <td>8.0</td>\n",
              "      <td>7.0</td>\n",
              "      <td>7.0</td>\n",
              "      <td>7.0</td>\n",
              "      <td>0.0</td>\n",
              "      <td>0.0</td>\n",
              "      <td>0.0</td>\n",
              "      <td>0.0</td>\n",
              "      <td>0.0</td>\n",
              "      <td>0.0</td>\n",
              "    </tr>\n",
              "    <tr>\n",
              "      <th>3138</th>\n",
              "      <td>2019-08-01</td>\n",
              "      <td>93.9</td>\n",
              "      <td>78.1</td>\n",
              "      <td>10.0</td>\n",
              "      <td>0.0000</td>\n",
              "      <td>1016.500000</td>\n",
              "      <td>1011.90</td>\n",
              "      <td>1014.622222</td>\n",
              "      <td>995.900000</td>\n",
              "      <td>991.500000</td>\n",
              "      <td>994.122222</td>\n",
              "      <td>43.440000</td>\n",
              "      <td>29.54</td>\n",
              "      <td>35.828889</td>\n",
              "      <td>313.600000</td>\n",
              "      <td>304.200000</td>\n",
              "      <td>307.916667</td>\n",
              "      <td>0.0</td>\n",
              "      <td>0.0</td>\n",
              "      <td>0.0</td>\n",
              "      <td>0.000000</td>\n",
              "      <td>0.000000</td>\n",
              "      <td>0.00000</td>\n",
              "      <td>0.0</td>\n",
              "      <td>0.0</td>\n",
              "      <td>0.0</td>\n",
              "      <td>0.0</td>\n",
              "      <td>0.0</td>\n",
              "      <td>0.0</td>\n",
              "      <td>0.0</td>\n",
              "      <td>0.000000</td>\n",
              "      <td>0.000000</td>\n",
              "      <td>0.000000</td>\n",
              "      <td>0.0</td>\n",
              "      <td>0.000000</td>\n",
              "      <td>0.000000</td>\n",
              "      <td>0.0</td>\n",
              "      <td>0.000000</td>\n",
              "      <td>100.000000</td>\n",
              "      <td>0.000000</td>\n",
              "      <td>...</td>\n",
              "      <td>7.0</td>\n",
              "      <td>7.0</td>\n",
              "      <td>7.0</td>\n",
              "      <td>0.0</td>\n",
              "      <td>0.0</td>\n",
              "      <td>0.0</td>\n",
              "      <td>0.0</td>\n",
              "      <td>0.0</td>\n",
              "      <td>0.0</td>\n",
              "      <td>0.0</td>\n",
              "      <td>93.0</td>\n",
              "      <td>93.0</td>\n",
              "      <td>93.0</td>\n",
              "      <td>70.0</td>\n",
              "      <td>70.0</td>\n",
              "      <td>70.0</td>\n",
              "      <td>160.0</td>\n",
              "      <td>7.0</td>\n",
              "      <td>7.0</td>\n",
              "      <td>7.0</td>\n",
              "      <td>0.0</td>\n",
              "      <td>0.0</td>\n",
              "      <td>0.0</td>\n",
              "      <td>0.0</td>\n",
              "      <td>0.0</td>\n",
              "      <td>0.0</td>\n",
              "      <td>0.0</td>\n",
              "      <td>0.0</td>\n",
              "      <td>8.0</td>\n",
              "      <td>8.0</td>\n",
              "      <td>8.0</td>\n",
              "      <td>7.0</td>\n",
              "      <td>7.0</td>\n",
              "      <td>7.0</td>\n",
              "      <td>0.0</td>\n",
              "      <td>0.0</td>\n",
              "      <td>0.0</td>\n",
              "      <td>0.0</td>\n",
              "      <td>0.0</td>\n",
              "      <td>0.0</td>\n",
              "    </tr>\n",
              "    <tr>\n",
              "      <th>3142</th>\n",
              "      <td>2019-08-02</td>\n",
              "      <td>0.0</td>\n",
              "      <td>0.0</td>\n",
              "      <td>0.0</td>\n",
              "      <td>0.0000</td>\n",
              "      <td>1014.316667</td>\n",
              "      <td>1013.35</td>\n",
              "      <td>1013.875763</td>\n",
              "      <td>994.466667</td>\n",
              "      <td>993.466667</td>\n",
              "      <td>993.985180</td>\n",
              "      <td>35.573333</td>\n",
              "      <td>29.54</td>\n",
              "      <td>31.652408</td>\n",
              "      <td>308.233333</td>\n",
              "      <td>304.833333</td>\n",
              "      <td>306.194918</td>\n",
              "      <td>0.0</td>\n",
              "      <td>0.0</td>\n",
              "      <td>0.0</td>\n",
              "      <td>12.333333</td>\n",
              "      <td>12.166667</td>\n",
              "      <td>12.24359</td>\n",
              "      <td>0.0</td>\n",
              "      <td>0.0</td>\n",
              "      <td>0.0</td>\n",
              "      <td>0.0</td>\n",
              "      <td>0.0</td>\n",
              "      <td>0.0</td>\n",
              "      <td>204.7</td>\n",
              "      <td>204.416667</td>\n",
              "      <td>204.559982</td>\n",
              "      <td>42.333333</td>\n",
              "      <td>0.0</td>\n",
              "      <td>10.402930</td>\n",
              "      <td>1.833333</td>\n",
              "      <td>0.0</td>\n",
              "      <td>0.388889</td>\n",
              "      <td>46.666667</td>\n",
              "      <td>0.166667</td>\n",
              "      <td>...</td>\n",
              "      <td>7.0</td>\n",
              "      <td>7.0</td>\n",
              "      <td>7.0</td>\n",
              "      <td>0.0</td>\n",
              "      <td>0.0</td>\n",
              "      <td>0.0</td>\n",
              "      <td>0.0</td>\n",
              "      <td>0.0</td>\n",
              "      <td>0.0</td>\n",
              "      <td>0.0</td>\n",
              "      <td>92.0</td>\n",
              "      <td>92.0</td>\n",
              "      <td>92.0</td>\n",
              "      <td>65.0</td>\n",
              "      <td>65.0</td>\n",
              "      <td>65.0</td>\n",
              "      <td>130.0</td>\n",
              "      <td>9.0</td>\n",
              "      <td>9.0</td>\n",
              "      <td>9.0</td>\n",
              "      <td>0.0</td>\n",
              "      <td>0.0</td>\n",
              "      <td>0.0</td>\n",
              "      <td>0.0</td>\n",
              "      <td>0.0</td>\n",
              "      <td>0.0</td>\n",
              "      <td>0.0</td>\n",
              "      <td>0.0</td>\n",
              "      <td>8.0</td>\n",
              "      <td>8.0</td>\n",
              "      <td>8.0</td>\n",
              "      <td>7.0</td>\n",
              "      <td>7.0</td>\n",
              "      <td>7.0</td>\n",
              "      <td>0.0</td>\n",
              "      <td>0.0</td>\n",
              "      <td>0.0</td>\n",
              "      <td>0.0</td>\n",
              "      <td>0.0</td>\n",
              "      <td>0.0</td>\n",
              "    </tr>\n",
              "  </tbody>\n",
              "</table>\n",
              "<p>5 rows × 2693 columns</p>\n",
              "</div>\n",
              "      <button class=\"colab-df-convert\" onclick=\"convertToInteractive('df-b7be14c1-4b58-454e-a94e-461b966cca00')\"\n",
              "              title=\"Convert this dataframe to an interactive table.\"\n",
              "              style=\"display:none;\">\n",
              "        \n",
              "  <svg xmlns=\"http://www.w3.org/2000/svg\" height=\"24px\"viewBox=\"0 0 24 24\"\n",
              "       width=\"24px\">\n",
              "    <path d=\"M0 0h24v24H0V0z\" fill=\"none\"/>\n",
              "    <path d=\"M18.56 5.44l.94 2.06.94-2.06 2.06-.94-2.06-.94-.94-2.06-.94 2.06-2.06.94zm-11 1L8.5 8.5l.94-2.06 2.06-.94-2.06-.94L8.5 2.5l-.94 2.06-2.06.94zm10 10l.94 2.06.94-2.06 2.06-.94-2.06-.94-.94-2.06-.94 2.06-2.06.94z\"/><path d=\"M17.41 7.96l-1.37-1.37c-.4-.4-.92-.59-1.43-.59-.52 0-1.04.2-1.43.59L10.3 9.45l-7.72 7.72c-.78.78-.78 2.05 0 2.83L4 21.41c.39.39.9.59 1.41.59.51 0 1.02-.2 1.41-.59l7.78-7.78 2.81-2.81c.8-.78.8-2.07 0-2.86zM5.41 20L4 18.59l7.72-7.72 1.47 1.35L5.41 20z\"/>\n",
              "  </svg>\n",
              "      </button>\n",
              "      \n",
              "  <style>\n",
              "    .colab-df-container {\n",
              "      display:flex;\n",
              "      flex-wrap:wrap;\n",
              "      gap: 12px;\n",
              "    }\n",
              "\n",
              "    .colab-df-convert {\n",
              "      background-color: #E8F0FE;\n",
              "      border: none;\n",
              "      border-radius: 50%;\n",
              "      cursor: pointer;\n",
              "      display: none;\n",
              "      fill: #1967D2;\n",
              "      height: 32px;\n",
              "      padding: 0 0 0 0;\n",
              "      width: 32px;\n",
              "    }\n",
              "\n",
              "    .colab-df-convert:hover {\n",
              "      background-color: #E2EBFA;\n",
              "      box-shadow: 0px 1px 2px rgba(60, 64, 67, 0.3), 0px 1px 3px 1px rgba(60, 64, 67, 0.15);\n",
              "      fill: #174EA6;\n",
              "    }\n",
              "\n",
              "    [theme=dark] .colab-df-convert {\n",
              "      background-color: #3B4455;\n",
              "      fill: #D2E3FC;\n",
              "    }\n",
              "\n",
              "    [theme=dark] .colab-df-convert:hover {\n",
              "      background-color: #434B5C;\n",
              "      box-shadow: 0px 1px 3px 1px rgba(0, 0, 0, 0.15);\n",
              "      filter: drop-shadow(0px 1px 2px rgba(0, 0, 0, 0.3));\n",
              "      fill: #FFFFFF;\n",
              "    }\n",
              "  </style>\n",
              "\n",
              "      <script>\n",
              "        const buttonEl =\n",
              "          document.querySelector('#df-b7be14c1-4b58-454e-a94e-461b966cca00 button.colab-df-convert');\n",
              "        buttonEl.style.display =\n",
              "          google.colab.kernel.accessAllowed ? 'block' : 'none';\n",
              "\n",
              "        async function convertToInteractive(key) {\n",
              "          const element = document.querySelector('#df-b7be14c1-4b58-454e-a94e-461b966cca00');\n",
              "          const dataTable =\n",
              "            await google.colab.kernel.invokeFunction('convertToInteractive',\n",
              "                                                     [key], {});\n",
              "          if (!dataTable) return;\n",
              "\n",
              "          const docLinkHtml = 'Like what you see? Visit the ' +\n",
              "            '<a target=\"_blank\" href=https://colab.research.google.com/notebooks/data_table.ipynb>data table notebook</a>'\n",
              "            + ' to learn more about interactive tables.';\n",
              "          element.innerHTML = '';\n",
              "          dataTable['output_type'] = 'display_data';\n",
              "          await google.colab.output.renderOutput(dataTable, element);\n",
              "          const docLink = document.createElement('div');\n",
              "          docLink.innerHTML = docLinkHtml;\n",
              "          element.appendChild(docLink);\n",
              "        }\n",
              "      </script>\n",
              "    </div>\n",
              "  </div>\n",
              "  "
            ],
            "text/plain": [
              "            date  OBS_tmpf_max  ...  NAMMOS12_pos_min  NAMMOS12_pos_avg\n",
              "3135  2019-07-29          93.9  ...               0.0               0.0\n",
              "3136  2019-07-30         100.0  ...               0.0               0.0\n",
              "3137  2019-07-31          97.0  ...               0.0               0.0\n",
              "3138  2019-08-01          93.9  ...               0.0               0.0\n",
              "3142  2019-08-02           0.0  ...               0.0               0.0\n",
              "\n",
              "[5 rows x 2693 columns]"
            ]
          },
          "metadata": {},
          "execution_count": 8
        }
      ]
    },
    {
      "cell_type": "markdown",
      "metadata": {
        "id": "NXhiREAB9bI4"
      },
      "source": [
        "# **Data Pre-processing**"
      ]
    },
    {
      "cell_type": "markdown",
      "metadata": {
        "id": "TRevmGVWDzgI"
      },
      "source": [
        "## Partitioning Data\n",
        "\n",
        "* Training Set\n",
        "* Validation Set\n",
        "* Testing Set\n",
        "\n",
        "1. During the training process, only use the training set to train the model. \n",
        "\n",
        "2. Then, validate the model with the validation set. \n",
        "\n",
        "3. If results are not desirable, identify potential flaws in your system and go back to the step 1. If the results are sensible, move on to the next step.\n",
        "\n",
        "4. Test your model on the testing set and share your findings!\n",
        "\n",
        "\n",
        "Here, for the simplicity, we only use training (80%) and testing set (20%). "
      ]
    },
    {
      "cell_type": "code",
      "metadata": {
        "id": "waIUkqG-FKvq",
        "colab": {
          "base_uri": "https://localhost:8080/"
        },
        "outputId": "c3213578-42dc-4a8a-e599-619fe359fbda"
      },
      "source": [
        "#first, we seperate the observation (true value) from the features/predictors\n",
        "#Observation data\n",
        "total_label_data = total_dataset.filter(like='OBS')\n",
        "\n",
        "#remove obs data and date from the feature set\n",
        "dropCols = list(total_label_data.columns) # + ['date']\n",
        "total_feature_data = total_dataset.copy(deep=True)\n",
        "total_feature_data = total_feature_data.drop(dropCols,axis=1)\n",
        "\n",
        "#look at the shape of each array again\n",
        "print(total_dataset.shape)\n",
        "print(total_label_data.shape)\n",
        "print(total_label_data.columns)\n",
        "print(total_feature_data.shape)\n",
        "print(total_feature_data.columns)\n"
      ],
      "execution_count": null,
      "outputs": [
        {
          "output_type": "stream",
          "name": "stdout",
          "text": [
            "(3143, 2693)\n",
            "(3143, 4)\n",
            "Index(['OBS_tmpf_max', 'OBS_tmpf_min', 'OBS_sknt_max', 'OBS_phour'], dtype='object')\n",
            "(3143, 2689)\n",
            "Index(['date', 'GFS0_pmsl_max', 'GFS0_pmsl_min', 'GFS0_pmsl_avg',\n",
            "       'GFS0_pres_max', 'GFS0_pres_min', 'GFS0_pres_avg', 'GFS0_sktc_max',\n",
            "       'GFS0_sktc_min', 'GFS0_sktc_avg',\n",
            "       ...\n",
            "       'NAMMOS12_cig_avg', 'NAMMOS12_vis_max', 'NAMMOS12_vis_min',\n",
            "       'NAMMOS12_vis_avg', 'NAMMOS12_poz_max', 'NAMMOS12_poz_min',\n",
            "       'NAMMOS12_poz_avg', 'NAMMOS12_pos_max', 'NAMMOS12_pos_min',\n",
            "       'NAMMOS12_pos_avg'],\n",
            "      dtype='object', length=2689)\n"
          ]
        }
      ]
    },
    {
      "cell_type": "markdown",
      "metadata": {
        "id": "J0qUlAzGhK89"
      },
      "source": [
        "### Data Visualization\n"
      ]
    },
    {
      "cell_type": "code",
      "metadata": {
        "colab": {
          "base_uri": "https://localhost:8080/",
          "height": 375
        },
        "id": "EOMiLO9_hHqm",
        "outputId": "3422577c-b5c1-477c-de5a-98b0abdd8689"
      },
      "source": [
        "# visualization\n",
        "\n",
        "fig, ax = plt.subplots(figsize=(15,5))\n",
        "\n",
        "labels = total_dataset['date'].values\n",
        "data_label_pair = [('Max',total_label_data['OBS_tmpf_max'])]\n",
        "\n",
        "for label,temp in data_label_pair:\n",
        "  plt.plot(np.arange(len(labels)),temp,label=label)\n",
        "\n",
        "ax.set_xticks(np.arange(len(labels))[::500]) \n",
        "ax.set_xticklabels(labels[::500])\n",
        "plt.ylabel(\"Temperature $\\circ$F\",fontsize=14)\n",
        "plt.xlabel(\"Date\",fontsize=14)\n",
        "plt.legend(loc='upper right',fontsize=18)\n",
        "plt.title('Max Temperature between Jan 2011 to Aug 2019', fontsize=18)"
      ],
      "execution_count": null,
      "outputs": [
        {
          "output_type": "execute_result",
          "data": {
            "text/plain": [
              "Text(0.5, 1.0, 'Max Temperature between Jan 2011 to Aug 2019')"
            ]
          },
          "metadata": {},
          "execution_count": 10
        },
        {
          "output_type": "display_data",
          "data": {
            "image/png": "[encoded data removed]",
            "text/plain": [
              "<Figure size 1080x360 with 1 Axes>"
            ]
          },
          "metadata": {
            "needs_background": "light"
          }
        }
      ]
    },
    {
      "cell_type": "code",
      "metadata": {
        "id": "yiEjTIIDcA8W"
      },
      "source": [
        "# However, the number of features is too big for our dataset. \n",
        "# For now, let's try with only 50 features from GFS model \n",
        "feature_list = total_feature_data.iloc[:,:51] #date + 50 features\n",
        "\n",
        "# we only need maximum temperature from obs\n",
        "class_list = total_label_data['OBS_tmpf_max'][:]"
      ],
      "execution_count": null,
      "outputs": []
    },
    {
      "cell_type": "code",
      "metadata": {
        "id": "VD6r7tUmkmo2"
      },
      "source": [
        "# Function to split data based on given dates\n",
        "def split_data_year(input_data,labels,start_date_str,end_date_str):\n",
        "  data = input_data.copy()\n",
        "  date_list = pd.to_datetime(data['date'])\n",
        "  date_mask = (date_list > start_date_str) & (date_list <= end_date_str)\n",
        "  out_data = data.loc[date_mask,:].drop(['date'],axis=1)\n",
        "  out_labels = labels.loc[date_mask]\n",
        "  return out_data,out_labels"
      ],
      "execution_count": null,
      "outputs": []
    },
    {
      "cell_type": "markdown",
      "metadata": {
        "id": "APtspvE2ksvN"
      },
      "source": [
        "### *Exercise*\n",
        "\n",
        "Use only 2018 data, design a simple model to predict max temperature.\n",
        "\n",
        "Case 1"
      ]
    },
    {
      "cell_type": "code",
      "metadata": {
        "id": "6-TFGIIVmCAF"
      },
      "source": [
        "# take only 2018 data\n",
        "all_x_2018, all_y_2018 = split_data_year(feature_list, class_list,'2018-01-01','2018-12-31')\n",
        "\n",
        "# randomly split 80% data for training set and 20% data for testing set\n",
        "train_x, test_x, train_y, test_y = train_test_split(all_x_2018, all_y_2018, train_size=0.8)"
      ],
      "execution_count": null,
      "outputs": []
    },
    {
      "cell_type": "code",
      "metadata": {
        "colab": {
          "base_uri": "https://localhost:8080/"
        },
        "id": "WSBJJCvqyYSR",
        "outputId": "3929eca0-c04b-44a2-b8ad-335c7ba66ae8"
      },
      "source": [
        "print(f'Training data shape: {train_x.shape}')\n",
        "print(f'Observation data shape: {train_y.shape}')\n",
        "print(f'Testing data shape: {test_x.shape}')"
      ],
      "execution_count": null,
      "outputs": [
        {
          "output_type": "stream",
          "text": [
            "Training data shape: (292, 50)\n",
            "Observation data shape: (292,)\n",
            "Testing data shape: (74, 50)\n"
          ],
          "name": "stdout"
        }
      ]
    },
    {
      "cell_type": "code",
      "metadata": {
        "id": "IdDajh_uFKqK",
        "colab": {
          "base_uri": "https://localhost:8080/"
        },
        "outputId": "bf6d8082-b779-45e4-847a-23af4db855e1"
      },
      "source": [
        "# Train and evaluate the model to predict max temperature\n",
        "linear_regression_model = LinearRegression()\n",
        "\n",
        "#Train\n",
        "linear_regression_model.fit(train_x.values,train_y.values)\n",
        "\n",
        "# score on training set\n",
        "score = linear_regression_model.score(train_x.values,train_y.values)\n",
        "print(f'R squared score on training set: {score}')\n",
        "\n",
        "# score on testing set\n",
        "score = linear_regression_model.score(test_x.values,test_y.values)\n",
        "print(f'R squared score on testing set: {score}')\n"
      ],
      "execution_count": null,
      "outputs": [
        {
          "output_type": "stream",
          "text": [
            "R squared score on training set: 0.9732699415292546\n",
            "R squared score on testing set: 0.9610550202638286\n"
          ],
          "name": "stdout"
        }
      ]
    },
    {
      "cell_type": "markdown",
      "metadata": {
        "id": "XU8015AnkSPY"
      },
      "source": [
        "**Question**\n",
        "\n",
        "Is this result credible?\n",
        "\n",
        "Case 2"
      ]
    },
    {
      "cell_type": "code",
      "metadata": {
        "colab": {
          "base_uri": "https://localhost:8080/"
        },
        "id": "0mkCz0mknBWb",
        "outputId": "2aa79874-fa72-4d0b-d177-9bea79dfbed6"
      },
      "source": [
        "train_x, train_y=split_data_year(feature_list, class_list,'2018-01-01','2018-9-30')\n",
        "test_x, test_y=split_data_year(feature_list, class_list,'2018-10-01','2018-12-31')\n",
        "\n",
        "# Train and evaluate the model to predict max temperature\n",
        "linear_regression_model = LinearRegression()\n",
        "\n",
        "#Train\n",
        "linear_regression_model.fit(train_x.values,train_y.values)\n",
        "# Evaluate R^2\n",
        "print(f'Training data shape: {train_x.shape}')\n",
        "print(f'Observation data shape: {train_y.shape}')\n",
        "print(f'Testing data shape: {test_x.shape}')\n",
        "\n",
        "score = linear_regression_model.score(train_x.values,train_y.values)\n",
        "print(f'R squared score on training set: {score}')\n",
        "\n",
        "score = linear_regression_model.score(test_x.values,test_y.values)\n",
        "print(f'R squared score on testing set: {score}')"
      ],
      "execution_count": null,
      "outputs": [
        {
          "output_type": "stream",
          "text": [
            "Training data shape: (274, 50)\n",
            "Observation data shape: (274,)\n",
            "Testing data shape: (91, 50)\n",
            "R squared score on training set: 0.9734015530015852\n",
            "R squared score on testing set: 0.898175623340627\n"
          ],
          "name": "stdout"
        }
      ]
    },
    {
      "cell_type": "markdown",
      "metadata": {
        "id": "HTGgzTf0gXzd"
      },
      "source": [
        "\n",
        " **Questions** \n",
        "\n",
        "Why is testing score lower with the second data splitting method?\n",
        "\n",
        "Why isn't training score perfect?"
      ]
    },
    {
      "cell_type": "markdown",
      "metadata": {
        "id": "JY3JSGerCJsU"
      },
      "source": [
        "In Case 1, the training and testing set were both randomly selected from the entire 2018 dataset. This splitting method is not very sensible with our dataset. Here, the purpose of this ML model is for predicting future unknowns, instead of any historical data. The splitting method in Case 2 reserve October to December data for the testing set, which serves as the \"future\" unknown data for the model. In this case, the performance evaluation is more credible than the first case. "
      ]
    },
    {
      "cell_type": "markdown",
      "metadata": {
        "id": "BnPHI0_1njg8"
      },
      "source": [
        "### *Split the entire dataset*\n",
        "\n",
        "use 2011-2017 as the training set\n",
        "use 2018-2019 as the testing set"
      ]
    },
    {
      "cell_type": "code",
      "metadata": {
        "id": "NjKzBK2FJJ2F",
        "colab": {
          "base_uri": "https://localhost:8080/"
        },
        "outputId": "d1ba55d4-b24d-47bd-9240-33e4fcc6a915"
      },
      "source": [
        "#Training data between 2011 and 2017\n",
        "train_x, train_y = split_data_year(feature_list, class_list,'2011-01-01','2017-12-31')\n",
        "\n",
        "#Testing data between 2018 and 2019\n",
        "test_x, test_y = split_data_year(feature_list, class_list,'2018-01-01','2019-12-31')\n",
        "\n",
        "print(train_x.shape)\n",
        "print(test_x.shape)"
      ],
      "execution_count": null,
      "outputs": [
        {
          "output_type": "stream",
          "name": "stdout",
          "text": [
            "(2558, 50)\n",
            "(583, 50)\n"
          ]
        }
      ]
    },
    {
      "cell_type": "code",
      "metadata": {
        "colab": {
          "base_uri": "https://localhost:8080/"
        },
        "id": "niGKFZWojbNL",
        "outputId": "a796853d-f287-446d-d8fb-44aefa2643a9"
      },
      "source": [
        "linear_regression_model = LinearRegression()\n",
        "#Train\n",
        "linear_regression_model.fit(train_x.values,train_y.values)\n",
        "# Evaluate R^2\n",
        "print(f'Testing data shape: {train_x.shape}')\n",
        "print(f'Observation data shape: {train_y.shape}')\n",
        "\n",
        "score = linear_regression_model.score(train_x.values,train_y.values)\n",
        "print(f'R squared score on training set: {score}')\n",
        "\n",
        "score = linear_regression_model.score(test_x.values,test_y.values)\n",
        "print(f'R squared score on testing set: {score}')"
      ],
      "execution_count": null,
      "outputs": [
        {
          "output_type": "stream",
          "name": "stdout",
          "text": [
            "Testing data shape: (2558, 50)\n",
            "Observation data shape: (2558,)\n",
            "R squared score on training set: 0.9264299564913565\n",
            "R squared score on testing set: 0.8493050236751036\n"
          ]
        }
      ]
    },
    {
      "cell_type": "markdown",
      "metadata": {
        "id": "oRLMp9FzJuii"
      },
      "source": [
        "### Dataset independence \n",
        "- **Critical** when deploying machine learning models. \n",
        "  - Training and evaluating on the same data gives an unrealistic view of how the model will perform on new data\n",
        "  - Instead, split the data into **training** and **testing** datasets that are independent enough to provide a clear picture"
      ]
    },
    {
      "cell_type": "markdown",
      "metadata": {
        "id": "PVfCrMfOTZdd"
      },
      "source": [
        "## Transforming Data"
      ]
    },
    {
      "cell_type": "markdown",
      "metadata": {
        "id": "A7l4eHCtTv99"
      },
      "source": [
        "### Normalization and Scaling"
      ]
    },
    {
      "cell_type": "markdown",
      "metadata": {
        "id": "I7qkRpsbHRsf"
      },
      "source": [
        " \n",
        "Why should you scale your data?\n"
      ]
    },
    {
      "cell_type": "code",
      "metadata": {
        "colab": {
          "base_uri": "https://localhost:8080/"
        },
        "id": "NF8CZdmyxoOm",
        "outputId": "fbabd5b9-63b1-45d4-cb09-fc4d95fd9831"
      },
      "source": [
        "# see the ranges of features: GFS0_pmsl_max GFS0_sktc_max\n",
        "# PMSL - Mean sea level pressure (hPa)\n",
        "max1=train_x['GFS0_pmsl_max'].max(axis=0)\n",
        "min1=train_x['GFS0_pmsl_max'].min(axis=0)\n",
        "range1=max1-min1\n",
        "print(\"Feature: GFS0_pmsl_max\")\n",
        "print(\"range: \"+str(range1))\n",
        "print(\"max: \"+str(max1))\n",
        "print(\"min: \"+str(min1))\n",
        "\n",
        "print(\"\")\n",
        "\n",
        "# SKTC - Skin temperature (C)\n",
        "max2=train_x['GFS0_sktc_max'].max(axis=0)\n",
        "min2=train_x['GFS0_sktc_max'].min(axis=0)\n",
        "range2=max2-min2\n",
        "print(\"Feature: GFS0_sktc_max\")\n",
        "print(\"range: \"+str(range2))\n",
        "print(\"max: \"+str(max2))\n",
        "print(\"min: \"+str(min2))\n"
      ],
      "execution_count": null,
      "outputs": [
        {
          "output_type": "stream",
          "name": "stdout",
          "text": [
            "Feature: GFS0_pmsl_max\n",
            "range: 40.799999999999955\n",
            "max: 1044.5\n",
            "min: 1003.7\n",
            "\n",
            "Feature: GFS0_sktc_max\n",
            "range: 55.54\n",
            "max: 53.64\n",
            "min: -1.9\n"
          ]
        }
      ]
    },
    {
      "cell_type": "markdown",
      "metadata": {
        "id": "0GPBQIQm3Crz"
      },
      "source": [
        "- Data variables with different scales affects what variables the ML models find important, i.e., MSLP dominants in our case\n",
        "\n",
        "\n",
        "- Normalizing or scaling data removes this issue.\n",
        "\n",
        "\n",
        "\n",
        "- More details about each transformation method can be found [here](https://scikit-learn.org/stable/auto_examples/preprocessing/plot_all_scaling.html#sphx-glr-auto-examples-preprocessing-plot-all-scaling-py)\n"
      ]
    },
    {
      "cell_type": "markdown",
      "metadata": {
        "id": "gcRlVAs3HRkq"
      },
      "source": [
        "***MinMaxScaler***\n",
        "\n",
        "Scalar = $\\frac{x_{i} - min(x)}{max(x) - min(x)}$\n",
        "\n",
        "Scales data between 0 and 1 based on training data minimum and maximum values"
      ]
    },
    {
      "cell_type": "code",
      "metadata": {
        "id": "Pp7WAuz3Ky6D",
        "colab": {
          "base_uri": "https://localhost:8080/"
        },
        "outputId": "0988abc7-7670-4026-dee7-4a5b745bce11"
      },
      "source": [
        "from sklearn.preprocessing import MinMaxScaler\n",
        "\n",
        "# Fit/find minimum and maximum value for each input variable\n",
        "min_max_model = MinMaxScaler().fit(train_x)\n",
        "\n",
        "# This saves the values to apply or 'transform' testing data\n",
        "train_x_minmax = min_max_model.transform(train_x)\n",
        "\n",
        "print('Training data range \\nMax:',np.nanmax(train_x_minmax),', Min:',np.nanmin(train_x_minmax))\n",
        "\n",
        "# Apply the min/max values to testing data\n",
        "test_x_minmax = min_max_model.transform(test_x)\n",
        "\n",
        "print('\\nTesting data range \\nMax:',np.nanmax(test_x_minmax),\n",
        "    ', Min:',np.nanmin(test_x_minmax))"
      ],
      "execution_count": null,
      "outputs": [
        {
          "output_type": "stream",
          "name": "stdout",
          "text": [
            "Training data range \n",
            "Max: 1.0 , Min: 0.0\n",
            "\n",
            "Testing data range \n",
            "Max: 243.26 , Min: -0.019607843137258385\n"
          ]
        }
      ]
    },
    {
      "cell_type": "markdown",
      "metadata": {
        "id": "n7JM05pYRERu"
      },
      "source": [
        "***StandardScaler***\n",
        "\n",
        "Scalar = $\\frac{x_{i}-mean(x)}{stdev(x)}$\n",
        "\n",
        "Scaled data normally distributed, mean of zero, and unit variance using training data mean and standard deviation values.\n"
      ]
    },
    {
      "cell_type": "code",
      "metadata": {
        "id": "UYXHk-d-Q0Ku",
        "colab": {
          "base_uri": "https://localhost:8080/"
        },
        "outputId": "04080a31-1c71-4f8f-b746-2fad53443b9b"
      },
      "source": [
        "from sklearn.preprocessing import StandardScaler\n",
        "\n",
        "standard_model = StandardScaler().fit(train_x)\n",
        "train_x_std = standard_model.transform(train_x)\n",
        "\n",
        "print('Training data range \\nMean:',np.nanmean(train_x_std),\n",
        "    ', Standard Dev:',np.nanstd(train_x_std))\n",
        "\n",
        "test_x_std = standard_model.transform(test_x)\n",
        "print('\\nTesting data range \\nMean:',np.nanmean(test_x_std),\n",
        "    ', Standard Dev:',np.nanstd(test_x_std))"
      ],
      "execution_count": null,
      "outputs": [
        {
          "output_type": "stream",
          "name": "stdout",
          "text": [
            "Training data range \n",
            "Mean: 1.4335019141662038e-15 , Standard Dev: 0.7348469228349535\n",
            "\n",
            "Testing data range \n",
            "Mean: 0.2019871757498234 , Standard Dev: 4.999869947646501\n"
          ]
        }
      ]
    },
    {
      "cell_type": "code",
      "metadata": {
        "colab": {
          "base_uri": "https://localhost:8080/"
        },
        "id": "Wm0x2UIh-e6P",
        "outputId": "96821c1e-4f4e-4265-8dd2-fd627b9ea352"
      },
      "source": [
        "from sklearn.neighbors import KNeighborsRegressor\n",
        "\n",
        "K=11\n",
        "knn=KNeighborsRegressor(n_neighbors=K,weights='distance')\n",
        "knn.fit(train_x, train_y)\n",
        "print(\"before: \",knn.score(test_x,test_y))\n",
        "\n",
        "knn=KNeighborsRegressor(n_neighbors=K,weights='distance')\n",
        "knn.fit(train_x_std, train_y)\n",
        "print(\"after:  \",knn.score(test_x_std,test_y))\n"
      ],
      "execution_count": null,
      "outputs": [
        {
          "output_type": "stream",
          "name": "stdout",
          "text": [
            "before:  0.7581977133889493\n",
            "after:   0.8023286330780351\n"
          ]
        }
      ]
    },
    {
      "cell_type": "code",
      "metadata": {
        "colab": {
          "base_uri": "https://localhost:8080/"
        },
        "id": "o2qWBzqJAZ4c",
        "outputId": "e7ba9cd1-f5dd-4eca-e0fe-29aae17e1887"
      },
      "source": [
        "from sklearn.tree import DecisionTreeRegressor\n",
        "N=100\n",
        "dt=DecisionTreeRegressor(min_samples_leaf=N)\n",
        "dt.fit(train_x, train_y)\n",
        "print(\"before: \",dt.score(test_x,test_y))\n",
        "\n",
        "dt=DecisionTreeRegressor(min_samples_leaf=N)\n",
        "dt.fit(train_x_minmax, train_y)\n",
        "print(\"after:  \",dt.score(test_x_minmax,test_y))"
      ],
      "execution_count": null,
      "outputs": [
        {
          "output_type": "stream",
          "name": "stdout",
          "text": [
            "before:  0.8002117676579893\n",
            "after:   0.8002117676579894\n"
          ]
        }
      ]
    },
    {
      "cell_type": "markdown",
      "metadata": {
        "id": "nXCYmxiImFPU"
      },
      "source": [
        "**Question**\n",
        "\n",
        "Why is Decision Trees invariant?"
      ]
    },
    {
      "cell_type": "markdown",
      "metadata": {
        "id": "gblEdsLITv71"
      },
      "source": [
        "### Feature Space Reduction"
      ]
    },
    {
      "cell_type": "markdown",
      "metadata": {
        "id": "cANrvN16ligh"
      },
      "source": [
        "\n",
        "**Why perform dimensionality reduction?**\n",
        "- Model training is faster on smaller dimensional datasets\n",
        "- Avoid curse of dimensionality\n",
        "- Only train on independent and not redundant features\n",
        "\n",
        "- Requires less space to store data\n",
        "- Easier to visualize in lower dimensional space\n",
        "\n",
        "<br>\n"
      ]
    },
    {
      "cell_type": "markdown",
      "metadata": {
        "id": "mZ9pVo3L1C_d"
      },
      "source": [
        "#### Principal Component Analysis (PCA) \n"
      ]
    },
    {
      "cell_type": "markdown",
      "metadata": {
        "id": "ULJ10R351Egf"
      },
      "source": [
        "PCA reduces the dimensionality of a dataset by creating new variables that are linear combinations of the original features. This way, less variables are needed to encompass the variability of the original data and redundant information is reduced. \n",
        "\n",
        "<br> \n",
        "\n",
        "The *principal components (PCs)* or new variables are linearly independent and uncorrelated, which can be beneficial for certain model assumptions. The first PC is a new variable with the most variance from the original dataset, the second PC is a new variable with the second most variance, etc. \n",
        "\n",
        "\n",
        "<br> \n",
        "\n",
        "\n",
        "Scaling is really important so that the PCs do not emphasize variables simply because they have large data ranges.\n",
        "\n",
        "Find more information [here](https://towardsdatascience.com/a-one-stop-shop-for-principal-component-analysis-5582fb7e0a9c\n",
        ") and [here](\n",
        "https://towardsdatascience.com/pca-using-python-scikit-learn-e653f8989e60).\n"
      ]
    },
    {
      "cell_type": "markdown",
      "metadata": {
        "id": "9L-Qv2BlHiLn"
      },
      "source": [
        "\n",
        "\n",
        "\n",
        "\n",
        "<img src=https://www.analyticsvidhya.com/wp-content/uploads/2016/03/2-1-e1458494877196.png\n",
        "width=\"500\">"
      ]
    },
    {
      "cell_type": "code",
      "metadata": {
        "id": "MdEtNnp5AfEe",
        "colab": {
          "base_uri": "https://localhost:8080/",
          "height": 279
        },
        "outputId": "121fe96f-c4e8-4fbf-8aaf-2cefb291fc6f"
      },
      "source": [
        "from sklearn.decomposition import PCA\n",
        "\n",
        "# PCA is a unsurpervised analysis\n",
        "# only takes training feautre set as the input\n",
        "\n",
        "pca = PCA().fit(train_x_std)\n",
        "\n",
        "#Plot the cumulutive sum of the explained variance ratio \n",
        "plt.plot(np.cumsum(pca.explained_variance_ratio_))\n",
        "plt.xlabel('Number of PC')\n",
        "plt.ylabel('Cumulative Explained variance')\n",
        "plt.grid(True)\n"
      ],
      "execution_count": null,
      "outputs": [
        {
          "output_type": "display_data",
          "data": {
            "image/png": "[encoded data removed]",
            "text/plain": [
              "<Figure size 432x288 with 1 Axes>"
            ]
          },
          "metadata": {
            "needs_background": "light"
          }
        }
      ]
    },
    {
      "cell_type": "code",
      "metadata": {
        "colab": {
          "base_uri": "https://localhost:8080/"
        },
        "id": "rtsmIOOEH32q",
        "outputId": "74d317e9-b499-43cc-8adc-031918365062"
      },
      "source": [
        "exp_var=0.9\n",
        "\n",
        "pca_model = PCA(n_components = exp_var, svd_solver = 'full')\n",
        "train_x_std_pca=pca_model.fit_transform(train_x_std)\n",
        "test_x_std_pca=pca_model.transform(test_x_std)\n",
        "N=100\n",
        "dt=DecisionTreeRegressor(min_samples_leaf=N)\n",
        "dt.fit(train_x_std_pca, train_y)\n",
        "score=dt.score(test_x_std_pca,test_y)\n",
        "print(\"score on low-dim datasets: \"+str(score))\n"
      ],
      "execution_count": null,
      "outputs": [
        {
          "output_type": "stream",
          "name": "stdout",
          "text": [
            "score on low-dim datasets: 0.7650133216956645\n"
          ]
        }
      ]
    },
    {
      "cell_type": "code",
      "metadata": {
        "colab": {
          "base_uri": "https://localhost:8080/",
          "height": 357
        },
        "id": "tb1GV2MUJqA2",
        "outputId": "f5dedd0b-75d3-4061-fbac-def60643b6fc"
      },
      "source": [
        "#now use the original set\n",
        "import timeit\n",
        "\n",
        "train_x, train_y = split_data_year(total_feature_data, class_list,'2011-01-01','2017-12-31')\n",
        "test_x, test_y = split_data_year(total_feature_data, class_list,'2018-01-01','2019-12-31')\n",
        "\n",
        "print(\"example number: \"+str(train_x.shape[0]))\n",
        "print(\"feature number: \"+str(train_x.shape[1]))\n",
        "\n",
        "\n",
        "dt=DecisionTreeRegressor(min_samples_leaf=N)\n",
        "dt.fit(train_x, train_y)\n",
        "score=dt.score(test_x,test_y)\n",
        "print(\"score on pre-normalized datasets: \"+str(score))\n",
        "print(\"\")\n",
        "\n",
        "# perform normalization \n",
        "standard_model = StandardScaler().fit(train_x)\n",
        "train_x_std = standard_model.transform(train_x)\n",
        "test_x_std = standard_model.transform(test_x)\n",
        "\n",
        "# run DT with the normalized data\n",
        "start = timeit.default_timer()\n",
        "dt=DecisionTreeRegressor(min_samples_leaf=N)\n",
        "dt.fit(train_x_std, train_y)\n",
        "score=dt.score(test_x_std,test_y)\n",
        "stop = timeit.default_timer()\n",
        "\n",
        "print(\"score on normalized datasets: \"+str(score))\n",
        "print('Run Time: ', stop - start,'s')\n",
        "print(\"\")\n",
        "\n",
        "# train PCA and transform data\n",
        "pca_model = PCA(n_components = exp_var, svd_solver = 'full')\n",
        "train_x_std_pca=pca_model.fit_transform(train_x_std)\n",
        "test_x_std_pca=pca_model.transform(test_x_std)\n",
        "print(\"feature number: \"+str(train_x_std_pca.shape[1]))\n",
        "\n",
        "# run PCA with the low dimentional data\n",
        "start = timeit.default_timer()\n",
        "dt=DecisionTreeRegressor(min_samples_leaf=N)\n",
        "dt.fit(train_x_std_pca, train_y)\n",
        "score=dt.score(test_x_std_pca,test_y)\n",
        "stop = timeit.default_timer()\n",
        "\n",
        "print(\"score on low-dim datasets: \"+str(score))\n",
        "print('Run Time: ', stop - start, 's')\n",
        "\n"
      ],
      "execution_count": null,
      "outputs": [
        {
          "output_type": "stream",
          "name": "stdout",
          "text": [
            "example number: 2558\n",
            "feature number: 2688\n",
            "score on pre-normalized datasets: 0.9203168853132656\n",
            "\n",
            "score on normalized datasets: 0.9203168853132657\n",
            "Run Time:  1.32061759599992 s\n",
            "\n"
          ]
        },
        {
          "output_type": "error",
          "ename": "NameError",
          "evalue": "ignored",
          "traceback": [
            "\u001b[0;31m---------------------------------------------------------------------------\u001b[0m",
            "\u001b[0;31mNameError\u001b[0m                                 Traceback (most recent call last)",
            "\u001b[0;32m<ipython-input-20-8238b3eff64d>\u001b[0m in \u001b[0;36m<module>\u001b[0;34m()\u001b[0m\n\u001b[1;32m     32\u001b[0m \u001b[0;34m\u001b[0m\u001b[0m\n\u001b[1;32m     33\u001b[0m \u001b[0;31m# train PCA and transform data\u001b[0m\u001b[0;34m\u001b[0m\u001b[0;34m\u001b[0m\u001b[0;34m\u001b[0m\u001b[0m\n\u001b[0;32m---> 34\u001b[0;31m \u001b[0mpca_model\u001b[0m \u001b[0;34m=\u001b[0m \u001b[0mPCA\u001b[0m\u001b[0;34m(\u001b[0m\u001b[0mn_components\u001b[0m \u001b[0;34m=\u001b[0m \u001b[0mexp_var\u001b[0m\u001b[0;34m,\u001b[0m \u001b[0msvd_solver\u001b[0m \u001b[0;34m=\u001b[0m \u001b[0;34m'full'\u001b[0m\u001b[0;34m)\u001b[0m\u001b[0;34m\u001b[0m\u001b[0;34m\u001b[0m\u001b[0m\n\u001b[0m\u001b[1;32m     35\u001b[0m \u001b[0mtrain_x_std_pca\u001b[0m\u001b[0;34m=\u001b[0m\u001b[0mpca_model\u001b[0m\u001b[0;34m.\u001b[0m\u001b[0mfit_transform\u001b[0m\u001b[0;34m(\u001b[0m\u001b[0mtrain_x_std\u001b[0m\u001b[0;34m)\u001b[0m\u001b[0;34m\u001b[0m\u001b[0;34m\u001b[0m\u001b[0m\n\u001b[1;32m     36\u001b[0m \u001b[0mtest_x_std_pca\u001b[0m\u001b[0;34m=\u001b[0m\u001b[0mpca_model\u001b[0m\u001b[0;34m.\u001b[0m\u001b[0mtransform\u001b[0m\u001b[0;34m(\u001b[0m\u001b[0mtest_x_std\u001b[0m\u001b[0;34m)\u001b[0m\u001b[0;34m\u001b[0m\u001b[0;34m\u001b[0m\u001b[0m\n",
            "\u001b[0;31mNameError\u001b[0m: name 'PCA' is not defined"
          ]
        }
      ]
    },
    {
      "cell_type": "markdown",
      "metadata": {
        "id": "R-HcJryP88-9"
      },
      "source": [
        "# **Model Evaluation**"
      ]
    },
    {
      "cell_type": "markdown",
      "metadata": {
        "id": "5y3wUUnK2xCB"
      },
      "source": [
        "Some common evaluation metrics used with regression problems are: \n",
        "\n",
        "Mean absolute error (MAE): $\\frac{1}{N} \\sum\\limits_{i = 1}^{N} \\lvert \\hat{y}_i - y_i \\rvert$\n",
        "\n",
        "Mean squared error (MSE): $\\frac{1}{N} \\sum\\limits_{i = 1}^{N} (\\hat{y}_i - y_i)^2$\n",
        "\n",
        "Mean signed error (\"bias\"): $\\frac{1}{N} \\sum\\limits_{i = 1}^{N} (\\hat{y}_i - y_i)$\n",
        "\n",
        "MAE skill score: $\\frac{\\textrm{MAE}_{\\textrm{climo}} - \\textrm{MAE}}{\\textrm{MAE}_{\\textrm{climo}}}$\n",
        "\n",
        "-  $\\textrm{MAE}_{\\textrm{climo}}$ is the average training MAE\n",
        "\n",
        "\n",
        "More evalution metrics can be found [here](https://scikit-learn.org/stable/modules/model_evaluation.html). \n",
        "\n",
        "\n"
      ]
    },
    {
      "cell_type": "code",
      "metadata": {
        "id": "0KMc_bkEwbbn",
        "colab": {
          "base_uri": "https://localhost:8080/"
        },
        "outputId": "1d9db65d-2d88-43c6-ea4c-ec8575c19326"
      },
      "source": [
        "from sklearn.metrics import mean_squared_error\n",
        "dt=DecisionTreeRegressor(min_samples_leaf=N)\n",
        "dt.fit(train_x_std_pca, train_y)\n",
        "pred_y = dt.predict(test_x_std_pca)\n",
        "mse = mean_squared_error(pred_y,test_y)\n",
        "\n",
        "print(f'Mean square error: {mse}')\n",
        "print(f'\\nPredicted values \\n{pred_y[:5]}')\n",
        "\n",
        "print(f'\\nActual values \\n{np.array(test_y.iloc[:5]) }')\n"
      ],
      "execution_count": null,
      "outputs": [
        {
          "output_type": "stream",
          "text": [
            "Mean square error: 52.10309634861589\n",
            "\n",
            "Predicted values \n",
            "[54.70296774 54.70296774 54.70296774 54.70296774 57.20483146]\n",
            "\n",
            "Actual values \n",
            "[27.  50.  50.  63.  64.9]\n"
          ],
          "name": "stdout"
        }
      ]
    },
    {
      "cell_type": "markdown",
      "metadata": {
        "id": "VMeo4qn3Ot_h"
      },
      "source": [
        "Another type of verification/evaluation metric is the **reliability curve** \n",
        "- Shows model bias with respect to a conditional mean observation for each forecasted value\n",
        "- What is the mean observed value for a given range of forecast values\n",
        "- Data points above the 1-1 line are underforecasting, points under the line are overforecasting"
      ]
    },
    {
      "cell_type": "code",
      "metadata": {
        "id": "Uzgkb5p3OtSe"
      },
      "source": [
        " def regression_reliability_curve(forecasts,observations,nbins=20):\n",
        "  step = (np.nanmax(forecasts)-np.nanmin(forecasts))/nbins\n",
        "  bins = np.arange(np.nanmin(forecasts),np.nanmax(forecasts),step)\n",
        "\n",
        "  mean_forecast = np.empty( (np.shape(bins)) )*np.nan\n",
        "  mean_obs = np.empty( (np.shape(bins)) )*np.nan\n",
        "\n",
        "  # For each bin, find the mean forecast value and observation\n",
        "  for b,bin in enumerate(bins[:-1]):\n",
        "    bin_indices = np.where((forecasts >= bin) & (forecasts < bins[b+1]))[0]\n",
        "    mean_forecast[b] = np.nanmean(forecasts[bin_indices])\n",
        "    mean_obs[b] = np.nanmean(observations[bin_indices])\n",
        "\n",
        "  #Get maximum value of both datasets to plot\n",
        "  max_value = np.nanmax( [np.nanmax(forecasts) , np.nanmax(observations)] )\n",
        "  perfect_values = np.arange(0.,max_value)\n",
        "\n",
        "  plt.figure(figsize=(5,5))\n",
        "  #Plotting 1-1 line\n",
        "  plt.plot(perfect_values,perfect_values,linestyle='dashed',color='k')\n",
        "  #Plotting mean forecast values versus the mean observations\n",
        "  plt.plot(mean_forecast,mean_obs)\n",
        "  plt.ylabel('Conditional Mean Observation',fontsize=16)\n",
        "  plt.xlabel('Forecast value',fontsize=16)\n",
        "  plt.title('Reliability Curve',fontsize=18)\n",
        "  plt.show()\n",
        "  return"
      ],
      "execution_count": null,
      "outputs": []
    },
    {
      "cell_type": "code",
      "metadata": {
        "id": "QKzA3RtWSR5p",
        "colab": {
          "base_uri": "https://localhost:8080/",
          "height": 359
        },
        "outputId": "abb45b06-2cdd-4d5e-f4b8-21e41e9fe6e0"
      },
      "source": [
        "# Reliability curve of high temperature linear regression model\n",
        "regression_reliability_curve(pred_y, np.array(test_y), nbins=20)"
      ],
      "execution_count": null,
      "outputs": [
        {
          "output_type": "display_data",
          "data": {
            "image/png": "[encoded data removed]",
            "text/plain": [
              "<Figure size 360x360 with 1 Axes>"
            ]
          },
          "metadata": {
            "tags": [],
            "needs_background": "light"
          }
        }
      ]
    },
    {
      "cell_type": "markdown",
      "metadata": {
        "id": "PP0_W-U7fuk7"
      },
      "source": [
        "## Classification Problems\n",
        "\n",
        "<img src=\"https://upload.wikimedia.org/wikipedia/commons/thumb/2/26/Precisionrecall.svg/800px-Precisionrecall.svg.png\" width=\"600\">\n",
        "\n",
        "\n",
        "Recall = Probability of Detection (POD)\n",
        "\n",
        "Precision: 1-False Alarm Ratio (FAR)\n"
      ]
    },
    {
      "cell_type": "markdown",
      "metadata": {
        "id": "jDyecgc2OI6C"
      },
      "source": [
        "Contact Infomation:\n",
        "\n",
        "    Mu-Chieh.Ko@noaa.gov"
      ]
    }
  ]
}