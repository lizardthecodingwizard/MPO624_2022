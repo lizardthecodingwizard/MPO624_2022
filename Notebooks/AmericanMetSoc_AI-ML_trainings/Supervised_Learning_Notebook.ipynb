{
  "nbformat": 4,
  "nbformat_minor": 0,
  "metadata": {
    "colab": {
      "name": "Supervised_Learning_Notebook.ipynb",
      "provenance": [],
      "collapsed_sections": []
    },
    "kernelspec": {
      "display_name": "Python 3",
      "name": "python3"
    }
  },
  "cells": [
    {
      "cell_type": "markdown",
      "metadata": {
        "id": "aWxZqcJyFgBf"
      },
      "source": [
        "# Lecture_3: Supervised Learning Algorithms \n",
        "                                                     \n",
        "In this module we are going to mimic the [WxChallenge](https://www.wxchallenge.com/) (with slight changes for time constraints)\n",
        "  - Use regression to predict the high/low temperature of a given city\n",
        "  - Use classification to predict whether precipitation will occur at a given city.\n",
        "  - Relatively straight forward problem that is familiar to many meteorologists \n",
        "  - Learn the ML process on one city (Roanoke, NC) and apply you knowledge to an entirely different prediction problem or to another city, it is up to you!\n",
        "\n",
        "<br>\n",
        "\n",
        "These are the correct data, just in case: \n",
        "\n",
        "```\n",
        "#Download tutorial file from zenodo\n",
        "!wget -O \"kroa_processed_data.csv\"  \"https://zenodo.org/record/5834903/files/kroa_processed_data.csv?download=1\"\n",
        "\n",
        "```"
      ]
    },
    {
      "cell_type": "markdown",
      "metadata": {
        "id": "r-58bMjMJfJY"
      },
      "source": [
        "\n",
        "# Applying Supervised Machine Learning to Surface Weather Observations #\n",
        "\n",
        "In this tutorial, we will explore different approaches to supervized machine learning using surface weather observations. This notebook will utilize the pre-processing techniques from the previous module to train basic ML models and evaluate model performance. \n",
        "\n",
        "A brief introduction to ML models will be provided in lecture-like materials, with links to (hopefully) helpul resources. You will have the oppotuntiy to put into practice some the machine learning techniques demonstrated in this module at the end of the course  through a coding exercises.\n",
        "\n",
        "Please cite the notebook as follows:\n",
        "\n",
        "    McNicholas, C., 2022: \"Appying Supervised Machine Learning to Surface Weather Observations\"\n",
        "\n",
        "The data for this tutorial can be cited as: \n",
        "\n",
        "    McGovern, A., Burke, A., Harrison, D., and G. M. Lackmann, 2020: A Machine Learning Tutorial for Operational Forecasting: Part I. Wea. Forecasting, In Press \n"
      ]
    },
    {
      "cell_type": "markdown",
      "source": [
        "*Before we begin lets get a bit of audience background. Respond anonymously to the poll below.*\n",
        "\n",
        "**[Audience Poll](https://pollev.com/calliemcni772)**\n",
        "-------------------------------------------------------------------------------"
      ],
      "metadata": {
        "id": "Fvf6ssevNkHH"
      }
    },
    {
      "cell_type": "markdown",
      "metadata": {
        "id": "cXbZ0rSzLm2O"
      },
      "source": [
        "<br>\n",
        "\n",
        "\n",
        "# Module Setup\n",
        "\n",
        "Import relevant python libraries. \n",
        "\n",
        "\n",
        "*   Matplotlib (plotting)\n",
        "*   Pandas (data analysis)\n",
        "*   Numpy (array, matrix, and mathematical functions)\n",
        "*   Xarray (analysis of multi-dimensional data)\n",
        "*   sklearn (machine learning models)\n",
        "*   XGBoost (fast gradient boosting model)\n",
        "\n",
        "\n",
        "<br>"
      ]
    },
    {
      "cell_type": "code",
      "metadata": {
        "id": "CZaggDzOdqIJ",
        "outputId": "0a0da508-7772-4102-d923-942ae3003d76",
        "colab": {
          "base_uri": "https://localhost:8080/"
        }
      },
      "source": [
        "#Import relevant libraries and install netcdf4\n",
        "import pandas as pd\n",
        "import numpy as np\n",
        "import gdown\n",
        "#install netcdf4 (for xarray)\n",
        "! pip install netcdf4\n",
        "import xarray as xr\n",
        "import matplotlib.pyplot as plt\n",
        "import matplotlib\n",
        "%matplotlib inline\n",
        "from datetime import datetime\n",
        "#Feature selection\n",
        "from sklearn.feature_selection import VarianceThreshold\n",
        "from sklearn.feature_selection import SelectKBest\n",
        "from sklearn.feature_selection import f_regression,mutual_info_regression\n",
        "from sklearn.feature_selection import SelectFromModel\n",
        "#Feature Scaling\n",
        "from sklearn.preprocessing import MinMaxScaler\n",
        "#Machine learning models\n",
        "from sklearn.linear_model import LinearRegression #linear models\n",
        "from sklearn import svm #support vectorr machine\n",
        "#Ensemble Decision Tree Algorithms\n",
        "from sklearn.ensemble import RandomForestRegressor \n",
        "#Instal Extreme gradient boosting\n",
        "!pip install xgboost\n",
        "import xgboost as xgb\n",
        "#ML Aggregation (Average methods)\n",
        "from sklearn.ensemble import VotingRegressor\n",
        "#ML Stacking (Combine Estimators sequentially)\n",
        "from sklearn.ensemble import StackingRegressor\n",
        "#Add multiple output support for Supervised ML\n",
        "from sklearn.multioutput import MultiOutputRegressor\n",
        "#Simple Neurel Net (For comparison with ensemble techniques)\n",
        "from sklearn.neural_network import MLPRegressor\n",
        "#Model evaluation\n",
        "from sklearn.metrics import mean_squared_error,mean_absolute_error,r2_score\n",
        "from sklearn.metrics import plot_roc_curve\n",
        "import warnings\n",
        "warnings.filterwarnings('ignore')\n"
      ],
      "execution_count": 1,
      "outputs": [
        {
          "output_type": "stream",
          "name": "stdout",
          "text": [
            "Requirement already satisfied: netcdf4 in /usr/local/lib/python3.7/dist-packages (1.5.8)\n",
            "Requirement already satisfied: cftime in /usr/local/lib/python3.7/dist-packages (from netcdf4) (1.5.1.1)\n",
            "Requirement already satisfied: numpy>=1.9 in /usr/local/lib/python3.7/dist-packages (from netcdf4) (1.19.5)\n",
            "Requirement already satisfied: xgboost in /usr/local/lib/python3.7/dist-packages (0.90)\n",
            "Requirement already satisfied: numpy in /usr/local/lib/python3.7/dist-packages (from xgboost) (1.19.5)\n",
            "Requirement already satisfied: scipy in /usr/local/lib/python3.7/dist-packages (from xgboost) (1.4.1)\n"
          ]
        }
      ]
    },
    {
      "cell_type": "markdown",
      "metadata": {
        "id": "Nyv-DAec_vsT"
      },
      "source": [
        "\n",
        "### Prevent Auto-scrolling\n",
        "\n",
        "The next cell prevents output in the notebook from being nested in a scroll box"
      ]
    },
    {
      "cell_type": "code",
      "metadata": {
        "id": "X1COjntx_v78",
        "outputId": "9285ae4e-f375-45ce-cb71-59a21e357146",
        "colab": {
          "base_uri": "https://localhost:8080/",
          "height": 17
        }
      },
      "source": [
        "%%javascript\n",
        "IPython.OutputArea.prototype._should_scroll = function(lines) {\n",
        "    return false;"
      ],
      "execution_count": 2,
      "outputs": [
        {
          "output_type": "display_data",
          "data": {
            "application/javascript": [
              "IPython.OutputArea.prototype._should_scroll = function(lines) {\n",
              "    return false;"
            ],
            "text/plain": [
              "<IPython.core.display.Javascript object>"
            ]
          },
          "metadata": {}
        }
      ]
    },
    {
      "cell_type": "markdown",
      "metadata": {
        "id": "4jURmN_9L1h0"
      },
      "source": [
        "## Import data\n",
        "\n",
        "The next cell retrieves all of the data that will be used by this notebook. If anything crashes, it will probably be here."
      ]
    },
    {
      "cell_type": "code",
      "metadata": {
        "id": "fHpYvj-YFB32",
        "outputId": "263c82d6-9f79-49df-cde6-d3500ac14c0a",
        "colab": {
          "base_uri": "https://localhost:8080/"
        }
      },
      "source": [
        "!wget -O \"kroa_processed_data.csv\"  \"https://zenodo.org/record/5834903/files/kroa_processed_data.csv?download=1\"\n",
        "\n",
        "# Alternate if zenodo is down uncomment below:\n",
        "\n",
        "#import gdown\n",
        "#MLurl = \"https://drive.google.com/u/0/uc?id=107r52s7aMkVmyxHaximfcNQBZJJ-Cd3b&export=download\"\n",
        "#MLoutput = 'kroa_processed_data.csv'\n",
        "#gdown.download(MLurl, MLoutput, quiet=False) \n"
      ],
      "execution_count": 3,
      "outputs": [
        {
          "output_type": "stream",
          "name": "stdout",
          "text": [
            "--2022-01-12 18:51:40--  https://zenodo.org/record/5834903/files/kroa_processed_data.csv?download=1\n",
            "Resolving zenodo.org (zenodo.org)... 137.138.76.77\n",
            "Connecting to zenodo.org (zenodo.org)|137.138.76.77|:443... connected.\n",
            "HTTP request sent, awaiting response... 200 OK\n",
            "Length: 62226641 (59M) [text/plain]\n",
            "Saving to: ‘kroa_processed_data.csv’\n",
            "\n",
            "kroa_processed_data 100%[===================>]  59.34M  18.7MB/s    in 3.2s    \n",
            "\n",
            "2022-01-12 18:51:45 (18.7 MB/s) - ‘kroa_processed_data.csv’ saved [62226641/62226641]\n",
            "\n"
          ]
        }
      ]
    },
    {
      "cell_type": "markdown",
      "metadata": {
        "id": "7TdKzCbn9s7o"
      },
      "source": [
        "<br>\n",
        "\n",
        "\n",
        "# Tutorial Overview\n",
        "\n",
        "\n",
        "<br>"
      ]
    },
    {
      "cell_type": "markdown",
      "metadata": {
        "id": "flI8YddqNYY6"
      },
      "source": [
        "**Brief:** \n",
        "1. What is ML/Artificial Intelligence (AI) \n",
        "2. General ML Pipeline\n",
        "3. Prediction Problem and Dataset Information\n",
        "4. Data Visualization\n",
        "\n",
        "**More in Depth:**\n",
        "5. Data Pre-processing\n",
        "  - Partitioning Data\n",
        "  - Transforming and Scaling Data\n",
        "\n",
        "6. Machine Learning Models\n",
        "  - Scoring \n",
        "  - Linear Methods\n",
        "  - Tree-based \n",
        "  - Ensemble and Aggregate Methods\n",
        "\n",
        "7. Model evaluation\n",
        "  - Feature Analysis\n",
        "  - Accuracy and Reliability\n",
        "\n",
        "8. Multi-output Regression\n",
        "\n",
        "9. Classification\n",
        "\n",
        "10. Excercises\n",
        "\n",
        "[Here](https://towardsdatascience.com/list-of-free-must-read-machine-learning-books-89576749d2ff) is a list of free books about ML from a statistical perspective.\n",
        " \n"
      ]
    },
    {
      "cell_type": "markdown",
      "metadata": {
        "id": "ZgXJ1xgXNme1"
      },
      "source": [
        "<br>\n",
        "\n",
        "\n",
        "# **1. What is ML/AI**\n",
        "\n",
        "\n",
        "\n",
        "<br>"
      ]
    },
    {
      "cell_type": "markdown",
      "metadata": {
        "id": "cW8SW5I1OJT3"
      },
      "source": [
        "### Differences between Traditional Programming and ML\n",
        "\n",
        "<img src=\"https://images.contentful.com/pqts2v0qq7kz/4Mcjw0xAi4auqweOQQyWCu/80236c975b5026ec67e61f767a646b45/machine_learning_flow--4j88rajonr_s600x0_q80_noupscale.png\" width=\"400\">\n"
      ]
    },
    {
      "cell_type": "markdown",
      "metadata": {
        "id": "6mskE_XWTuL3"
      },
      "source": [
        "<br>\n",
        "\n",
        "\n",
        "# **2. General ML pipeline**\n",
        "\n",
        "\n"
      ]
    },
    {
      "cell_type": "markdown",
      "metadata": {
        "id": "tNayOGD0UFYt"
      },
      "source": [
        "You can simply throw data at a ML model and expect something to stick, right? \n",
        "\n",
        "NO! *(Well maybe but you shouldn't!)*\n",
        "\n",
        "<img src=\"https://imgs.xkcd.com/comics/machine_learning.png\" width=\"350\">\n"
      ]
    },
    {
      "cell_type": "markdown",
      "metadata": {
        "id": "TEsVHrZTUghy"
      },
      "source": [
        "### The (brief) end-to-end process for using ML models\n",
        "\n",
        "*Define the Problem*\n",
        "  - Look at the data and forecasting task to see if ML is appropriate. Do existing methods produce skillful results? If so then ML may not be necessary.\n",
        "  - Is the data normally distributed, correlated, etc.? **Do you have enough data if what you are trying to predict is rare?**\n",
        "\n",
        "*Separate Data* \n",
        "  - Split your data into **at least two independent sets**: training and testing\n",
        "  - Possibly use validation set to tune ML models before applying them to the testing set. \n",
        "\n",
        "*Data Pre-processing* \n",
        "  - After determining ML would benefit your problem domain, transform the data to be more amenable for ML\n",
        "  - Find out what shape the data needs to be\n",
        "  - If necessary, normalize/scale data\n",
        "  \n",
        "### ***The above steps are at least 80% of the work when working with ML models***\n",
        "\n",
        "\n",
        "*Model Training*\n",
        "  - Optimize ML model(s) using the **training dataset only**\n",
        "\n",
        "*Model Deployment*\n",
        "  - Apply the trained ML model to the **testing dataset only** \n",
        "\n",
        "*Model Evaluation*\n",
        "  - Use verification metrics and subjective evaluations to determine the skill of the ML model for a given predictive task.  \n",
        "\n",
        "*Model Interpretation*\n",
        "  - Use different interpretation techniques (variable importance, learning curves, etc.) to determine **why** the ML model(s) make decisions and whether the model(s) can be improved.\n",
        "  - Evaluate if the decision-making process is reasonable\n",
        "  - Allow end-users to better trust the ML decisions\n",
        "\n",
        "<br>\n",
        "\n",
        "## These steps are applicable for both ML and DL models. More details about the ML pipeline can be found [here](https://www.oreilly.com/library/view/building-machine-learning/9781492053187/ch01.html). \n",
        "\n",
        "<br>"
      ]
    },
    {
      "cell_type": "markdown",
      "metadata": {
        "id": "XcMlMUTiZrD2"
      },
      "source": [
        "<br>\n",
        "\n",
        "\n",
        "# **3. Prediction Problem and Dataset Information**\n",
        "\n",
        "*Define the problem*\n",
        "\n",
        "We want to use regression to predict the high/low temperature at KROA, each day, over the course of a year. \n",
        "* Before we delve into some ML we need to review and inspect the dataset we'll be using. As we go through this dataset we'll preprocess the observations and examine the variables (features) we have out our disposal for predicting temperature.\n",
        "\n",
        "<br>"
      ]
    },
    {
      "cell_type": "markdown",
      "metadata": {
        "id": "1hkjNQdl1_CY"
      },
      "source": [
        " **Dataset Information**\n",
        "- Numerical Weather Prediction (NWP) point forecasts from the Iowa Environmental Mesonet between 1 January 2011 to 1 August 2019\n",
        "- 24-hour forecast runs from the GFS, NAM, RAP, and NAM 4km at 0000, 0600, 1200, and 1800 UTC\n",
        "- 70 hourly forecast variables for each model \n",
        "- NWP variables processed into 24-hour maximum, minimum, and average values for the 0600 to 0600 UTC period (same as WxChallenge)\n",
        "- If one NWP forecast is missing, replaced with average value from all other NWP forecasts for the given variable\n",
        "- Observations are NWS ASOS point data for a given city  \n",
        "- Days with missing observations were removed\n",
        "\n",
        "**Note** \n",
        "- The current dataset contains both forecast data and observation data. We will be splitting these pieces of data into two datasets for ML!\n",
        "\n",
        "\n"
      ]
    },
    {
      "cell_type": "markdown",
      "metadata": {
        "id": "8K4wdvjQbVnD"
      },
      "source": [
        "\n",
        "<br> \n",
        "\n",
        "\n",
        "Load in the CSV data. *We will look at [KROA](https://en.wikipedia.org/wiki/Roanoke%E2%80%93Blacksburg_Regional_Airport) (Roanoke-Blacksburg Regional Airport)*\n",
        "\n",
        "<br>"
      ]
    },
    {
      "cell_type": "code",
      "metadata": {
        "id": "eMyg_Y90bV7e"
      },
      "source": [
        "### COMMENTS IN GREEN PROVIDE CODE CONTEXT ###\n",
        "\n",
        "#Read in data for KROA (Roanoke, VA) using pandas\n",
        "df = pd.read_csv('kroa_processed_data.csv')\n",
        "total_dataset = pd.read_csv('kroa_processed_data.csv',index_col=0).sort_values(by='date')\n",
        "\n",
        "#Eliminate gaps in data  (replace blank entries and infinity entries with nan, than drop all rows with nans)\n",
        "total_dataset = total_dataset.replace('********', np.nan).replace(np.inf,np.nan).dropna(how='any',axis=1)\n",
        "\n",
        "#Remove bad observations (Keep data rows where the max/min observed temp are not equal)\n",
        "total_dataset = total_dataset[total_dataset['OBS_tmpf_max']!=total_dataset['OBS_tmpf_min']]\n",
        "total_dataset = total_dataset.drop(index=557) #Bad index (day when METAR reported erroneous min temperature)\n",
        "total_dataset = total_dataset.reset_index() #Reset the index (reorder from 0-N to ensure index increment remains +1)\n",
        "\n",
        "# Only want to use GFS 12Z data (for simplicity). So, remove all other\n",
        "# model data from dataset array\n",
        "\n",
        "# Remove MOS data based on previous work \n",
        "mosCols = [key for key in total_dataset.columns if 'MOS' in key]\n",
        "total_dataset = total_dataset.drop(mosCols, axis = 1)\n",
        "\n",
        "# Remove NAM data \n",
        "namCols = [key for key in total_dataset.columns if ('NAM' in key)]\n",
        "total_dataset = total_dataset.drop(namCols, axis = 1)\n",
        "\n",
        "# Remove NAM4km data \n",
        "#namCols = [key for key in total_dataset.columns if ('NAM4km6' in key or 'NAM4km12' in key or 'NAM4km18' in key)]\n",
        "#total_dataset = total_dataset.drop(namCols, axis = 1)\n",
        "\n",
        "# Remove GFS6Z,GFS12Z,and GFS18Z \n",
        "#gfsCols = [key for key in total_dataset.columns if ('GFS6' in key or 'GFS12' in key or 'GFS18' in key)]\n",
        "#total_dataset = total_dataset.drop(gfsCols, axis = 1)"
      ],
      "execution_count": 4,
      "outputs": []
    },
    {
      "cell_type": "markdown",
      "metadata": {
        "id": "OWXTyK2_K7Lt"
      },
      "source": [
        "Use [pandas](https://pandas.pydata.org/docs/user_guide/10min.html) to visualize the data in tabular format"
      ]
    },
    {
      "cell_type": "code",
      "metadata": {
        "id": "VA3NPPrEoURz",
        "outputId": "8815c5bd-67b9-4982-a045-5268c3fa2dbd",
        "colab": {
          "base_uri": "https://localhost:8080/",
          "height": 341
        }
      },
      "source": [
        "#Display the first three rows of the dataframe\n",
        "total_dataset.head(n=3)"
      ],
      "execution_count": 5,
      "outputs": [
        {
          "output_type": "execute_result",
          "data": {
            "text/html": [
              "\n",
              "  <div id=\"df-e62c8ffe-46fa-4e64-8ad8-b823c601a253\">\n",
              "    <div class=\"colab-df-container\">\n",
              "      <div>\n",
              "<style scoped>\n",
              "    .dataframe tbody tr th:only-of-type {\n",
              "        vertical-align: middle;\n",
              "    }\n",
              "\n",
              "    .dataframe tbody tr th {\n",
              "        vertical-align: top;\n",
              "    }\n",
              "\n",
              "    .dataframe thead th {\n",
              "        text-align: right;\n",
              "    }\n",
              "</style>\n",
              "<table border=\"1\" class=\"dataframe\">\n",
              "  <thead>\n",
              "    <tr style=\"text-align: right;\">\n",
              "      <th></th>\n",
              "      <th>index</th>\n",
              "      <th>date</th>\n",
              "      <th>OBS_tmpf_max</th>\n",
              "      <th>OBS_tmpf_min</th>\n",
              "      <th>OBS_sknt_max</th>\n",
              "      <th>OBS_phour</th>\n",
              "      <th>GFS0_pmsl_max</th>\n",
              "      <th>GFS0_pmsl_min</th>\n",
              "      <th>GFS0_pmsl_avg</th>\n",
              "      <th>GFS0_pres_max</th>\n",
              "      <th>GFS0_pres_min</th>\n",
              "      <th>GFS0_pres_avg</th>\n",
              "      <th>GFS0_sktc_max</th>\n",
              "      <th>GFS0_sktc_min</th>\n",
              "      <th>GFS0_sktc_avg</th>\n",
              "      <th>GFS0_stc1_max</th>\n",
              "      <th>GFS0_stc1_min</th>\n",
              "      <th>GFS0_stc1_avg</th>\n",
              "      <th>GFS0_snfl_max</th>\n",
              "      <th>GFS0_snfl_min</th>\n",
              "      <th>GFS0_snfl_avg</th>\n",
              "      <th>GFS0_wtns_max</th>\n",
              "      <th>GFS0_wtns_min</th>\n",
              "      <th>GFS0_wtns_avg</th>\n",
              "      <th>GFS0_p01m_max</th>\n",
              "      <th>GFS0_p01m_min</th>\n",
              "      <th>GFS0_p01m_avg</th>\n",
              "      <th>GFS0_c01m_max</th>\n",
              "      <th>GFS0_c01m_min</th>\n",
              "      <th>GFS0_c01m_avg</th>\n",
              "      <th>GFS0_stc2_max</th>\n",
              "      <th>GFS0_stc2_min</th>\n",
              "      <th>GFS0_stc2_avg</th>\n",
              "      <th>GFS0_lcld_max</th>\n",
              "      <th>GFS0_lcld_min</th>\n",
              "      <th>GFS0_lcld_avg</th>\n",
              "      <th>GFS0_mcld_max</th>\n",
              "      <th>GFS0_mcld_min</th>\n",
              "      <th>GFS0_mcld_avg</th>\n",
              "      <th>GFS0_hcld_max</th>\n",
              "      <th>...</th>\n",
              "      <th>GFS18_td_max</th>\n",
              "      <th>GFS18_td_min</th>\n",
              "      <th>GFS18_td_avg</th>\n",
              "      <th>GFS18_wspd_max</th>\n",
              "      <th>GFS18_wspd_min</th>\n",
              "      <th>GFS18_wspd_avg</th>\n",
              "      <th>GFS18_wdir</th>\n",
              "      <th>GFS18_hiwc_max</th>\n",
              "      <th>GFS18_hiwc_min</th>\n",
              "      <th>GFS18_hiwc_avg</th>\n",
              "      <th>GFS18_qpf_max</th>\n",
              "      <th>GFS18_qpf_min</th>\n",
              "      <th>GFS18_qpf_avg</th>\n",
              "      <th>GFS18_qpf_accum_max</th>\n",
              "      <th>GFS18_qpf_accum_min</th>\n",
              "      <th>GFS18_qpf_accum_avg</th>\n",
              "      <th>GFS18_wagl_max</th>\n",
              "      <th>GFS18_wagl_min</th>\n",
              "      <th>GFS18_wagl_avg</th>\n",
              "      <th>GFS18_frz_rain_max</th>\n",
              "      <th>GFS18_frz_rain_min</th>\n",
              "      <th>GFS18_frz_rain_avg</th>\n",
              "      <th>GFS18_sleet_max</th>\n",
              "      <th>GFS18_sleet_min</th>\n",
              "      <th>GFS18_sleet_avg</th>\n",
              "      <th>GFS18_rh_max</th>\n",
              "      <th>GFS18_rh_min</th>\n",
              "      <th>GFS18_rh_avg</th>\n",
              "      <th>GFS18_buf_snow_sr_rate_max</th>\n",
              "      <th>GFS18_buf_snow_sr_rate_min</th>\n",
              "      <th>GFS18_buf_snow_sr_rate_avg</th>\n",
              "      <th>GFS18_buf_snow_maxt_rate_max</th>\n",
              "      <th>GFS18_buf_snow_maxt_rate_min</th>\n",
              "      <th>GFS18_buf_snow_maxt_rate_avg</th>\n",
              "      <th>GFS18_frz_rain_rate_max</th>\n",
              "      <th>GFS18_frz_rain_rate_min</th>\n",
              "      <th>GFS18_frz_rain_rate_avg</th>\n",
              "      <th>GFS18_sleet_rate_max</th>\n",
              "      <th>GFS18_sleet_rate_min</th>\n",
              "      <th>GFS18_sleet_rate_avg</th>\n",
              "    </tr>\n",
              "  </thead>\n",
              "  <tbody>\n",
              "    <tr>\n",
              "      <th>0</th>\n",
              "      <td>0</td>\n",
              "      <td>2011-01-01</td>\n",
              "      <td>53.96</td>\n",
              "      <td>35.06</td>\n",
              "      <td>11.0</td>\n",
              "      <td>0.07</td>\n",
              "      <td>1021.7</td>\n",
              "      <td>1016.4</td>\n",
              "      <td>1018.300000</td>\n",
              "      <td>979.2</td>\n",
              "      <td>974.2</td>\n",
              "      <td>975.980000</td>\n",
              "      <td>7.9</td>\n",
              "      <td>0.5</td>\n",
              "      <td>4.420000</td>\n",
              "      <td>273.1</td>\n",
              "      <td>272.8</td>\n",
              "      <td>272.910000</td>\n",
              "      <td>0.0</td>\n",
              "      <td>0.0</td>\n",
              "      <td>0.0</td>\n",
              "      <td>0.0</td>\n",
              "      <td>0.0</td>\n",
              "      <td>0.0</td>\n",
              "      <td>0.0</td>\n",
              "      <td>0.0</td>\n",
              "      <td>0.0</td>\n",
              "      <td>0.0</td>\n",
              "      <td>0.0</td>\n",
              "      <td>0.0</td>\n",
              "      <td>0.0</td>\n",
              "      <td>0.0</td>\n",
              "      <td>0.0</td>\n",
              "      <td>90.0</td>\n",
              "      <td>0.0</td>\n",
              "      <td>42.700000</td>\n",
              "      <td>100.0</td>\n",
              "      <td>0.0</td>\n",
              "      <td>49.2000</td>\n",
              "      <td>100.0</td>\n",
              "      <td>...</td>\n",
              "      <td>45.5</td>\n",
              "      <td>42.3</td>\n",
              "      <td>43.950000</td>\n",
              "      <td>6.6</td>\n",
              "      <td>5.7</td>\n",
              "      <td>6.100</td>\n",
              "      <td>225.000000</td>\n",
              "      <td>42.247601</td>\n",
              "      <td>38.409405</td>\n",
              "      <td>40.259330</td>\n",
              "      <td>0.08</td>\n",
              "      <td>0.0</td>\n",
              "      <td>0.032500</td>\n",
              "      <td>0.125984</td>\n",
              "      <td>0.0</td>\n",
              "      <td>0.082677</td>\n",
              "      <td>10.253573</td>\n",
              "      <td>8.873798</td>\n",
              "      <td>9.810366</td>\n",
              "      <td>0.0</td>\n",
              "      <td>0.0</td>\n",
              "      <td>0.0</td>\n",
              "      <td>0.0</td>\n",
              "      <td>0.0</td>\n",
              "      <td>0.0</td>\n",
              "      <td>100.7</td>\n",
              "      <td>100.0</td>\n",
              "      <td>100.350000</td>\n",
              "      <td>0.0</td>\n",
              "      <td>0.0</td>\n",
              "      <td>0.0</td>\n",
              "      <td>0.0</td>\n",
              "      <td>0.0</td>\n",
              "      <td>0.0</td>\n",
              "      <td>0.0</td>\n",
              "      <td>0.0</td>\n",
              "      <td>0.0</td>\n",
              "      <td>0.0</td>\n",
              "      <td>0.0</td>\n",
              "      <td>0.0</td>\n",
              "    </tr>\n",
              "    <tr>\n",
              "      <th>1</th>\n",
              "      <td>1</td>\n",
              "      <td>2011-01-02</td>\n",
              "      <td>53.60</td>\n",
              "      <td>30.02</td>\n",
              "      <td>22.0</td>\n",
              "      <td>0.00</td>\n",
              "      <td>1024.4</td>\n",
              "      <td>1015.9</td>\n",
              "      <td>1019.577778</td>\n",
              "      <td>980.4</td>\n",
              "      <td>973.4</td>\n",
              "      <td>976.338889</td>\n",
              "      <td>5.9</td>\n",
              "      <td>-4.0</td>\n",
              "      <td>1.372222</td>\n",
              "      <td>275.2</td>\n",
              "      <td>273.2</td>\n",
              "      <td>274.283333</td>\n",
              "      <td>0.0</td>\n",
              "      <td>0.0</td>\n",
              "      <td>0.0</td>\n",
              "      <td>0.0</td>\n",
              "      <td>0.0</td>\n",
              "      <td>0.0</td>\n",
              "      <td>0.0</td>\n",
              "      <td>0.0</td>\n",
              "      <td>0.0</td>\n",
              "      <td>0.0</td>\n",
              "      <td>0.0</td>\n",
              "      <td>0.0</td>\n",
              "      <td>0.0</td>\n",
              "      <td>0.0</td>\n",
              "      <td>0.0</td>\n",
              "      <td>96.0</td>\n",
              "      <td>0.0</td>\n",
              "      <td>41.222222</td>\n",
              "      <td>24.0</td>\n",
              "      <td>0.0</td>\n",
              "      <td>2.4375</td>\n",
              "      <td>63.0</td>\n",
              "      <td>...</td>\n",
              "      <td>41.7</td>\n",
              "      <td>20.1</td>\n",
              "      <td>32.091667</td>\n",
              "      <td>12.5</td>\n",
              "      <td>3.4</td>\n",
              "      <td>8.325</td>\n",
              "      <td>258.690068</td>\n",
              "      <td>38.212711</td>\n",
              "      <td>15.346242</td>\n",
              "      <td>27.972265</td>\n",
              "      <td>0.05</td>\n",
              "      <td>0.0</td>\n",
              "      <td>0.005833</td>\n",
              "      <td>0.196850</td>\n",
              "      <td>0.0</td>\n",
              "      <td>0.124672</td>\n",
              "      <td>18.287171</td>\n",
              "      <td>5.292340</td>\n",
              "      <td>11.922247</td>\n",
              "      <td>0.0</td>\n",
              "      <td>0.0</td>\n",
              "      <td>0.0</td>\n",
              "      <td>0.0</td>\n",
              "      <td>0.0</td>\n",
              "      <td>0.0</td>\n",
              "      <td>100.0</td>\n",
              "      <td>84.0</td>\n",
              "      <td>90.316667</td>\n",
              "      <td>0.0</td>\n",
              "      <td>0.0</td>\n",
              "      <td>0.0</td>\n",
              "      <td>0.0</td>\n",
              "      <td>0.0</td>\n",
              "      <td>0.0</td>\n",
              "      <td>0.0</td>\n",
              "      <td>0.0</td>\n",
              "      <td>0.0</td>\n",
              "      <td>0.0</td>\n",
              "      <td>0.0</td>\n",
              "      <td>0.0</td>\n",
              "    </tr>\n",
              "    <tr>\n",
              "      <th>2</th>\n",
              "      <td>2</td>\n",
              "      <td>2011-01-03</td>\n",
              "      <td>41.00</td>\n",
              "      <td>24.08</td>\n",
              "      <td>9.0</td>\n",
              "      <td>0.00</td>\n",
              "      <td>1027.7</td>\n",
              "      <td>1022.0</td>\n",
              "      <td>1024.679167</td>\n",
              "      <td>983.6</td>\n",
              "      <td>978.4</td>\n",
              "      <td>980.762500</td>\n",
              "      <td>6.5</td>\n",
              "      <td>-5.4</td>\n",
              "      <td>-1.783333</td>\n",
              "      <td>275.1</td>\n",
              "      <td>273.8</td>\n",
              "      <td>274.595833</td>\n",
              "      <td>0.0</td>\n",
              "      <td>0.0</td>\n",
              "      <td>0.0</td>\n",
              "      <td>0.0</td>\n",
              "      <td>0.0</td>\n",
              "      <td>0.0</td>\n",
              "      <td>0.0</td>\n",
              "      <td>0.0</td>\n",
              "      <td>0.0</td>\n",
              "      <td>0.0</td>\n",
              "      <td>0.0</td>\n",
              "      <td>0.0</td>\n",
              "      <td>0.0</td>\n",
              "      <td>0.0</td>\n",
              "      <td>0.0</td>\n",
              "      <td>1.0</td>\n",
              "      <td>0.0</td>\n",
              "      <td>0.041667</td>\n",
              "      <td>0.0</td>\n",
              "      <td>0.0</td>\n",
              "      <td>0.0000</td>\n",
              "      <td>16.0</td>\n",
              "      <td>...</td>\n",
              "      <td>19.9</td>\n",
              "      <td>10.8</td>\n",
              "      <td>16.420000</td>\n",
              "      <td>7.5</td>\n",
              "      <td>0.2</td>\n",
              "      <td>4.455</td>\n",
              "      <td>306.469234</td>\n",
              "      <td>38.833943</td>\n",
              "      <td>13.154552</td>\n",
              "      <td>24.830468</td>\n",
              "      <td>0.00</td>\n",
              "      <td>0.0</td>\n",
              "      <td>0.000000</td>\n",
              "      <td>0.196850</td>\n",
              "      <td>0.0</td>\n",
              "      <td>0.078740</td>\n",
              "      <td>10.133764</td>\n",
              "      <td>0.567038</td>\n",
              "      <td>5.933870</td>\n",
              "      <td>0.0</td>\n",
              "      <td>0.0</td>\n",
              "      <td>0.0</td>\n",
              "      <td>0.0</td>\n",
              "      <td>0.0</td>\n",
              "      <td>0.0</td>\n",
              "      <td>82.8</td>\n",
              "      <td>33.1</td>\n",
              "      <td>60.875000</td>\n",
              "      <td>0.0</td>\n",
              "      <td>0.0</td>\n",
              "      <td>0.0</td>\n",
              "      <td>0.0</td>\n",
              "      <td>0.0</td>\n",
              "      <td>0.0</td>\n",
              "      <td>0.0</td>\n",
              "      <td>0.0</td>\n",
              "      <td>0.0</td>\n",
              "      <td>0.0</td>\n",
              "      <td>0.0</td>\n",
              "      <td>0.0</td>\n",
              "    </tr>\n",
              "  </tbody>\n",
              "</table>\n",
              "<p>3 rows × 840 columns</p>\n",
              "</div>\n",
              "      <button class=\"colab-df-convert\" onclick=\"convertToInteractive('df-e62c8ffe-46fa-4e64-8ad8-b823c601a253')\"\n",
              "              title=\"Convert this dataframe to an interactive table.\"\n",
              "              style=\"display:none;\">\n",
              "        \n",
              "  <svg xmlns=\"http://www.w3.org/2000/svg\" height=\"24px\"viewBox=\"0 0 24 24\"\n",
              "       width=\"24px\">\n",
              "    <path d=\"M0 0h24v24H0V0z\" fill=\"none\"/>\n",
              "    <path d=\"M18.56 5.44l.94 2.06.94-2.06 2.06-.94-2.06-.94-.94-2.06-.94 2.06-2.06.94zm-11 1L8.5 8.5l.94-2.06 2.06-.94-2.06-.94L8.5 2.5l-.94 2.06-2.06.94zm10 10l.94 2.06.94-2.06 2.06-.94-2.06-.94-.94-2.06-.94 2.06-2.06.94z\"/><path d=\"M17.41 7.96l-1.37-1.37c-.4-.4-.92-.59-1.43-.59-.52 0-1.04.2-1.43.59L10.3 9.45l-7.72 7.72c-.78.78-.78 2.05 0 2.83L4 21.41c.39.39.9.59 1.41.59.51 0 1.02-.2 1.41-.59l7.78-7.78 2.81-2.81c.8-.78.8-2.07 0-2.86zM5.41 20L4 18.59l7.72-7.72 1.47 1.35L5.41 20z\"/>\n",
              "  </svg>\n",
              "      </button>\n",
              "      \n",
              "  <style>\n",
              "    .colab-df-container {\n",
              "      display:flex;\n",
              "      flex-wrap:wrap;\n",
              "      gap: 12px;\n",
              "    }\n",
              "\n",
              "    .colab-df-convert {\n",
              "      background-color: #E8F0FE;\n",
              "      border: none;\n",
              "      border-radius: 50%;\n",
              "      cursor: pointer;\n",
              "      display: none;\n",
              "      fill: #1967D2;\n",
              "      height: 32px;\n",
              "      padding: 0 0 0 0;\n",
              "      width: 32px;\n",
              "    }\n",
              "\n",
              "    .colab-df-convert:hover {\n",
              "      background-color: #E2EBFA;\n",
              "      box-shadow: 0px 1px 2px rgba(60, 64, 67, 0.3), 0px 1px 3px 1px rgba(60, 64, 67, 0.15);\n",
              "      fill: #174EA6;\n",
              "    }\n",
              "\n",
              "    [theme=dark] .colab-df-convert {\n",
              "      background-color: #3B4455;\n",
              "      fill: #D2E3FC;\n",
              "    }\n",
              "\n",
              "    [theme=dark] .colab-df-convert:hover {\n",
              "      background-color: #434B5C;\n",
              "      box-shadow: 0px 1px 3px 1px rgba(0, 0, 0, 0.15);\n",
              "      filter: drop-shadow(0px 1px 2px rgba(0, 0, 0, 0.3));\n",
              "      fill: #FFFFFF;\n",
              "    }\n",
              "  </style>\n",
              "\n",
              "      <script>\n",
              "        const buttonEl =\n",
              "          document.querySelector('#df-e62c8ffe-46fa-4e64-8ad8-b823c601a253 button.colab-df-convert');\n",
              "        buttonEl.style.display =\n",
              "          google.colab.kernel.accessAllowed ? 'block' : 'none';\n",
              "\n",
              "        async function convertToInteractive(key) {\n",
              "          const element = document.querySelector('#df-e62c8ffe-46fa-4e64-8ad8-b823c601a253');\n",
              "          const dataTable =\n",
              "            await google.colab.kernel.invokeFunction('convertToInteractive',\n",
              "                                                     [key], {});\n",
              "          if (!dataTable) return;\n",
              "\n",
              "          const docLinkHtml = 'Like what you see? Visit the ' +\n",
              "            '<a target=\"_blank\" href=https://colab.research.google.com/notebooks/data_table.ipynb>data table notebook</a>'\n",
              "            + ' to learn more about interactive tables.';\n",
              "          element.innerHTML = '';\n",
              "          dataTable['output_type'] = 'display_data';\n",
              "          await google.colab.output.renderOutput(dataTable, element);\n",
              "          const docLink = document.createElement('div');\n",
              "          docLink.innerHTML = docLinkHtml;\n",
              "          element.appendChild(docLink);\n",
              "        }\n",
              "      </script>\n",
              "    </div>\n",
              "  </div>\n",
              "  "
            ],
            "text/plain": [
              "   index        date  ...  GFS18_sleet_rate_min  GFS18_sleet_rate_avg\n",
              "0      0  2011-01-01  ...                   0.0                   0.0\n",
              "1      1  2011-01-02  ...                   0.0                   0.0\n",
              "2      2  2011-01-03  ...                   0.0                   0.0\n",
              "\n",
              "[3 rows x 840 columns]"
            ]
          },
          "metadata": {},
          "execution_count": 5
        }
      ]
    },
    {
      "cell_type": "code",
      "metadata": {
        "id": "6PqOsKd8oUOe",
        "outputId": "0263ff0b-898c-439e-ac68-a9f675d0c447",
        "colab": {
          "base_uri": "https://localhost:8080/",
          "height": 289
        }
      },
      "source": [
        "#Display the last three rows of the dataframe\n",
        "total_dataset.tail(n=3)"
      ],
      "execution_count": 6,
      "outputs": [
        {
          "output_type": "execute_result",
          "data": {
            "text/html": [
              "\n",
              "  <div id=\"df-5ddce52b-5541-4551-a35f-0229e2fc7106\">\n",
              "    <div class=\"colab-df-container\">\n",
              "      <div>\n",
              "<style scoped>\n",
              "    .dataframe tbody tr th:only-of-type {\n",
              "        vertical-align: middle;\n",
              "    }\n",
              "\n",
              "    .dataframe tbody tr th {\n",
              "        vertical-align: top;\n",
              "    }\n",
              "\n",
              "    .dataframe thead th {\n",
              "        text-align: right;\n",
              "    }\n",
              "</style>\n",
              "<table border=\"1\" class=\"dataframe\">\n",
              "  <thead>\n",
              "    <tr style=\"text-align: right;\">\n",
              "      <th></th>\n",
              "      <th>index</th>\n",
              "      <th>date</th>\n",
              "      <th>OBS_tmpf_max</th>\n",
              "      <th>OBS_tmpf_min</th>\n",
              "      <th>OBS_sknt_max</th>\n",
              "      <th>OBS_phour</th>\n",
              "      <th>GFS0_pmsl_max</th>\n",
              "      <th>GFS0_pmsl_min</th>\n",
              "      <th>GFS0_pmsl_avg</th>\n",
              "      <th>GFS0_pres_max</th>\n",
              "      <th>GFS0_pres_min</th>\n",
              "      <th>GFS0_pres_avg</th>\n",
              "      <th>GFS0_sktc_max</th>\n",
              "      <th>GFS0_sktc_min</th>\n",
              "      <th>GFS0_sktc_avg</th>\n",
              "      <th>GFS0_stc1_max</th>\n",
              "      <th>GFS0_stc1_min</th>\n",
              "      <th>GFS0_stc1_avg</th>\n",
              "      <th>GFS0_snfl_max</th>\n",
              "      <th>GFS0_snfl_min</th>\n",
              "      <th>GFS0_snfl_avg</th>\n",
              "      <th>GFS0_wtns_max</th>\n",
              "      <th>GFS0_wtns_min</th>\n",
              "      <th>GFS0_wtns_avg</th>\n",
              "      <th>GFS0_p01m_max</th>\n",
              "      <th>GFS0_p01m_min</th>\n",
              "      <th>GFS0_p01m_avg</th>\n",
              "      <th>GFS0_c01m_max</th>\n",
              "      <th>GFS0_c01m_min</th>\n",
              "      <th>GFS0_c01m_avg</th>\n",
              "      <th>GFS0_stc2_max</th>\n",
              "      <th>GFS0_stc2_min</th>\n",
              "      <th>GFS0_stc2_avg</th>\n",
              "      <th>GFS0_lcld_max</th>\n",
              "      <th>GFS0_lcld_min</th>\n",
              "      <th>GFS0_lcld_avg</th>\n",
              "      <th>GFS0_mcld_max</th>\n",
              "      <th>GFS0_mcld_min</th>\n",
              "      <th>GFS0_mcld_avg</th>\n",
              "      <th>GFS0_hcld_max</th>\n",
              "      <th>...</th>\n",
              "      <th>GFS18_td_max</th>\n",
              "      <th>GFS18_td_min</th>\n",
              "      <th>GFS18_td_avg</th>\n",
              "      <th>GFS18_wspd_max</th>\n",
              "      <th>GFS18_wspd_min</th>\n",
              "      <th>GFS18_wspd_avg</th>\n",
              "      <th>GFS18_wdir</th>\n",
              "      <th>GFS18_hiwc_max</th>\n",
              "      <th>GFS18_hiwc_min</th>\n",
              "      <th>GFS18_hiwc_avg</th>\n",
              "      <th>GFS18_qpf_max</th>\n",
              "      <th>GFS18_qpf_min</th>\n",
              "      <th>GFS18_qpf_avg</th>\n",
              "      <th>GFS18_qpf_accum_max</th>\n",
              "      <th>GFS18_qpf_accum_min</th>\n",
              "      <th>GFS18_qpf_accum_avg</th>\n",
              "      <th>GFS18_wagl_max</th>\n",
              "      <th>GFS18_wagl_min</th>\n",
              "      <th>GFS18_wagl_avg</th>\n",
              "      <th>GFS18_frz_rain_max</th>\n",
              "      <th>GFS18_frz_rain_min</th>\n",
              "      <th>GFS18_frz_rain_avg</th>\n",
              "      <th>GFS18_sleet_max</th>\n",
              "      <th>GFS18_sleet_min</th>\n",
              "      <th>GFS18_sleet_avg</th>\n",
              "      <th>GFS18_rh_max</th>\n",
              "      <th>GFS18_rh_min</th>\n",
              "      <th>GFS18_rh_avg</th>\n",
              "      <th>GFS18_buf_snow_sr_rate_max</th>\n",
              "      <th>GFS18_buf_snow_sr_rate_min</th>\n",
              "      <th>GFS18_buf_snow_sr_rate_avg</th>\n",
              "      <th>GFS18_buf_snow_maxt_rate_max</th>\n",
              "      <th>GFS18_buf_snow_maxt_rate_min</th>\n",
              "      <th>GFS18_buf_snow_maxt_rate_avg</th>\n",
              "      <th>GFS18_frz_rain_rate_max</th>\n",
              "      <th>GFS18_frz_rain_rate_min</th>\n",
              "      <th>GFS18_frz_rain_rate_avg</th>\n",
              "      <th>GFS18_sleet_rate_max</th>\n",
              "      <th>GFS18_sleet_rate_min</th>\n",
              "      <th>GFS18_sleet_rate_avg</th>\n",
              "    </tr>\n",
              "  </thead>\n",
              "  <tbody>\n",
              "    <tr>\n",
              "      <th>3133</th>\n",
              "      <td>3134</td>\n",
              "      <td>2019-07-30</td>\n",
              "      <td>91.0</td>\n",
              "      <td>69.1</td>\n",
              "      <td>17.0</td>\n",
              "      <td>0.2200</td>\n",
              "      <td>1017.3</td>\n",
              "      <td>1013.9</td>\n",
              "      <td>1015.879167</td>\n",
              "      <td>976.5</td>\n",
              "      <td>973.4</td>\n",
              "      <td>975.133333</td>\n",
              "      <td>35.74</td>\n",
              "      <td>18.54</td>\n",
              "      <td>24.665000</td>\n",
              "      <td>296.1</td>\n",
              "      <td>294.6</td>\n",
              "      <td>295.420833</td>\n",
              "      <td>0.0</td>\n",
              "      <td>0.0</td>\n",
              "      <td>0.0</td>\n",
              "      <td>0.0</td>\n",
              "      <td>0.0</td>\n",
              "      <td>0.0</td>\n",
              "      <td>0.0</td>\n",
              "      <td>0.0</td>\n",
              "      <td>0.0</td>\n",
              "      <td>0.0</td>\n",
              "      <td>0.0</td>\n",
              "      <td>0.0</td>\n",
              "      <td>0.0</td>\n",
              "      <td>0.0</td>\n",
              "      <td>0.0</td>\n",
              "      <td>100.0</td>\n",
              "      <td>0.0</td>\n",
              "      <td>22.416667</td>\n",
              "      <td>77.0</td>\n",
              "      <td>0.0</td>\n",
              "      <td>13.25</td>\n",
              "      <td>77.0</td>\n",
              "      <td>...</td>\n",
              "      <td>67.9</td>\n",
              "      <td>57.0</td>\n",
              "      <td>61.183333</td>\n",
              "      <td>6.1</td>\n",
              "      <td>0.2</td>\n",
              "      <td>3.158333</td>\n",
              "      <td>234.162347</td>\n",
              "      <td>91.228735</td>\n",
              "      <td>65.552</td>\n",
              "      <td>76.107149</td>\n",
              "      <td>0.01</td>\n",
              "      <td>0.0</td>\n",
              "      <td>0.000833</td>\n",
              "      <td>0.025591</td>\n",
              "      <td>0.0</td>\n",
              "      <td>0.008727</td>\n",
              "      <td>11.690291</td>\n",
              "      <td>0.929689</td>\n",
              "      <td>5.805374</td>\n",
              "      <td>0.0</td>\n",
              "      <td>0.0</td>\n",
              "      <td>0.0</td>\n",
              "      <td>0.0</td>\n",
              "      <td>0.0</td>\n",
              "      <td>0.0</td>\n",
              "      <td>84.2</td>\n",
              "      <td>32.0</td>\n",
              "      <td>62.129167</td>\n",
              "      <td>0.0</td>\n",
              "      <td>0.0</td>\n",
              "      <td>0.0</td>\n",
              "      <td>0.0</td>\n",
              "      <td>0.0</td>\n",
              "      <td>0.0</td>\n",
              "      <td>0.0</td>\n",
              "      <td>0.0</td>\n",
              "      <td>0.0</td>\n",
              "      <td>0.0</td>\n",
              "      <td>0.0</td>\n",
              "      <td>0.0</td>\n",
              "    </tr>\n",
              "    <tr>\n",
              "      <th>3134</th>\n",
              "      <td>3135</td>\n",
              "      <td>2019-07-31</td>\n",
              "      <td>87.1</td>\n",
              "      <td>68.0</td>\n",
              "      <td>11.0</td>\n",
              "      <td>0.0000</td>\n",
              "      <td>1018.1</td>\n",
              "      <td>1014.3</td>\n",
              "      <td>1016.579167</td>\n",
              "      <td>977.1</td>\n",
              "      <td>973.8</td>\n",
              "      <td>975.754167</td>\n",
              "      <td>34.04</td>\n",
              "      <td>17.34</td>\n",
              "      <td>23.702500</td>\n",
              "      <td>295.8</td>\n",
              "      <td>293.8</td>\n",
              "      <td>294.708333</td>\n",
              "      <td>0.0</td>\n",
              "      <td>0.0</td>\n",
              "      <td>0.0</td>\n",
              "      <td>0.0</td>\n",
              "      <td>0.0</td>\n",
              "      <td>0.0</td>\n",
              "      <td>0.0</td>\n",
              "      <td>0.0</td>\n",
              "      <td>0.0</td>\n",
              "      <td>0.0</td>\n",
              "      <td>0.0</td>\n",
              "      <td>0.0</td>\n",
              "      <td>0.0</td>\n",
              "      <td>0.0</td>\n",
              "      <td>0.0</td>\n",
              "      <td>100.0</td>\n",
              "      <td>0.0</td>\n",
              "      <td>16.916667</td>\n",
              "      <td>100.0</td>\n",
              "      <td>0.0</td>\n",
              "      <td>42.75</td>\n",
              "      <td>100.0</td>\n",
              "      <td>...</td>\n",
              "      <td>65.3</td>\n",
              "      <td>59.6</td>\n",
              "      <td>61.745833</td>\n",
              "      <td>5.4</td>\n",
              "      <td>1.2</td>\n",
              "      <td>2.595833</td>\n",
              "      <td>315.000000</td>\n",
              "      <td>90.926804</td>\n",
              "      <td>65.372</td>\n",
              "      <td>75.123608</td>\n",
              "      <td>0.07</td>\n",
              "      <td>0.0</td>\n",
              "      <td>0.007083</td>\n",
              "      <td>0.182283</td>\n",
              "      <td>0.0</td>\n",
              "      <td>0.043028</td>\n",
              "      <td>8.709977</td>\n",
              "      <td>1.714312</td>\n",
              "      <td>3.797031</td>\n",
              "      <td>0.0</td>\n",
              "      <td>0.0</td>\n",
              "      <td>0.0</td>\n",
              "      <td>0.0</td>\n",
              "      <td>0.0</td>\n",
              "      <td>0.0</td>\n",
              "      <td>85.6</td>\n",
              "      <td>34.7</td>\n",
              "      <td>66.162500</td>\n",
              "      <td>0.0</td>\n",
              "      <td>0.0</td>\n",
              "      <td>0.0</td>\n",
              "      <td>0.0</td>\n",
              "      <td>0.0</td>\n",
              "      <td>0.0</td>\n",
              "      <td>0.0</td>\n",
              "      <td>0.0</td>\n",
              "      <td>0.0</td>\n",
              "      <td>0.0</td>\n",
              "      <td>0.0</td>\n",
              "      <td>0.0</td>\n",
              "    </tr>\n",
              "    <tr>\n",
              "      <th>3135</th>\n",
              "      <td>3136</td>\n",
              "      <td>2019-08-01</td>\n",
              "      <td>88.0</td>\n",
              "      <td>66.2</td>\n",
              "      <td>12.0</td>\n",
              "      <td>0.7602</td>\n",
              "      <td>1019.0</td>\n",
              "      <td>1014.6</td>\n",
              "      <td>1017.283333</td>\n",
              "      <td>978.0</td>\n",
              "      <td>974.1</td>\n",
              "      <td>976.461111</td>\n",
              "      <td>38.24</td>\n",
              "      <td>16.94</td>\n",
              "      <td>26.023333</td>\n",
              "      <td>295.8</td>\n",
              "      <td>293.8</td>\n",
              "      <td>294.666667</td>\n",
              "      <td>0.0</td>\n",
              "      <td>0.0</td>\n",
              "      <td>0.0</td>\n",
              "      <td>0.0</td>\n",
              "      <td>0.0</td>\n",
              "      <td>0.0</td>\n",
              "      <td>0.0</td>\n",
              "      <td>0.0</td>\n",
              "      <td>0.0</td>\n",
              "      <td>0.0</td>\n",
              "      <td>0.0</td>\n",
              "      <td>0.0</td>\n",
              "      <td>0.0</td>\n",
              "      <td>0.0</td>\n",
              "      <td>0.0</td>\n",
              "      <td>100.0</td>\n",
              "      <td>0.0</td>\n",
              "      <td>27.000000</td>\n",
              "      <td>17.0</td>\n",
              "      <td>0.0</td>\n",
              "      <td>1.00</td>\n",
              "      <td>100.0</td>\n",
              "      <td>...</td>\n",
              "      <td>66.6</td>\n",
              "      <td>60.1</td>\n",
              "      <td>63.066667</td>\n",
              "      <td>7.4</td>\n",
              "      <td>0.7</td>\n",
              "      <td>2.683333</td>\n",
              "      <td>300.963757</td>\n",
              "      <td>93.220556</td>\n",
              "      <td>64.472</td>\n",
              "      <td>74.895638</td>\n",
              "      <td>0.07</td>\n",
              "      <td>0.0</td>\n",
              "      <td>0.013750</td>\n",
              "      <td>0.344882</td>\n",
              "      <td>0.0</td>\n",
              "      <td>0.189518</td>\n",
              "      <td>11.108476</td>\n",
              "      <td>0.944435</td>\n",
              "      <td>4.160592</td>\n",
              "      <td>0.0</td>\n",
              "      <td>0.0</td>\n",
              "      <td>0.0</td>\n",
              "      <td>0.0</td>\n",
              "      <td>0.0</td>\n",
              "      <td>0.0</td>\n",
              "      <td>87.0</td>\n",
              "      <td>37.5</td>\n",
              "      <td>70.354167</td>\n",
              "      <td>0.0</td>\n",
              "      <td>0.0</td>\n",
              "      <td>0.0</td>\n",
              "      <td>0.0</td>\n",
              "      <td>0.0</td>\n",
              "      <td>0.0</td>\n",
              "      <td>0.0</td>\n",
              "      <td>0.0</td>\n",
              "      <td>0.0</td>\n",
              "      <td>0.0</td>\n",
              "      <td>0.0</td>\n",
              "      <td>0.0</td>\n",
              "    </tr>\n",
              "  </tbody>\n",
              "</table>\n",
              "<p>3 rows × 840 columns</p>\n",
              "</div>\n",
              "      <button class=\"colab-df-convert\" onclick=\"convertToInteractive('df-5ddce52b-5541-4551-a35f-0229e2fc7106')\"\n",
              "              title=\"Convert this dataframe to an interactive table.\"\n",
              "              style=\"display:none;\">\n",
              "        \n",
              "  <svg xmlns=\"http://www.w3.org/2000/svg\" height=\"24px\"viewBox=\"0 0 24 24\"\n",
              "       width=\"24px\">\n",
              "    <path d=\"M0 0h24v24H0V0z\" fill=\"none\"/>\n",
              "    <path d=\"M18.56 5.44l.94 2.06.94-2.06 2.06-.94-2.06-.94-.94-2.06-.94 2.06-2.06.94zm-11 1L8.5 8.5l.94-2.06 2.06-.94-2.06-.94L8.5 2.5l-.94 2.06-2.06.94zm10 10l.94 2.06.94-2.06 2.06-.94-2.06-.94-.94-2.06-.94 2.06-2.06.94z\"/><path d=\"M17.41 7.96l-1.37-1.37c-.4-.4-.92-.59-1.43-.59-.52 0-1.04.2-1.43.59L10.3 9.45l-7.72 7.72c-.78.78-.78 2.05 0 2.83L4 21.41c.39.39.9.59 1.41.59.51 0 1.02-.2 1.41-.59l7.78-7.78 2.81-2.81c.8-.78.8-2.07 0-2.86zM5.41 20L4 18.59l7.72-7.72 1.47 1.35L5.41 20z\"/>\n",
              "  </svg>\n",
              "      </button>\n",
              "      \n",
              "  <style>\n",
              "    .colab-df-container {\n",
              "      display:flex;\n",
              "      flex-wrap:wrap;\n",
              "      gap: 12px;\n",
              "    }\n",
              "\n",
              "    .colab-df-convert {\n",
              "      background-color: #E8F0FE;\n",
              "      border: none;\n",
              "      border-radius: 50%;\n",
              "      cursor: pointer;\n",
              "      display: none;\n",
              "      fill: #1967D2;\n",
              "      height: 32px;\n",
              "      padding: 0 0 0 0;\n",
              "      width: 32px;\n",
              "    }\n",
              "\n",
              "    .colab-df-convert:hover {\n",
              "      background-color: #E2EBFA;\n",
              "      box-shadow: 0px 1px 2px rgba(60, 64, 67, 0.3), 0px 1px 3px 1px rgba(60, 64, 67, 0.15);\n",
              "      fill: #174EA6;\n",
              "    }\n",
              "\n",
              "    [theme=dark] .colab-df-convert {\n",
              "      background-color: #3B4455;\n",
              "      fill: #D2E3FC;\n",
              "    }\n",
              "\n",
              "    [theme=dark] .colab-df-convert:hover {\n",
              "      background-color: #434B5C;\n",
              "      box-shadow: 0px 1px 3px 1px rgba(0, 0, 0, 0.15);\n",
              "      filter: drop-shadow(0px 1px 2px rgba(0, 0, 0, 0.3));\n",
              "      fill: #FFFFFF;\n",
              "    }\n",
              "  </style>\n",
              "\n",
              "      <script>\n",
              "        const buttonEl =\n",
              "          document.querySelector('#df-5ddce52b-5541-4551-a35f-0229e2fc7106 button.colab-df-convert');\n",
              "        buttonEl.style.display =\n",
              "          google.colab.kernel.accessAllowed ? 'block' : 'none';\n",
              "\n",
              "        async function convertToInteractive(key) {\n",
              "          const element = document.querySelector('#df-5ddce52b-5541-4551-a35f-0229e2fc7106');\n",
              "          const dataTable =\n",
              "            await google.colab.kernel.invokeFunction('convertToInteractive',\n",
              "                                                     [key], {});\n",
              "          if (!dataTable) return;\n",
              "\n",
              "          const docLinkHtml = 'Like what you see? Visit the ' +\n",
              "            '<a target=\"_blank\" href=https://colab.research.google.com/notebooks/data_table.ipynb>data table notebook</a>'\n",
              "            + ' to learn more about interactive tables.';\n",
              "          element.innerHTML = '';\n",
              "          dataTable['output_type'] = 'display_data';\n",
              "          await google.colab.output.renderOutput(dataTable, element);\n",
              "          const docLink = document.createElement('div');\n",
              "          docLink.innerHTML = docLinkHtml;\n",
              "          element.appendChild(docLink);\n",
              "        }\n",
              "      </script>\n",
              "    </div>\n",
              "  </div>\n",
              "  "
            ],
            "text/plain": [
              "      index        date  ...  GFS18_sleet_rate_min  GFS18_sleet_rate_avg\n",
              "3133   3134  2019-07-30  ...                   0.0                   0.0\n",
              "3134   3135  2019-07-31  ...                   0.0                   0.0\n",
              "3135   3136  2019-08-01  ...                   0.0                   0.0\n",
              "\n",
              "[3 rows x 840 columns]"
            ]
          },
          "metadata": {},
          "execution_count": 6
        }
      ]
    },
    {
      "cell_type": "markdown",
      "metadata": {
        "id": "c6_MPYTdK-zt"
      },
      "source": [
        "There are a large number of predictors (i.e. features) in the dataset. With thousands of features to choose from automated methods may be more practical for winnowing which features are useful for weather prediction."
      ]
    },
    {
      "cell_type": "code",
      "metadata": {
        "id": "QfWwf3UnbVHG",
        "outputId": "3b2a12d5-c5f5-4c14-b512-83475b137a33",
        "colab": {
          "base_uri": "https://localhost:8080/"
        }
      },
      "source": [
        "#Show variables in dataframe\n",
        "print('The columns (predictor/input variables) we have to work with are:\\n')\n",
        "print(total_dataset.columns)"
      ],
      "execution_count": 7,
      "outputs": [
        {
          "output_type": "stream",
          "name": "stdout",
          "text": [
            "The columns (predictor/input variables) we have to work with are:\n",
            "\n",
            "Index(['index', 'date', 'OBS_tmpf_max', 'OBS_tmpf_min', 'OBS_sknt_max',\n",
            "       'OBS_phour', 'GFS0_pmsl_max', 'GFS0_pmsl_min', 'GFS0_pmsl_avg',\n",
            "       'GFS0_pres_max',\n",
            "       ...\n",
            "       'GFS18_buf_snow_sr_rate_avg', 'GFS18_buf_snow_maxt_rate_max',\n",
            "       'GFS18_buf_snow_maxt_rate_min', 'GFS18_buf_snow_maxt_rate_avg',\n",
            "       'GFS18_frz_rain_rate_max', 'GFS18_frz_rain_rate_min',\n",
            "       'GFS18_frz_rain_rate_avg', 'GFS18_sleet_rate_max',\n",
            "       'GFS18_sleet_rate_min', 'GFS18_sleet_rate_avg'],\n",
            "      dtype='object', length=840)\n"
          ]
        }
      ]
    },
    {
      "cell_type": "markdown",
      "source": [
        "**Section Summary**\n",
        "\n",
        "\n",
        "\n",
        "*   Used pandas to read the dataset\n",
        "  * Removed rows from dataset where observations where erroneous or invalid.\n",
        "*   Used pandas to visualize the dataset in tabular form\n",
        "  *   Displayed a truncated list of the variables available within the dataset.\n",
        "\n",
        "\n",
        "\n"
      ],
      "metadata": {
        "id": "2u3GNTZMIncX"
      }
    },
    {
      "cell_type": "markdown",
      "metadata": {
        "id": "ucmmMUCNZw3p"
      },
      "source": [
        "<br>\n",
        "\n",
        "# **4. Data Visualization**\n",
        "\n",
        "<br> "
      ]
    },
    {
      "cell_type": "markdown",
      "metadata": {
        "id": "FujXR8QwLfYF"
      },
      "source": [
        "In this notebook we will examine:\n",
        "- minimum temperature\n",
        "- maximum temperature\n",
        "\n",
        "The code below uses matplotib to visualize forecast and observation data for these two variables. To begin, lets extract the forecast and observation data for minimum and maximum temperature. "
      ]
    },
    {
      "cell_type": "code",
      "metadata": {
        "id": "atwbv2qjZ3jA",
        "outputId": "45fd4b43-3f55-4d82-a07a-aeed200ad7f0",
        "colab": {
          "base_uri": "https://localhost:8080/"
        }
      },
      "source": [
        "#Filter variables by name to extract only minimum GFS temperature forecast data.\n",
        "min_temperature_mdl = total_dataset.filter(like='tf_min')\n",
        "#Display minimum temperature variables (remember we have multiple models in this dataset!)\n",
        "print('\\nThe min temperature columns we have to work with are:')\n",
        "print(min_temperature_mdl.columns)\n",
        "\n",
        "#Filter variables by name to extract only maximum GFS temperature forecast data.\n",
        "max_temperature_mdl = total_dataset.filter(like='tf_max')\n",
        "#Display maximum temperature variables\n",
        "print('\\nThe max temperature columns we have to work with are:')\n",
        "print(max_temperature_mdl.columns)\n",
        "\n",
        "# --------------------------------------------------- #\n",
        "\n",
        "#Date format\n",
        "fmt = '%Y-%m-%d'\n",
        "#Retrieve time series dates\n",
        "dates = total_dataset['date'].values\n",
        "#Convert to datetime object\n",
        "dts = np.array([datetime.strptime(d,fmt) for d in dates]) #Loop through list of dates (string) and conver them to datetime objects using strptime\n",
        "\n",
        "#Retrieve observation time series \n",
        "max_temperature_obs = total_dataset['OBS_tmpf_max'].values\n",
        "min_temperature_obs = total_dataset['OBS_tmpf_min'].values\n",
        "\n",
        "#Retrieve GFS time series \n",
        "max_temperature_mdl = max_temperature_mdl.mean(axis=1)\n",
        "min_temperature_mdl = min_temperature_mdl.mean(axis=1)"
      ],
      "execution_count": 8,
      "outputs": [
        {
          "output_type": "stream",
          "name": "stdout",
          "text": [
            "\n",
            "The min temperature columns we have to work with are:\n",
            "Index(['GFS0_tf_min', 'GFS6_tf_min', 'GFS12_tf_min', 'GFS18_tf_min'], dtype='object')\n",
            "\n",
            "The max temperature columns we have to work with are:\n",
            "Index(['GFS0_tf_max', 'GFS6_tf_max', 'GFS12_tf_max', 'GFS18_tf_max'], dtype='object')\n"
          ]
        }
      ]
    },
    {
      "cell_type": "markdown",
      "source": [
        "Now, lets plot the forecast and observation data for minimum and maximum temperature. "
      ],
      "metadata": {
        "id": "xQaeMUuEmzRY"
      }
    },
    {
      "cell_type": "code",
      "source": [
        "fs=16 #set font size to 16\n",
        "matplotlib.rcParams.update({'font.size': fs}) #This sets a minimum fontsize for all matplotlib text (e.g. axis labels, tick labels, etc.)\n",
        "\n",
        "#Initialize figure\n",
        "fig = plt.figure(figsize=(12,6)) #This defines the dimension of the figure (17 in wide and 7 in tall)\n",
        "#get axes of subplot instance (to add ticklabels, etc.) \n",
        "ax1 = plt.subplot(121)\n",
        "#Plot distribution of GFS (00Z) forecast daily high/low temperature and temperature range\n",
        "plt.boxplot([max_temperature_mdl,min_temperature_mdl,max_temperature_mdl-min_temperature_mdl],notch=True,showmeans=True,showfliers=True)\n",
        "plt.grid(True) #Add grid to plot\n",
        "#Add axis labels and title\n",
        "plt.ylabel('Temperature ($\\circ$F)')\n",
        "ax1.set_xticklabels(['Max','Min','Difference'])\n",
        "plt.title('Forecast Temperature')\n",
        "#get axes of subplot instance (to add ticklabels, etc.) \n",
        "ax2 = plt.subplot(122)\n",
        "#Plot distribution of observed daily high/low temperature and temperature range\n",
        "plt.boxplot([max_temperature_obs,min_temperature_obs,max_temperature_obs-min_temperature_obs],notch=True,showmeans=True,showfliers=True)\n",
        "plt.grid(True) #Add grid to plot\n",
        "#Add axis labels and title\n",
        "plt.ylabel('Temperature ($\\circ$F)')\n",
        "ax2.set_xticklabels(['Max','Min','Difference'])\n",
        "plt.title('Observed Temperature')\n",
        "#Tighten plot to remove extra whitespace\n",
        "plt.tight_layout()\n",
        "#Adjust plot to add space for sup title (figure title)\n",
        "plt.subplots_adjust(top=0.85)\n",
        "plt.suptitle('Distribution of Daily Temperature Statistics ('+dates[0]+' to '+dates[-1]+')',fontsize=fs+2)\n",
        "#Display plot\n",
        "plt.show()"
      ],
      "metadata": {
        "id": "noHvCY-YOd4i",
        "outputId": "c5778b8a-551d-417f-e0bd-15c7c962b71b",
        "colab": {
          "base_uri": "https://localhost:8080/",
          "height": 437
        }
      },
      "execution_count": 9,
      "outputs": [
        {
          "output_type": "display_data",
          "data": {
            "image/png": "[encoded data removed]",
            "text/plain": [
              "<Figure size 864x432 with 2 Axes>"
            ]
          },
          "metadata": {
            "needs_background": "light"
          }
        }
      ]
    },
    {
      "cell_type": "markdown",
      "metadata": {
        "id": "wfL4KGxdMIiS"
      },
      "source": [
        "### Baseline Model\n",
        "\n",
        "At a minimum machine learning models should outperform NWP in forecasting the observed daily high/low temperature. \n",
        "\n",
        "Lets evaluate the accuracy of NWP by computing the error of the NWP model average for each target variable."
      ]
    },
    {
      "cell_type": "code",
      "metadata": {
        "id": "0Vo7YnOqmAP9",
        "outputId": "c56728a8-8498-4e3b-d189-2662c64d857b",
        "colab": {
          "base_uri": "https://localhost:8080/",
          "height": 422
        }
      },
      "source": [
        "#Set minimum font size for plot\n",
        "fs=16\n",
        "matplotlib.rcParams.update({'font.size': fs})\n",
        "\n",
        "#Plot NWP model mean errors statistic for min/max temperature, max wind speed, and precipitation\n",
        "fig = plt.figure(figsize=(8,6))\n",
        "\n",
        "#Plot min/max temperature error\n",
        "ax1 = plt.subplot(111)\n",
        "#Boxplots of daily temperature error (min/max)\n",
        "plt.boxplot([max_temperature_mdl-max_temperature_obs,(min_temperature_mdl-min_temperature_obs)],notch=True,showmeans=True) #,whis=[5,95],showfliers=False)\n",
        "plt.grid(True)\n",
        "#Add axis and ticklabels\n",
        "plt.ylabel('Temperature Error ($\\circ$F)')\n",
        "ax1.set_xticklabels(['Max','Min','Difference'])\n",
        "plt.grid(True)\n",
        "plt.title('Distribution of Mean Daily Temperature Forecast Error \\n('+dates[0]+' to '+dates[-1]+')',fontsize=fs+4)\n",
        "plt.show()"
      ],
      "execution_count": 10,
      "outputs": [
        {
          "output_type": "display_data",
          "data": {
            "image/png": "[encoded data removed]",
            "text/plain": [
              "<Figure size 576x432 with 1 Axes>"
            ]
          },
          "metadata": {
            "needs_background": "light"
          }
        }
      ]
    },
    {
      "cell_type": "markdown",
      "metadata": {
        "id": "NXhiREAB9bI4"
      },
      "source": [
        "# **5. Data Pre-processing**"
      ]
    },
    {
      "cell_type": "markdown",
      "metadata": {
        "id": "TRevmGVWDzgI"
      },
      "source": [
        "## Partitioning Data\n",
        "\n",
        "To facillitate machine learning we need to split our dataset into two segments consisting of forecast data (features) and observation data (targets).\n",
        "\n",
        "In ML variables used for prediction are called *features*. Conversely, *targets* are variables we seek to predict."
      ]
    },
    {
      "cell_type": "code",
      "metadata": {
        "id": "waIUkqG-FKvq",
        "outputId": "d6266c7d-69d5-4ad6-9e1a-312b35402721",
        "colab": {
          "base_uri": "https://localhost:8080/"
        }
      },
      "source": [
        "#Extract target (observation) data from dataset.\n",
        "total_target_data = total_dataset.filter(like='OBS_tmpf') #Use pandas to filter and display temperature observation data in tabular format\n",
        "print(total_target_data)"
      ],
      "execution_count": 11,
      "outputs": [
        {
          "output_type": "stream",
          "name": "stdout",
          "text": [
            "      OBS_tmpf_max  OBS_tmpf_min\n",
            "0            53.96         35.06\n",
            "1            53.60         30.02\n",
            "2            41.00         24.08\n",
            "3            48.02         24.08\n",
            "4            42.98         30.92\n",
            "...            ...           ...\n",
            "3131         89.10         64.90\n",
            "3132         90.00         68.00\n",
            "3133         91.00         69.10\n",
            "3134         87.10         68.00\n",
            "3135         88.00         66.20\n",
            "\n",
            "[3136 rows x 2 columns]\n"
          ]
        }
      ]
    },
    {
      "cell_type": "code",
      "metadata": {
        "id": "5Rn-7OsDFLmw",
        "outputId": "63350a73-d5a6-47d1-ea54-86c5c77fe849",
        "colab": {
          "base_uri": "https://localhost:8080/"
        }
      },
      "source": [
        "#Extract features (forecast) data from dataset \n",
        "dropCols = list(total_target_data.columns) + ['OBS_sknt_max','OBS_phour'] #Get list of variables in target dataset (add other obs variables not used in this module)\n",
        "total_feature_data = total_dataset.copy(deep=True) #Copy full dataset to initalize feature dataset\n",
        "total_feature_data = total_feature_data.drop(dropCols,axis=1) #Drop target variables (and date column) from feature dataset\n",
        "#Display the feature dataset (contains no observations)\n",
        "print(total_feature_data)"
      ],
      "execution_count": 13,
      "outputs": [
        {
          "output_type": "stream",
          "name": "stdout",
          "text": [
            "      index        date  ...  GFS18_sleet_rate_min  GFS18_sleet_rate_avg\n",
            "0         0  2011-01-01  ...                   0.0                   0.0\n",
            "1         1  2011-01-02  ...                   0.0                   0.0\n",
            "2         2  2011-01-03  ...                   0.0                   0.0\n",
            "3         3  2011-01-04  ...                   0.0                   0.0\n",
            "4         4  2011-01-05  ...                   0.0                   0.0\n",
            "...     ...         ...  ...                   ...                   ...\n",
            "3131   3132  2019-07-28  ...                   0.0                   0.0\n",
            "3132   3133  2019-07-29  ...                   0.0                   0.0\n",
            "3133   3134  2019-07-30  ...                   0.0                   0.0\n",
            "3134   3135  2019-07-31  ...                   0.0                   0.0\n",
            "3135   3136  2019-08-01  ...                   0.0                   0.0\n",
            "\n",
            "[3136 rows x 836 columns]\n"
          ]
        }
      ]
    },
    {
      "cell_type": "markdown",
      "metadata": {
        "id": "it6nyMj6TGsL"
      },
      "source": [
        "### How much data should go in each subset?\n",
        "  - Depends (I know, not the most ideal answer)\n",
        "  - Typical train/test split is 80% for training and 20% for testing\n",
        "    - Varies for the size of your dataset\n",
        "\n",
        "### **Lets split the data officially into training and testing datasets** \n",
        "  - Eliminate features with zero variance. (i.e. [variance thresholding](https://scikit-learn.org/stable/modules/generated/sklearn.feature_selection.VarianceThreshold.html#sklearn.feature_selection.VarianceThreshold))"
      ]
    },
    {
      "cell_type": "code",
      "metadata": {
        "id": "P1ALroM4LICd"
      },
      "source": [
        "# Define Function to split data based on given dates\n",
        "def split_data_year(feature_data,target_data,start_date,end_date):\n",
        "  '''\n",
        "  Args:\n",
        "    feature_data (pandas.DataFrame): dataset containing features (i.e. forecast data)\n",
        "    target_data (pandas.DataFrame): dataset containing targets (i.e. observations)\n",
        "    start_date_str (str): start date, of ouput datasets, in format '%Y%m%d_%H%M'\n",
        "    end_date (str): end date, of output datsets, in format: %Y%m%d_%H%M'\n",
        "\n",
        "  Return: a pair of pandas.DataFrames containing data within a given date range\n",
        "  '''\n",
        "\n",
        "  data = feature_data.copy() #Copy the feature dataset (we want a new dataset - not linked in-memory to input dataset) \n",
        "  date_list = pd.to_datetime(data['date']) #Convert dates from string objects to datetime objects\n",
        "  date_mask = (date_list >= start_date) & (date_list <= end_date) #Get list of indices with dates within the given date range\n",
        "  out_features = data.loc[date_mask,:].drop(['date'],axis=1) #Extract feature dataset at indices within the date range.\n",
        "  if (len(target_data.shape)>1):\n",
        "    out_targets = target_data.loc[date_mask,:] #Extract target dataset at indices within the date range.\n",
        "  else:\n",
        "    out_targets = target_data.loc[date_mask] #Extract target dataset at indices within the date range.\n",
        "\n",
        "  #Return feature and target datasets that containing data between the start and end date.\n",
        "  return out_features,out_targets\n",
        "\n",
        "# Define function to remove variables (features) with zero variance.\n",
        "def drop_novar(Xs_train,Xs_test,ys_train):\n",
        "  '''\n",
        "  Args:\n",
        "    Xs_train (pandas.DataFrame):  feature dataset used in training\n",
        "    Xs_test (pandas.DataFrame):  feature dataset used in testing\n",
        "    ys_train (pandas.DataFrame): target dataset used in training \n",
        "    \n",
        "  Returns: a pair of pandas.DataFrames containing variables with nonzero variance\n",
        "  '''\n",
        "\n",
        "  #Select features whose variance is nill (e.g. columns with all zeros)\n",
        "  vt_sel = VarianceThreshold(threshold=0).fit(Xs_train)\n",
        "  #Transform training and testing feature datasets using variance threshold \n",
        "  #(transformed from a DataFrame to a multi-dimensional numpy array)\n",
        "  Xs_train_vsel_arr = vt_sel.transform(Xs_train)\n",
        "  Xs_test_vsel_arr = vt_sel.transform(Xs_test)\n",
        "\n",
        "  #Get mask of features with zero variance\n",
        "  fselect = vt_sel.get_support()\n",
        "  \n",
        "  #Retrieve column names of features with nonzero variance\n",
        "  fidx = np.argwhere(fselect==1).T[0]\n",
        "  #Identify names of good features\n",
        "  good_features = Xs_train.columns[fidx]\n",
        "\n",
        "  #Rebuild pandas dataframe \n",
        "  Xs_train_vsel = pd.DataFrame(Xs_train_vsel_arr, columns = good_features)\n",
        "  Xs_test_vsel = pd.DataFrame(Xs_test_vsel_arr, columns = good_features)\n",
        "\n",
        "  return Xs_train_vsel,Xs_test_vsel"
      ],
      "execution_count": 14,
      "outputs": []
    },
    {
      "cell_type": "code",
      "metadata": {
        "id": "8meX2TT7Pkw4",
        "outputId": "ee826f0b-deb0-4548-b1cb-ffa30083eb42",
        "colab": {
          "base_uri": "https://localhost:8080/"
        }
      },
      "source": [
        "#Split total datasets into two segements (Training: 2011 - 2017;  Testing: 2018-2019)\n",
        "print(f\"total_feature_data shape: {total_feature_data.shape}\")\n",
        "#Extract Training data between 2011 and 2017\n",
        "X_train, y_train = split_data_year(total_feature_data,\n",
        "    total_target_data,'2011-01-01','2017-12-31')\n",
        "\n",
        "#Extract Testing data between 2018 and 2019\n",
        "X_test, y_test = split_data_year(total_feature_data,\n",
        "    total_target_data,'2018-01-01','2019-12-31')\n",
        "\n",
        "#Remove variables (features) with zero variance, during the training period (2011-2017)\n",
        "X_train,X_test = drop_novar(X_train,X_test,y_train)\n",
        "print(f\"X_train shape: {X_train.shape}\")\n",
        "print(f\"X_test shape: {X_test.shape}\")"
      ],
      "execution_count": 15,
      "outputs": [
        {
          "output_type": "stream",
          "name": "stdout",
          "text": [
            "total_feature_data shape: (3136, 836)\n",
            "X_train shape: (2555, 601)\n",
            "X_test shape: (581, 601)\n"
          ]
        }
      ]
    },
    {
      "cell_type": "markdown",
      "metadata": {
        "id": "2u1W5CsqoD_o"
      },
      "source": [
        "## Scaling and Transforming Data"
      ]
    },
    {
      "cell_type": "markdown",
      "metadata": {
        "id": "qo7Jwg2RoUEu"
      },
      "source": [
        " \n",
        "Why should you scale your data?\n",
        "- Some ML models are not scale invariant (e.g. [SVMs](https://scikit-learn.org/stable/modules/svm.html#regression) and [MLPs](https://scikit-learn.org/stable/modules/neural_networks_supervised.html#multi-layer-perceptron)). For these models, data variables with different scales (e.g. temperature versus sea-level pressure) affects what variables are considered important \n",
        "- Temperatures varying from $\\sim$180-330 K will be prioritized over specific humidity values varying from $\\sim$0-0.02 kg kg$^{-1}$\n",
        "\n",
        "Normalizing or scaling data removes this issue.\n",
        "\n",
        "**Important: We normalize/scale our data based on the training data and save these values to apply to testing data**\n",
        "\n",
        "More details about each transformation method can be found [here](https://scikit-learn.org/stable/auto_examples/preprocessing/plot_all_scaling.html#sphx-glr-auto-examples-preprocessing-plot-all-scaling-py)"
      ]
    },
    {
      "cell_type": "markdown",
      "metadata": {
        "id": "761fHRGho3W5"
      },
      "source": [
        "**[MinMaxScaler](https://scikit-learn.org/stable/modules/generated/sklearn.preprocessing.MinMaxScaler.html)**\n",
        "\n",
        "Scalar = $\\frac{x_{i} - min(x)}{max(x) - min(x)}$\n",
        "\n",
        "Scales data between 0 and 1 based on training data minimum and maximum values\n",
        "\n",
        "**Method of scaling for this notebook**\n",
        "\n",
        "- Replace any outlier values ( > 3 standard deviations from mean) with the training data mean\n",
        "\n",
        "- Use MinMaxScaler after replacement\n",
        "\n",
        "- Reduces the chance outliers affect training scaling values"
      ]
    },
    {
      "cell_type": "code",
      "metadata": {
        "id": "lsNgH_wcomgM",
        "outputId": "271792c5-9e44-4432-adea-6ddd740d9f3c",
        "colab": {
          "base_uri": "https://localhost:8080/"
        }
      },
      "source": [
        "# Define function to remove feature outliers that exceed three standard deviations\n",
        "# of the feature mean during the training period.\n",
        "def remove_outliers(train_features,test_features):\n",
        "  '''\n",
        "  Args:\n",
        "    train_features (pandas.DataFrame):  feature dataset used in training\n",
        "    test_features (pandas.DataFrame):  feature dataset used in testing\n",
        "    \n",
        "  Returns: a pair of pandas.DataFrames with outliers removed. Note that the threshold for outlier detection is defined from the TRAINING data!\n",
        "  '''\n",
        "  #Make copy of features prior to normalization and scaling\n",
        "  no_outlier_train_features = train_features.copy()\n",
        "  no_outlier_test_features = test_features.copy()\n",
        "\n",
        "  #Retrieve the mean and standard deviation of features during training\n",
        "  train_standard_dev = train_features.std()\n",
        "  train_mean = train_features.mean()\n",
        "\n",
        "  #Remove outliers from the training and testing datasets\n",
        "  for column in train_features.columns:\n",
        "    outlier_threshold_value = 3.0*train_standard_dev[column]\n",
        "    \n",
        "    #Where cond is True, keep the original value. Where False, replace with corresponding value from other\n",
        "    no_outlier_train_features[column].where(\n",
        "        np.abs(train_features[column]-train_mean[column]) < outlier_threshold_value, \n",
        "        train_mean[column],\n",
        "        inplace=True) #Replace outliers (where feature is more than 3STDEV from training mean) with the mean value during training.\n",
        "\n",
        "    no_outlier_test_features[column].where(\n",
        "        np.abs(test_features[column]-train_mean[column]) < outlier_threshold_value, \n",
        "        train_mean[column],\n",
        "        inplace=True) #Replace outliers (where feature is more than 3STDEV from training mean) with the mean value during training.\n",
        "    \n",
        "    #Return the traininga and testing DataFrames with outliers replaced.\n",
        "    return no_outlier_train_features,no_outlier_test_features\n",
        "\n",
        "# Define function to scale features to values between 0 and 1 (for SVM)\n",
        "# using the min/max values of features during the training period.\n",
        "def scale_data(train_features,test_features):\n",
        "  '''\n",
        "  Args:\n",
        "    train_features (pandas.DataFrame):  feature dataset used in training\n",
        "    test_features (pandas.DataFrame):  feature dataset used in testing\n",
        "    \n",
        "  Returns: a pair of pandas.DataFrames with features scaled to values between 0 and 1.\n",
        "   Note that the threshold for outlier detection is defined from the TRAINING data!\n",
        "  '''\n",
        "  #Initialize MinMax scaler to with training dataset\n",
        "  minmax_scaler = MinMaxScaler().fit(train_features)\n",
        "  #Scale datasets using MinMax scaling derived solely from the training dataset\n",
        "  train_features_scaled = minmax_scaler.transform(train_features)\n",
        "  test_features_scaled = minmax_scaler.transform(test_features)\n",
        "  #Return scaled features as pandas dataframes\n",
        "  train_features_scaled = pd.DataFrame(train_features_scaled,columns=train_features.columns)\n",
        "  test_features_scaled = pd.DataFrame(test_features_scaled,columns=test_features.columns)\n",
        "  return train_features_scaled,test_features_scaled\n",
        "\n",
        "#Remove outliers from full dataset\n",
        "X_train_nout,X_test_nout = remove_outliers(X_train,X_test)\n",
        "#Scale data from full dataset\n",
        "X_train_scaled,X_test_scaled = scale_data(X_train_nout,X_test_nout)\n",
        "print(f\"X_train_scaled (no outliers) shape: {X_train_scaled.shape}\")"
      ],
      "execution_count": 16,
      "outputs": [
        {
          "output_type": "stream",
          "name": "stdout",
          "text": [
            "X_train_scaled (no outliers) shape: (2555, 601)\n"
          ]
        }
      ]
    },
    {
      "cell_type": "markdown",
      "metadata": {
        "id": "ObZjwvZzuq3C"
      },
      "source": [
        "## Dimensionality Reduction\n",
        "\n",
        "Feature selection is about pairing down the number of features used in training to only those which help constrain model predictions.\n",
        "\n",
        "If your background is in atmospheric science you could probably do this feature selection subjectively using prior knowledge. However, with ~1000 features in the dataset its much more efficient to utilize pre-existing approaches to feature selection that can help automate the process."
      ]
    },
    {
      "cell_type": "markdown",
      "metadata": {
        "id": "OQu5qQh5rHnz"
      },
      "source": [
        "**Why perform dimensionality reduction?**\n",
        "- Requires less space to store data\n",
        "- Model training is faster on smaller dimensional datasets\n",
        "- Only train on relevant features (reduces redundancy)\n",
        "- Easier to visualize in lower dimensional space"
      ]
    },
    {
      "cell_type": "markdown",
      "metadata": {
        "id": "PUrazmHDyIsW"
      },
      "source": [
        "**[Univariate Feature Selection](https://scikit-learn.org/stable/modules/generated/sklearn.feature_selection.SelectKBest.html#sklearn.feature_selection.SelectKBest)**\n",
        "\n",
        "Another approach to feature selection is to selet features based on univariate statistical tests. "
      ]
    },
    {
      "cell_type": "code",
      "metadata": {
        "id": "jWD5z8cFyUNe"
      },
      "source": [
        "def get_usel(Xs_train,Xs_test,yval,cnt):\n",
        "  '''\n",
        "  Args:\n",
        "    Xs_train (pandas.DataFrame):  feature dataset used in training\n",
        "    Xs_test (pandas.DataFrame):  feature dataset used in testing\n",
        "    \n",
        "  Returns: a pair of pandas.DataFrames with univariate features selected. Note that the feature selected is performed using TRAINING data!\n",
        "  '''\n",
        "  #Select the highest 50 scoring features. Important! Only fit on the training dataset.\n",
        "  ut_sel = SelectKBest(f_regression,k=cnt).fit(Xs_train,yval)\n",
        "  #Transform both training and test datasets\n",
        "  Xs_train_usel_arr = ut_sel.transform(Xs_train)\n",
        "  Xs_test_usel_arr = ut_sel.transform(Xs_test)\n",
        "\n",
        "  #Get mask of features selected\n",
        "  fselect = ut_sel.get_support()\n",
        "  #Retrieve and print column names of selected features\n",
        "  fidx = np.argwhere(fselect==1).T[0]\n",
        "  good_features = Xs_train.columns[fidx]\n",
        "\n",
        "  #Convert to pandas dataframe\n",
        "  Xs_train_usel = pd.DataFrame(Xs_train_usel_arr, columns = good_features)\n",
        "  Xs_test_usel = pd.DataFrame(Xs_test_usel_arr, columns = good_features)\n",
        "\n",
        "  #Show data dimensions before and after feature selection\n",
        "  print(f'\\nTraining Data shape: {Xs_train.shape}')\n",
        "  print(f'Univariate Selected Training Data shape: {Xs_train_usel.shape}')\n",
        "  return Xs_train_usel,Xs_test_usel"
      ],
      "execution_count": 17,
      "outputs": []
    },
    {
      "cell_type": "markdown",
      "metadata": {
        "id": "Am6eyANAJHEf"
      },
      "source": [
        "**[Model-based Feature Selection](https://scikit-learn.org/stable/modules/generated/sklearn.feature_selection.SelectFromModel.html#sklearn.feature_selection.SelectFromModel)**\n",
        "\n",
        "Model-based estimators can be used to winnow features based on relative importance"
      ]
    },
    {
      "cell_type": "code",
      "metadata": {
        "id": "9HJgoeE7LT9J"
      },
      "source": [
        "# Define function to select a subset features based on their relative importance\n",
        "# to a given scikit-learn model's predictions.\n",
        "def get_msel(mdl,Xs_train,Xs_test,yval,thresh):\n",
        "  '''\n",
        "  Args:\n",
        "    mdl (sklearn.model): Regression model from scikit-learn\n",
        "    Xs_train (pandas.DataFrame):  feature dataset used in training\n",
        "    Xs_test (pandas.DataFrame):  feature dataset used in testing\n",
        "    \n",
        "  Returns: a pair of pandas.DataFrames with a subset of features selected using tree-based learning.\n",
        "  Note that feature selection is performed using TRAINING data!\n",
        "  '''\n",
        "  mdl.fit(Xs_train,yval)\n",
        "  #Use select from model to discard irrelevant features\n",
        "  model = SelectFromModel(mdl, threshold=thresh, prefit=True)\n",
        "  #Transform both training and testing datasets\n",
        "  Xs_train_tsel_arr = model.transform(Xs_train)\n",
        "  Xs_test_tsel_arr = model.transform(Xs_test)\n",
        "  #Retrieve indices of selected columns\n",
        "  msel = model.get_support()\n",
        "  #Get names of select features\n",
        "  good_features = Xs_train.columns[msel]\n",
        "  #Convert to pandas dataframe\n",
        "  Xs_train_tsel = pd.DataFrame(Xs_train_tsel_arr, columns = good_features)\n",
        "  Xs_test_tsel = pd.DataFrame(Xs_test_tsel_arr, columns = good_features)\n",
        "  #Show data dimensions before and after feature selection\n",
        "  print(f'\\nTraining Data shape: {Xs_train.shape}')\n",
        "  print(f'Tree-based Selected Training Data shape: {Xs_train_tsel.shape}')\n",
        "  return Xs_train_tsel,Xs_test_tsel"
      ],
      "execution_count": 18,
      "outputs": []
    },
    {
      "cell_type": "markdown",
      "source": [
        "Perform dimensionality reduction using the univariate selection and tree-based selection methods defined above."
      ],
      "metadata": {
        "id": "VJSYU-XOPIdX"
      }
    },
    {
      "cell_type": "code",
      "source": [
        "#Use univariate selection to find features linearly correlated with the target\n",
        "X_train_usel,X_test_usel = get_usel(X_train_scaled,X_test_scaled,y_train['OBS_tmpf_max'].values,100)\n",
        "print(f\"X_train_usel shape: {X_train_usel.shape}\")\n",
        "\n",
        "#Use gradient boosting to perform model-based feature selection.\n",
        "#Select features whose relative importances exceed the median (i.e. the most important half of the features)\n",
        "xgb_mdl = xgb.XGBRegressor(n_estimators=250,objective='reg:squarederror',random_state=0) #Initialize gradient boosting model\n",
        "X_train_tsel,X_test_tsel = get_msel(xgb_mdl,X_train,X_test,y_train['OBS_tmpf_max'].values,'median') #Perform feature selection\n",
        "print(f\"X_train_tsel shape: {X_train_tsel.shape}\")"
      ],
      "metadata": {
        "id": "-LfKPSJvOz3n"
      },
      "execution_count": null,
      "outputs": []
    },
    {
      "cell_type": "markdown",
      "metadata": {
        "id": "ydIu0eCYn3sn"
      },
      "source": [
        "## Feature Analysis"
      ]
    },
    {
      "cell_type": "markdown",
      "metadata": {
        "id": "scBtyDfjLxdp"
      },
      "source": [
        "### Univariate Feature Selection\n",
        "\n",
        "Features are highly correlated since target variable (temperature) is present among features. \n",
        "\n"
      ]
    },
    {
      "cell_type": "code",
      "metadata": {
        "id": "usto6QDFJWau"
      },
      "source": [
        "#Univariate Feature Selection\n",
        "corr = X_train_usel.iloc[:,0:10].corr()\n",
        "corr.style.background_gradient(cmap='coolwarm',vmin=-1,vmax=1).set_precision(2)"
      ],
      "execution_count": null,
      "outputs": []
    },
    {
      "cell_type": "markdown",
      "metadata": {
        "id": "fJGTb9IxMkWw"
      },
      "source": [
        "### Tree-based Feature Selection\n",
        "\n",
        "Model-based feature selection results in a subset of features that exhibits less colinearity. A high degree of colinearity between trees can complicate efforts to assess feature importance, particularly in random forests.\n",
        "\n",
        "In this notebook, ensemble methods generally perform best when tree-based feature selection is employed. In contrast, linear methods such as the SVM model and Linear Regression model worked best when trained using features retrieved through univariate feature selection."
      ]
    },
    {
      "cell_type": "code",
      "metadata": {
        "id": "SL6ayOl-Lsji"
      },
      "source": [
        "#Tree-based Feature Selection\n",
        "corr = X_train_tsel.iloc[:,0:10].corr()\n",
        "corr.style.background_gradient(cmap='coolwarm',vmin=-1,vmax=1).set_precision(2)"
      ],
      "execution_count": null,
      "outputs": []
    },
    {
      "cell_type": "markdown",
      "metadata": {
        "id": "B06Q2xVc887p"
      },
      "source": [
        "# **6. [Machine Learning (ML) Models](https://scikit-learn.org/stable/supervised_learning.html)**"
      ]
    },
    {
      "cell_type": "markdown",
      "metadata": {
        "id": "ZEkBwyVoTRTX"
      },
      "source": [
        "### [Regression Scoring Metrics](https://scikit-learn.org/stable/modules/model_evaluation.html#regression-metrics))"
      ]
    },
    {
      "cell_type": "markdown",
      "metadata": {
        "id": "91DNZ8r7G0NG"
      },
      "source": [
        "Some common evaluation metrics used with regression problems are: \n",
        "\n",
        "Mean absolute error (MAE): $\\frac{1}{N} \\sum\\limits_{i = 1}^{N} \\lvert \\hat{y}_i - y_i \\rvert$\n",
        "\n",
        "Mean squared error (MSE): $\\frac{1}{N} \\sum\\limits_{i = 1}^{N} (\\hat{y}_i - y_i)^2$\n",
        "\n",
        "$R^2$ Score: $1 - \\frac{\\sum\\limits_{i = 1}^{N}(\\hat{y}_i - y_i)^2}{\\sum\\limits_{i = 1}^{N}(y_i - \\bar{y_i})^2}$\n",
        "\n",
        "where $\\hat{y}_i$ is the observed value and ${y}_i$ is the predicted value.\n",
        "\n",
        "More regression evalution metrics can be found [here](https://scikit-learn.org/stable/modules/model_evaluation.html#regression-metrics). \n",
        "\n"
      ]
    },
    {
      "cell_type": "code",
      "metadata": {
        "id": "jgNFBMOxTprB"
      },
      "source": [
        "def regression_stats(name,ys_pred,ys_test):\n",
        "  '''\n",
        "  Args:\n",
        "    name (str): Name of model\n",
        "    ys_pred (numpy.array):  predicted maximum temperature\n",
        "    ys_test (numpy.array):  observed maximum temperature\n",
        "    \n",
        "  Returns (None)\n",
        "  '''\n",
        "  #Calculate and display model error\n",
        "  print('\\n'+name)\n",
        "  print(f'Score : {r2_score(ys_pred,ys_test)}')\n",
        "  print(f'MAE: {mean_absolute_error(ys_pred,ys_test)}')\n",
        "  print(f'RMSE : {np.sqrt(mean_squared_error(ys_pred,ys_test))}')"
      ],
      "execution_count": null,
      "outputs": []
    },
    {
      "cell_type": "markdown",
      "metadata": {
        "id": "5xEDls5oxKiG"
      },
      "source": [
        "### [Linear Regression (LR)](https://scikit-learn.org/stable/modules/generated/sklearn.linear_model.LinearRegression.html#sklearn.linear_model.LinearRegression)\n",
        "\n",
        "LR fits a linear model to minimize the residual sum of squared between features in the dataset (X) and targets predicted by linear approximation (y). \n",
        "\n",
        "  - *Advantages*\n",
        "    - Simple and fast to implement\n",
        "    - Easy to interpret (less complexity)\n",
        "  - *Disadvantages* \n",
        "    - The accuracy of the model is very sensitive to outliers\n",
        "    - Can be overly simplistic\n",
        "    - Performs poorly when relationships between variables are non-linear\n",
        "\n"
      ]
    },
    {
      "cell_type": "code",
      "metadata": {
        "id": "5sFbH8pq3QTL"
      },
      "source": [
        "#Define function to build a linear regression model to predict max temperature\n",
        "def run_lr(Xs_train,Xs_test,ys_train,ys_test,typ):\n",
        "  '''\n",
        "  Args:\n",
        "    Xs_train (pandas.DataFrame): training dataset \n",
        "    Xs_test (pandas.DataFrame): testing dataset\n",
        "    ys_train (numpy.array):  observed maximum temperature during training\n",
        "    ys_test (numpy.array):  observed maximum temperature during testing\n",
        "    typ (str): experiment name\n",
        "    \n",
        "  Returns:\n",
        "    y_pred (numpy.array): predicted maximum temperature during testing\n",
        "  '''\n",
        "  #Initialize the model\n",
        "  mLR = LinearRegression()\n",
        "  #Train a multivariate linear regression (MLR) model\n",
        "  mLR.fit(Xs_train,ys_train)\n",
        "  #Generate predictions using test dataset\n",
        "  y_pred = mLR.predict(Xs_test)\n",
        "  #Calculate and display model error\n",
        "  regression_stats('Linear Regression ('+typ+')',y_pred,ys_test)\n",
        "  #print('Linear Regression (LR): '+str(round(np.sqrt(mean_squared_error(y_pred,y_test)),3))+' K')\n",
        "  return y_pred"
      ],
      "execution_count": null,
      "outputs": []
    },
    {
      "cell_type": "code",
      "source": [
        "# Print out error statistics for the NWP model (average of GFS00Z and GFS12Z)\n",
        "y_true = y_test['OBS_tmpf_max'].values\n",
        "y_mdl = max_temperature_mdl[-y_test.shape[0]:].values\n",
        "\n",
        "print(f'NWP Score : {r2_score(y_mdl,y_true)}')\n",
        "print(f'NWP MAE: {mean_absolute_error(y_mdl,y_true)}')\n",
        "print(f'NWP RMSE : {np.sqrt(mean_squared_error(y_mdl,y_true))}')"
      ],
      "metadata": {
        "id": "Dt53OU6UWyfl"
      },
      "execution_count": null,
      "outputs": []
    },
    {
      "cell_type": "code",
      "source": [
        "#Perform LR on full dataset\n",
        "y_lr = run_lr(X_train,X_test,y_train['OBS_tmpf_max'].values,y_test['OBS_tmpf_max'].values,'All Features')"
      ],
      "metadata": {
        "id": "M9HJL8SnQ_0v"
      },
      "execution_count": null,
      "outputs": []
    },
    {
      "cell_type": "code",
      "source": [
        "#Perform LR on the reduced (tree-based selected) dataset\n",
        "y_lr_tsel = run_lr(X_train_tsel,X_test_tsel,y_train['OBS_tmpf_max'].values,y_test['OBS_tmpf_max'].values,'Tree-based Select')"
      ],
      "metadata": {
        "id": "APE4RUkayg_J"
      },
      "execution_count": null,
      "outputs": []
    },
    {
      "cell_type": "code",
      "source": [
        "#Perform LR on the reduced (univariate selected) dataset\n",
        "y_lr_usel = run_lr(X_train_usel,X_test_usel,y_train['OBS_tmpf_max'].values,y_test['OBS_tmpf_max'].values,'Univariate Select')"
      ],
      "metadata": {
        "id": "gxdd2lb_Qwqm"
      },
      "execution_count": null,
      "outputs": []
    },
    {
      "cell_type": "markdown",
      "metadata": {
        "id": "wPqkWmhysoqn"
      },
      "source": [
        "### [Support Vector Machines (SVM)](https://scikit-learn.org/stable/modules/generated/sklearn.svm.LinearSVR.html)\n",
        "\n",
        "  - *Advantages*\n",
        "    - Good at tackling problems in high dimensional spaces\n",
        "    - Effective even when then number of features exceeds the number of samples\n",
        "\n",
        "  - *Disadvantages*\n",
        "    - Prone to over-fitting, especially when the number of features is much greater than the number of samples\n",
        "    - Requires feature scaling\n",
        "\n",
        "Examples in Atmospheric Science:\n",
        "  - Temperature forecasting: [Radhika and Shashi 2009](https://doi.org/10.7763/IJCTE.2009.V1.9)\n",
        "  - Tornado prediction ([Trafalis et al. 2003](https://link.springer.com/content/pdf/10.1007/3-540-44864-0_30.pdf); [Adrianto et al. 2009](https://doi.org/10.1080/03081070601068629))"
      ]
    },
    {
      "cell_type": "code",
      "metadata": {
        "id": "d4Ua65diTlNT"
      },
      "source": [
        "#Define function to build a linear SVM to predict max temperature\n",
        "def run_svm(Xs_train,Xs_test,ys_train,ys_test,typ):\n",
        "  '''\n",
        "  Args:\n",
        "    Xs_train (pandas.DataFrame): training dataset \n",
        "    Xs_test (pandas.DataFrame): testing dataset\n",
        "    ys_train (numpy.array):  observed maximum temperature during training\n",
        "    ys_test (numpy.array):  observed maximum temperature during testing\n",
        "    typ (str): experiment name\n",
        "    \n",
        "  Returns:\n",
        "    y_pred (numpy.array): predicted maximum temperature during testing\n",
        "  '''\n",
        "  svm_regr = svm.LinearSVR(random_state=0) #Note linear SVM!\n",
        "  ##Note SVMs are not scale invariant so its recommended to first scale your data! \n",
        "  svm_regr.fit(Xs_train,ys_train)\n",
        "  y_pred = svm_regr.predict(Xs_test)\n",
        "  #Calculate and display model error\n",
        "  regression_stats('Support Vector Machine ('+typ+')',y_pred,ys_test)\n",
        "  return y_pred"
      ],
      "execution_count": null,
      "outputs": []
    },
    {
      "cell_type": "code",
      "source": [
        "#SVM trained on full dataset\n",
        "y_svm = run_svm(X_train,X_test,y_train['OBS_tmpf_max'].values,y_test['OBS_tmpf_max'].values,'All Features')"
      ],
      "metadata": {
        "id": "xbAtQVodWTKl"
      },
      "execution_count": null,
      "outputs": []
    },
    {
      "cell_type": "code",
      "source": [
        "#SVM with univariate feature seletion (univariate feature were pre-scaled - see Linear Regression cell above)\n",
        "y_svm_usel = run_svm(X_train_usel,X_test_usel,y_train['OBS_tmpf_max'].values,y_test['OBS_tmpf_max'].values,'Univariate Select')"
      ],
      "metadata": {
        "id": "TAT-7KS9ypL-"
      },
      "execution_count": null,
      "outputs": []
    },
    {
      "cell_type": "markdown",
      "metadata": {
        "id": "HVxPS9ZD8YrE"
      },
      "source": [
        "## [Ensemble Methods](https://scikit-learn.org/stable/modules/classes.html#module-sklearn.ensemble)\n",
        "\n"
      ]
    },
    {
      "cell_type": "markdown",
      "metadata": {
        "id": "yNN3YKPAEZKQ"
      },
      "source": [
        "### [Gradient Boosting (GB)](https://scikit-learn.org/stable/modules/generated/sklearn.ensemble.HistGradientBoostingRegressor.html#sklearn.ensemble.HistGradientBoostingRegressor)\n",
        "- *Advantages*: \n",
        "  - Fast!\n",
        "  - Uses sequantial learning (boosting) to reduce both variance and bias.  \n",
        "  - With hyper-parameter tuning can outperform random forests and other ensemble decision tree algorithms.\n",
        "  - Many supported algorithms (e.g. [XGBoost](https://xgboost.readthedocs.io/en/latest/), [GradientBoosting](https://scikit-learn.org/stable/modules/generated/sklearn.ensemble.GradientBoostingRegressor.html), [HistGradientBoosting](https://scikit-learn.org/stable/modules/generated/sklearn.ensemble.HistGradientBoostingRegressor.html#sklearn.ensemble.HistGradientBoostingRegressor))\n",
        "- *Disadvantages*\n",
        "  - Harder to interpret than other tree-based models. \n",
        "  - Can be harder to tune hyper-parameters compared to random forests.\n",
        "\n",
        "More info about *HistGradientBoosting* [here](https://machinelearningmastery.com/histogram-based-gradient-boosting-ensembles/). \n",
        "\n",
        "Examples in Atmospheric Science\n",
        "  - Severe storm classification: ([Haberlie and Ashley, 2018](https://doi.org/10.1175/JAMC-D-17-0293.1); [Jergensen et al., 2020](https://doi.org/10.1175/WAF-D-19-0170.1))\n",
        "  - Satellite meteorology ([Kilpatrick et al. 2019](https://doi.org/10.1175/JTECH-D-18-0103.1); [Ma et al., 2018](https://doi.org/10.1175/JHM-D-17-0109.1))\n",
        "  - Wind forecasting: ([Sprenger et al., 2017](https://doi.org/10.1175/WAF-D-16-0208.1))\n",
        "  - Probablistic forecasting of severe weather ([Simon et al., 2018](https://doi.org/10.1175/MWR-D-17-0366.1))\n",
        "  - Bias correction of anonymous smartphone pressure observations ([McNicholas and Mass, 2021](https://doi.org/10.1175/WAF-D-20-0222.1))"
      ]
    },
    {
      "cell_type": "code",
      "metadata": {
        "id": "UOT_uf-RGsP4"
      },
      "source": [
        "#Define function to build a gradient boosting model to predict max temperature\n",
        "def run_gb(Xs_train,Xs_test,ys_train,ys_test,typ):\n",
        "  '''\n",
        "  Args:\n",
        "    Xs_train (pandas.DataFrame): training dataset \n",
        "    Xs_test (pandas.DataFrame): testing dataset\n",
        "    ys_train (numpy.array):  observed maximum temperature during training\n",
        "    ys_test (numpy.array):  observed maximum temperature during testing\n",
        "    typ (str): experiment name\n",
        "    \n",
        "  Returns:\n",
        "    y_pred (numpy.array): predicted maximum temperature during testing\n",
        "  '''\n",
        "  # Perform boosting with 250 trees (using Xtreme Gradient Boosting - XGB)\n",
        "  xgb_regr = xgb.XGBRegressor(n_estimators=250,objective='reg:squarederror',random_state=0)\n",
        "  #Fit XGB Regressor to training data\n",
        "  xgb_regr.fit(Xs_train,ys_train)\n",
        "  #Make predictions using test features\n",
        "  y_pred = xgb_regr.predict(Xs_test)\n",
        "  #Calculate and display model error\n",
        "  regression_stats('Gradient Boosting ('+typ+')',y_pred,ys_test)\n",
        "  return y_pred"
      ],
      "execution_count": null,
      "outputs": []
    },
    {
      "cell_type": "code",
      "source": [
        "#Perform Gradient Boosting with XGB\n",
        "y_xgb = run_gb(X_train,X_test,y_train['OBS_tmpf_max'].values,y_test['OBS_tmpf_max'].values,'All Features')"
      ],
      "metadata": {
        "id": "Hro3vFKzY3uu"
      },
      "execution_count": null,
      "outputs": []
    },
    {
      "cell_type": "code",
      "source": [
        "#Perform gradient boosting with select (tree-based) features\n",
        "y_xgb_tsel = run_gb(X_train_tsel,X_test_tsel,y_train['OBS_tmpf_max'].values,y_test['OBS_tmpf_max'].values,'Tree-based Select')"
      ],
      "metadata": {
        "id": "Fxky5DEjwrG3"
      },
      "execution_count": null,
      "outputs": []
    },
    {
      "cell_type": "code",
      "source": [
        "#Perform gradient boosting with select (univariate) features\n",
        "y_xgb_usel = run_gb(X_train_usel,X_test_usel,y_train['OBS_tmpf_max'].values,y_test['OBS_tmpf_max'].values,'Univariate Select')"
      ],
      "metadata": {
        "id": "1HlooG2uwmyP"
      },
      "execution_count": null,
      "outputs": []
    },
    {
      "cell_type": "markdown",
      "metadata": {
        "id": "C0XnLP33EWWe"
      },
      "source": [
        "### [Random Forests (RF)](https://scikit-learn.org/stable/modules/generated/sklearn.ensemble.RandomForestRegressor.html)\n",
        "- *Advantages*\n",
        "  - Robust to oultiers and less likely to overfit than decision trees. \n",
        "  - Usually accurate out of the box without the need for much parameter tuning.\n",
        "- *Disadvantages*\n",
        "  - Slower than other ensemble decision tree algorithms. \n",
        "  - Requires a large number of samples for training.\n",
        "\n",
        "Examples in Atmospheric Science\n",
        "  -  Prediction of Aviation turbulence ([Williams, 2004](https://doi.org/10.1007/s10994-013-5346-7))\n",
        "  -  Ensemble forecasting ([Loken et al., 2019](https://doi.org/10.1175/WAF-D-19-0109.1))\n",
        "  -  Severe weather forecasting:\n",
        "     - Tornadogenesis ([McGovern et al., 2014](https://doi.org/10.1007/s10994-013-5343-x))\n",
        "     - Straight-line winds ([Lagerquist et al., 2017](https://doi.org/10.1175/WAF-D-18-0183.1))\n",
        "     - Probablistic forecasting ([Hill et al., 2020](https://doi.org/10.1175/MWR-D-19-0344.1))\n",
        "     - Dryline/MCS feature identification ([Clark et al., 2015](https://doi.org/10.1175/WAF-D-15-0070.1))\n",
        "  - Smartphone pressure bias correction [(McNicholas and Mass, 2018)](https://journals.ametsoc.org/view/journals/atot/35/3/jtech-d-17-0096.1.xml)\n",
        "  \n"
      ]
    },
    {
      "cell_type": "code",
      "metadata": {
        "id": "h5g7ruG1EY1f"
      },
      "source": [
        "#Define function to build a random forest model to predict max temperature\n",
        "def run_rf(Xs_train,Xs_test,ys_train,ys_test,typ):\n",
        "  '''\n",
        "  Args:\n",
        "    Xs_train (pandas.DataFrame): training dataset \n",
        "    Xs_test (pandas.DataFrame): testing dataset\n",
        "    ys_train (numpy.array):  observed maximum temperature during training\n",
        "    ys_test (numpy.array):  observed maximum temperature during testing\n",
        "    typ (str): experiment name\n",
        "    \n",
        "  Returns:\n",
        "    y_pred (numpy.array): predicted maximum temperature during testing\n",
        "  '''\n",
        "  rf_regr = RandomForestRegressor(n_estimators=250,n_jobs=-1,random_state=0)\n",
        "  #Fit Random Forest to training data\n",
        "  rf_regr.fit(Xs_train,ys_train)\n",
        "  #Produce predictions using test features\n",
        "  y_pred = rf_regr.predict(Xs_test)\n",
        "  #Calculate and display model error\n",
        "  regression_stats('Random Forest ('+typ+')',y_pred,ys_test)\n",
        "  return y_pred"
      ],
      "execution_count": null,
      "outputs": []
    },
    {
      "cell_type": "code",
      "source": [
        "# Fit a random forest model using select (tree-based) features\n",
        "y_rf_tsel = run_rf(X_train_tsel,X_test_tsel,y_train['OBS_tmpf_max'].values,y_test['OBS_tmpf_max'].values,'Full Dataset')"
      ],
      "metadata": {
        "id": "H0Wg5n0dZHQu"
      },
      "execution_count": null,
      "outputs": []
    },
    {
      "cell_type": "markdown",
      "source": [
        "Compared to more sophisticated tree-based models like random forests and gradient boosting, good old linear regression performs remarkably well. Why do you think this is the case?"
      ],
      "metadata": {
        "id": "4HQuqsiWKARZ"
      }
    },
    {
      "cell_type": "markdown",
      "metadata": {
        "id": "AMMicgz9gGdJ"
      },
      "source": [
        "## Aggregate Methods\n",
        "\n",
        "  - *Advantages*\n",
        "    - Works well with models that have similar performance. \n",
        "    - Helps offset weakness of individual models \n",
        "    - Easily extendable.\n",
        "\n",
        "  - *Disadvantages*\n",
        "    - Simplistic. Averages individual preditions from each ML model. "
      ]
    },
    {
      "cell_type": "markdown",
      "metadata": {
        "id": "M-ayvPjJptfM"
      },
      "source": [
        "### [Voting Regressor](https://scikit-learn.org/stable/modules/generated/sklearn.ensemble.VotingRegressor.html)"
      ]
    },
    {
      "cell_type": "code",
      "metadata": {
        "id": "drJL2q1n6tzL"
      },
      "source": [
        "#Define function to build a voting regressor to predict max temperature\n",
        "#This model attempts to combine the best predictions of several models (e.g. LR, SV, and XGB)\n",
        "def run_vote(Xs_train,Xs_test,ys_train,ys_test,typ):\n",
        "  '''\n",
        "  Args:\n",
        "    Xs_train (pandas.DataFrame): training dataset \n",
        "    Xs_test (pandas.DataFrame): testing dataset\n",
        "    ys_train (numpy.array):  observed maximum temperature during training\n",
        "    ys_test (numpy.array):  observed maximum temperature during testing\n",
        "    typ (str): experiment name\n",
        "    \n",
        "  Returns:\n",
        "    y_pred (numpy.array): predicted maximum temperature during testing\n",
        "  '''\n",
        "  #Initialize models\n",
        "  mlr_reg = LinearRegression() #Linear Regression\n",
        "  svm_reg = svm.LinearSVR(random_state=0) #Linear SVM\n",
        "  xgb_regr = xgb.XGBRegressor(n_estimators=250,objective='reg:squarederror',random_state=0)\n",
        "  comb = VotingRegressor([('lr', mlr_reg), ('svm', svm_reg), ('xgb', xgb_regr)]) #Combine models with Voting Regressor\n",
        "  comb.fit(Xs_train,ys_train) #Fit voting regressor\n",
        "  #Generate predictions for test dataset\n",
        "  y_pred = comb.predict(Xs_test)\n",
        "  #Calculate and display model error\n",
        "  regression_stats('Voting Regressor ('+typ+')',y_pred,ys_test)\n",
        "  return y_pred"
      ],
      "execution_count": null,
      "outputs": []
    },
    {
      "cell_type": "code",
      "source": [
        "#Scale features from tree-based selection (for use in SVM)\n",
        "X_train_tsel_scaled,X_test_tsel_scaled = scale_data(X_train_tsel,X_test_tsel)\n",
        "\n",
        "#Use XGBTree-based feature selection to select features contributing the most to target prediction\n",
        "y_vote_tsel = run_vote(X_train_tsel_scaled,X_test_tsel_scaled,y_train['OBS_tmpf_max'].values,y_test['OBS_tmpf_max'].values,'Tree-based Select')"
      ],
      "metadata": {
        "id": "d-sWCZYgyv33"
      },
      "execution_count": null,
      "outputs": []
    },
    {
      "cell_type": "markdown",
      "metadata": {
        "id": "WQtaHRO9gMgY"
      },
      "source": [
        "### [Stacking Regressor](https://scikit-learn.org/stable/modules/generated/sklearn.ensemble.StackingRegressor.html#sklearn.ensemble.StackingRegressor)\n"
      ]
    },
    {
      "cell_type": "code",
      "metadata": {
        "id": "46CthCYM8UV9"
      },
      "source": [
        "#Define function to build a stacked regression model to predict max temperature\n",
        "#This model stacks various ML models (e.g. SVM and XGB) to sequentially improve predictions \n",
        "def run_stack(Xs_train,Xs_test,ys_train,ys_test,typ):\n",
        "  '''\n",
        "  Args:\n",
        "    Xs_train (pandas.DataFrame): training dataset \n",
        "    Xs_test (pandas.DataFrame): testing dataset\n",
        "    ys_train (numpy.array):  observed maximum temperature during training\n",
        "    ys_test (numpy.array):  observed maximum temperature during testing\n",
        "    typ (str): experiment name\n",
        "    \n",
        "  Returns:\n",
        "    y_pred (numpy.array): predicted maximum temperature during testing\n",
        "  '''\n",
        "  #Initialize the models\n",
        "  mlr_reg = LinearRegression() #Linear Regression\n",
        "  svm_reg = svm.LinearSVR(random_state=0) #Linear SVM\n",
        "  xgb_regr = xgb.XGBRegressor(n_estimators=250,objective='reg:squarederror',random_state=0)\n",
        "  comb_stack = StackingRegressor([('lr', mlr_reg), ('svm', svm_reg), ('xgb', xgb_regr)]) #Stack models\n",
        "  comb_stack.fit(Xs_train,ys_train) #Fit stacked regressor\n",
        "  #Generate predictions for test dataset\n",
        "  y_pred = comb_stack.predict(Xs_test)\n",
        "  #Calculate and display model error\n",
        "  regression_stats('Stacking Regressor ('+typ+')',y_pred,ys_test)\n",
        "  return y_pred"
      ],
      "execution_count": null,
      "outputs": []
    },
    {
      "cell_type": "code",
      "source": [
        "#Use scaled tree-based selected features to train a sequential (stacking) regressor\n",
        "#Note: Always test whether scaling/outlier removal actually benefits predictions!\n",
        "y_stack_tsel = run_stack(X_train_tsel_scaled,X_test_tsel_scaled,y_train['OBS_tmpf_max'].values,y_test['OBS_tmpf_max'].values,'Tree-based Select')"
      ],
      "metadata": {
        "id": "zsv3UAOpyzgf"
      },
      "execution_count": null,
      "outputs": []
    },
    {
      "cell_type": "markdown",
      "metadata": {
        "id": "dOUD-jQKtTfe"
      },
      "source": [
        "# **7. Model Evaluation**"
      ]
    },
    {
      "cell_type": "markdown",
      "metadata": {
        "id": "5vAmcZKjn0O3"
      },
      "source": [
        "## Model Comparison"
      ]
    },
    {
      "cell_type": "markdown",
      "metadata": {
        "id": "z8SsnWO2T7E1"
      },
      "source": [
        "\n",
        "Below we compare the performance of machine learning models trained above to the NWP forecast model average.\n",
        "\n",
        "Since ML models are primarily trained with mean squared error (MSE) loss as a scoring metric we'll examine the MSE of all models\n",
        "\n",
        "We'll also explore how the accuracy of ML predictions compares to the NWP model average as a function of error magnitude (i.e. percentile). "
      ]
    },
    {
      "cell_type": "code",
      "metadata": {
        "id": "pVbJU5K2QId9"
      },
      "source": [
        "def compute_err(ys_pred,ys_test):\n",
        "  '''\n",
        "  Args:\n",
        "    ys_pred (numpy.array):  predicted maximum temperature during testing\n",
        "    ys_test (numpy.array):  observed maximum temperature during testing\n",
        "    \n",
        "  Returns:\n",
        "    y_err (numpy.array): difference between model prediction and observation\n",
        "  '''\n",
        "  #Return the error (difference between prediction and observation during the testing period)\n",
        "  yerr = ys_pred - ys_test\n",
        "  return yerr\n",
        "\n",
        "def compute_pct_err(ys_pred,ys_test,ys_nwp):\n",
        "  '''\n",
        "  Args:\n",
        "    ys_pred (numpy.array):  predicted maximum temperature during testing\n",
        "    ys_test (numpy.array):  observed maximum temperature during testing\n",
        "    \n",
        "  Returns:\n",
        "    parr (numpy.array): difference in the cumulative distribution of error between an NWP model and an ML model \n",
        "  '''\n",
        "  parr = []\n",
        "  for k in range(2,101,1):\n",
        "    parr.append(np.percentile(abs(ys_pred-ys_test),k)-np.percentile(abs(ys_nwp-ys_test),k))\n",
        "\n",
        "  parr = np.array(parr)\n",
        "  return parr\n",
        "\n",
        "y_test_tmp = y_test['OBS_tmpf_max'].values\n",
        "\n",
        "yerr_lr = compute_err(y_lr_tsel,y_test_tmp)\n",
        "yerr_svm = compute_err(y_svm_usel,y_test_tmp)\n",
        "yerr_rf = compute_err(y_rf_tsel,y_test_tmp)\n",
        "yerr_xgb = compute_err(y_xgb_tsel,y_test_tmp)\n",
        "yerr_vote = compute_err(y_vote_tsel,y_test_tmp)\n",
        "yerr_stack = compute_err(y_stack_tsel,y_test_tmp)\n",
        "\n",
        "#Set minimum font size for plot\n",
        "fs=16\n",
        "matplotlib.rcParams.update({'font.size': fs})\n",
        "\n",
        "nwp_max_tmp = max_temperature_mdl[-y_test_tmp.shape[0]:].values\n",
        "nwp_err = nwp_max_tmp - y_test_tmp\n",
        "\n",
        "lr_err_diff = compute_pct_err(y_lr_tsel,y_test_tmp,nwp_max_tmp)\n",
        "svm_err_diff = compute_pct_err(y_svm_usel,y_test_tmp,nwp_max_tmp)\n",
        "rf_err_diff = compute_pct_err(y_rf_tsel,y_test_tmp,nwp_max_tmp)\n",
        "xgb_err_diff = compute_pct_err(y_xgb_tsel,y_test_tmp,nwp_max_tmp)\n",
        "vote_err_diff = compute_pct_err(y_vote_tsel,y_test_tmp,nwp_max_tmp)\n",
        "stack_err_diff = compute_pct_err(y_stack_tsel,y_test_tmp,nwp_max_tmp)\n",
        "\n",
        "fig = plt.figure(figsize=(20,8))\n",
        "ax1 = plt.subplot(121)\n",
        "plt.boxplot([nwp_err**2,yerr_svm**2,yerr_rf**2,yerr_lr**2,yerr_xgb**2,yerr_vote**2,yerr_stack**2],notch=True,showmeans=True,showfliers=False)\n",
        "plt.grid(True)\n",
        "plt.axhline(y=np.median(nwp_err**2),color='k',linestyle='--',lw=2,alpha=0.5) #np.median(yerr_lr),color='k',linestyle='--',lw=2,alpha=0.5)\n",
        "#plt.ylim([0,30])\n",
        "plt.ylabel('Temperature Error ($\\circ$F)')\n",
        "ax1.set_xticklabels(['NWP','SVM','RF','LR','XBG','Vote','Stack'])\n",
        "plt.title('Mean Squared Error (MSE)')\n",
        "ax2 = plt.subplot(122)\n",
        "pct_ran = np.arange(2,101,1)\n",
        "#plt.plot(pct_ran,lr_err_diff,color='k',label='LR')\n",
        "plt.plot(pct_ran[::4],svm_err_diff[::4],'-ok',color='orangered',ms=7,label='SVM')\n",
        "plt.plot(pct_ran[::4],rf_err_diff[::4],'-ok',color='firebrick',label='RF',ms=7)\n",
        "plt.plot(pct_ran[::4],lr_err_diff[::4],'-ok',ms=7,label='LR')\n",
        "plt.plot(pct_ran[::4],xgb_err_diff[::4],'-ok',color='royalblue',label='XGB',ms=7)\n",
        "plt.plot(pct_ran[::4],vote_err_diff[::4],'-ok',color='forestgreen',label='Vote',ms=7)\n",
        "plt.plot(pct_ran[::4],stack_err_diff[::4],'-ok',color='hotpink',label='Stack',ms=7)\n",
        "plt.legend(numpoints=1,loc='best')\n",
        "plt.grid(True)\n",
        "plt.axhline(y=0,color='k',linestyle='--',lw=2,alpha=0.5) #np.median(yerr_lr),color='k',linestyle='--',lw=2,alpha=0.5)\n",
        "plt.ylabel('Temperature Error Difference ($\\circ$F)')\n",
        "plt.title('Cumulate Error Difference from NWP')\n",
        "plt.xlabel('Percentile (%)')\n",
        "#ax1.set_xticklabels(['DT','SVM','MLP','LR','XGB','RF','Vote','Stack'])\n",
        "plt.suptitle('KROA | Daily Max Temperature Error ('+dates[0]+' to '+dates[-1]+')',fontsize=fs+4)\n",
        "plt.show()"
      ],
      "execution_count": null,
      "outputs": []
    },
    {
      "cell_type": "markdown",
      "metadata": {
        "id": "5-ix6M7zPjKh"
      },
      "source": [
        "**All ML models outperform the NWP model average**.\n",
        "\n",
        "*Mean Squared Error*\n",
        "\n",
        "- The best model is actually a combination of models (i.e. the stacking regressor). The stacked regressor combines the linear regressor, SVM, and gradient boosting model into one. \n",
        "\n",
        "*Cumulative Error Difference*\n",
        "\n",
        "- The difference in the distribution of error between the NWP model average and the ML models reveals **why machine learning is so powerful!**\n",
        "- The efficacy of machine learning models in reducing error is felt most strongly at the tail of the max temperature error distribution. On any given day, with quiescent weather and low model error, ML models may offer only marginal benefit over the NWP model average (e.g. at 10th percentile). However, when NWP model errors are large at the tail of the distribution, that is when machine learning really shines!\n",
        "\n",
        "\n",
        "\n"
      ]
    },
    {
      "cell_type": "markdown",
      "source": [
        "## Learning Curves"
      ],
      "metadata": {
        "id": "YwG01ozYhTLU"
      }
    },
    {
      "cell_type": "markdown",
      "metadata": {
        "id": "KekLPn49g1FE"
      },
      "source": [
        "**Can we do better?**\n",
        "\n",
        "Machine learning performance is often examined in terms of bias and variance. Balancing the trade-off betweent the two is a key challenge for any ML model.\n",
        "\n",
        "Learning curves provide a way to visualize this trade-off. Learning curves display training and testing (or cross-validation) error as a function of training sample size. "
      ]
    },
    {
      "cell_type": "markdown",
      "metadata": {
        "id": "AIGftEvSaH1i"
      },
      "source": [
        "![training_curves2.png](data:image/png;base64,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)\n",
        "\n",
        "![training_curves.png](data:image/png;base64,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)\n",
        "\n",
        "For further explanation of learning curves and the bias-variance trade-off see this [link](https://www.dataquest.io/blog/learning-curves-machine-learning/).\n",
        "\n",
        "Ideally we'd like our learning curve to look something like this:\n",
        "\n",
        "![ideal_curve.png](data:image/png;base64,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)\n",
        "\n",
        "------------------------------------------------------------------------"
      ]
    },
    {
      "cell_type": "markdown",
      "source": [
        "Run the next two cells below to produce learning curves for the Max Temperature XGBRegressor. "
      ],
      "metadata": {
        "id": "4GVWCAoTiUjg"
      }
    },
    {
      "cell_type": "code",
      "metadata": {
        "id": "B_hSVAEvbdQW"
      },
      "source": [
        "from sklearn.model_selection import learning_curve\n",
        "# Generate a plot depicting the test and training learning curve for a given \n",
        "# ML model (e.g. XGB)\n",
        "def plot_learning_curve(estimator, title, X, y, axes=None, ylim=None, cv=None,\n",
        "                        n_jobs=None, train_sizes=np.linspace(.1, 1.0, 5)):\n",
        "  \n",
        "  \"\"\"\n",
        "  Parameters\n",
        "  ----------\n",
        "  estimator : estimator instance\n",
        "      An estimator instance implementing `fit` and `predict` methods which\n",
        "      will be cloned for each validation.\n",
        "\n",
        "  title : str\n",
        "      Title for the chart.\n",
        "\n",
        "  X : array-like of shape (n_samples, n_features)\n",
        "      Training vector, where ``n_samples`` is the number of samples and\n",
        "      ``n_features`` is the number of features.\n",
        "\n",
        "  y : array-like of shape (n_samples) or (n_samples, n_features)\n",
        "      Target relative to ``X`` for classification or regression;\n",
        "      None for unsupervised learning.\n",
        "\n",
        "  axes : array-like of shape (3,), default=None\n",
        "      Axes to use for plotting the curves.\n",
        "\n",
        "  ylim : tuple of shape (2,), default=None\n",
        "      Defines minimum and maximum y-values plotted, e.g. (ymin, ymax).\n",
        "\n",
        "  cv : int, cross-validation generator or an iterable, default=None\n",
        "      Determines the cross-validation splitting strategy.\n",
        "      Possible inputs for cv are:\n",
        "\n",
        "        - None, to use the default 5-fold cross-validation,\n",
        "        - integer, to specify the number of folds.\n",
        "        - :term:`CV splitter`,\n",
        "        - An iterable yielding (train, test) splits as arrays of indices.\n",
        "\n",
        "      For integer/None inputs, if ``y`` is binary or multiclass,\n",
        "      :class:`StratifiedKFold` used. If the estimator is not a classifier\n",
        "      or if ``y`` is neither binary nor multiclass, :class:`KFold` is used.\n",
        "\n",
        "      Refer :ref:`User Guide <cross_validation>` for the various\n",
        "      cross-validators that can be used here.\n",
        "\n",
        "  n_jobs : int or None, default=None\n",
        "      Number of jobs to run in parallel.\n",
        "      ``None`` means 1 unless in a :obj:`joblib.parallel_backend` context.\n",
        "      ``-1`` means using all processors. See :term:`Glossary <n_jobs>`\n",
        "      for more details.\n",
        "\n",
        "  train_sizes : array-like of shape (n_ticks,)\n",
        "      Relative or absolute numbers of training examples that will be used to\n",
        "      generate the learning curve. If the ``dtype`` is float, it is regarded\n",
        "      as a fraction of the maximum size of the training set (that is\n",
        "      determined by the selected validation method), i.e. it has to be within\n",
        "      (0, 1]. Otherwise it is interpreted as absolute sizes of the training\n",
        "      sets. Note that for classification the number of samples usually have\n",
        "      to be big enough to contain at least one sample from each class.\n",
        "      (default: np.linspace(0.1, 1.0, 5))\n",
        "  \"\"\"\n",
        "\n",
        "  # Set plot title\n",
        "  axes.set_title(title)\n",
        "  # Set y-limit (if not None)\n",
        "  if ylim is not None:\n",
        "      axes.set_ylim(*ylim)\n",
        "  # Add axis labels\n",
        "  axes.set_xlabel(\"Training examples\")\n",
        "  axes.set_ylabel(\"Mean Squared Error\")\n",
        "\n",
        "  # Compute learning curves for the estimator (performs ML using training datasets\n",
        "  # of varying size to determine the sensitivity of ML performance to dataset size)\n",
        "  train_sizes, train_scores, test_scores, fit_times, _ = \\\n",
        "      learning_curve(estimator, X, y, cv=cv, n_jobs=n_jobs,\n",
        "                    train_sizes=train_sizes,scoring='neg_mean_squared_error',\n",
        "                    return_times=True)\n",
        "  \n",
        "  # Compute the mean and standard deviation of training and testing scores\n",
        "  train_scores_mean = np.mean(abs(train_scores), axis=1)\n",
        "  train_scores_std = np.std(abs(train_scores), axis=1)\n",
        "  test_scores_mean = np.mean(abs(test_scores), axis=1)\n",
        "  test_scores_std = np.std(abs(test_scores), axis=1)\n",
        "\n",
        "  # Plot training curve (training score - red)\n",
        "  axes.fill_between(train_sizes, train_scores_mean - train_scores_std,\n",
        "                      train_scores_mean + train_scores_std, alpha=0.1,\n",
        "                      color=\"r\")\n",
        "  # Plot testing curve (cross validation score - green)\n",
        "  axes.fill_between(train_sizes, test_scores_mean - test_scores_std,\n",
        "                      test_scores_mean + test_scores_std, alpha=0.1,\n",
        "                      color=\"g\")\n",
        "  # Plot mean of each curve\n",
        "  axes.plot(train_sizes, train_scores_mean, 'o-', color=\"r\",\n",
        "              label=\"Training score\")\n",
        "  axes.plot(train_sizes, test_scores_mean, 'o-', color=\"g\",\n",
        "              label=\"Cross-validation score\")\n",
        "  # Add legend\n",
        "  axes.legend(loc=\"best\")"
      ],
      "execution_count": null,
      "outputs": []
    },
    {
      "cell_type": "code",
      "source": [
        "# Initialize XGB model\n",
        "xgb_reg = xgb.XGBRegressor(n_estimators=250,objective='reg:squarederror',random_state=0)\n",
        "\n",
        "# Initialize the figure\n",
        "fig = plt.figure(figsize=(12,8))\n",
        "# Define an axis and subplot\n",
        "ax1 = plt.subplot(111)\n",
        "# Plot learning curves for an XGB model trained to predict max daily temperature\n",
        "plot_learning_curve(xgb_reg,'XGB Learning Curves (Maximum Temperature)', X_train_tsel,y_train['OBS_tmpf_max'].values,ax1,n_jobs=-1)\n",
        "# Add grid and tighten layout\n",
        "ax1.grid(True)\n",
        "plt.tight_layout()"
      ],
      "metadata": {
        "id": "hhkTSztfdID8"
      },
      "execution_count": null,
      "outputs": []
    },
    {
      "cell_type": "markdown",
      "source": [
        "The learning curves show low training error which indicates low bias.\n",
        "The large gap between the testing error (green) and training error (red) indicates large variance. \n",
        "\n",
        "In our case the XGB model is likely over-fitting the training data. The model might benefit from:\n",
        "  - Add more training data (This one is obvious!)\n",
        "  - Feature engineering:\n",
        "    - designing better features with less collinearity could improve testing error and increase training error\n",
        "  - Target Modification\n",
        "    - changing the target variable could help reduce collinearity between features but may require some feature engineering \n",
        "  - Reducing the complexity of the model  \n",
        "     - Reducing the total number of features could increase the training error and bring it more in line with the testing error\n",
        "\n",
        "--------------------------------------------------------------------------------"
      ],
      "metadata": {
        "id": "PMow0zk7isLy"
      }
    },
    {
      "cell_type": "markdown",
      "source": [
        "So, how do we try to tackle the gap between the training and testing data?\n",
        "\n",
        "Since we don't have any additional data we can't add simply expand our training dataset. This leaves us with a few options:\n",
        "\n",
        "*   Modify our features list\n",
        "  * Try fewer features to reduce model complexity\n",
        "  * Create new features (e.g. $ΔT$, Day of Year, etc.) that we think might help reduce prediction error\n",
        "*   Redfine our target variable (i.e. what we want to predict)\n",
        "\n",
        "Lets first try looking out what features are contributing most to our predictions. This should help us decide the best course of action."
      ],
      "metadata": {
        "id": "aHrtvUQtgDXc"
      }
    },
    {
      "cell_type": "code",
      "metadata": {
        "id": "It3BLOoOV7S9"
      },
      "source": [
        "#Examine feature importance for the XGBoost regressor \n",
        "from sklearn.inspection import permutation_importance\n",
        "\n",
        "#Define a function to retrieve feature importance from tree-based model\n",
        "def run_gb_mdl(mdl,Xs_train,Xs_test,ys_train,ys_test,typ):\n",
        "  mdl.fit(Xs_train,ys_train)\n",
        "  feats = mdl.feature_importances_\n",
        "  fidx = np.argsort(feats)[::-1]\n",
        "  #Make predictions using test features\n",
        "  y_pred = mdl.predict(Xs_test)\n",
        "  #Calculate and display model error\n",
        "  regression_stats(typ,y_pred,ys_test)\n",
        "  #Return predictions, feature importance, and index of features sorted by importance\n",
        "  return y_pred,feats[fidx],fidx\n",
        "\n",
        "xgb_reg = xgb.XGBRegressor(n_estimators=250,objective='reg:squarederror',random_state=0)\n",
        "y_xgb_tmax,y_xgb_feat,y_xgb_fidx = run_gb_mdl(xgb_reg,X_train_tsel,X_test_tsel,y_train['OBS_tmpf_max'].values,y_test['OBS_tmpf_max'].values,'XGboost (Tree-based Select)')\n",
        "\n",
        "print('\\nNWP (Model Averge)')\n",
        "print(f'MAE: {mean_absolute_error(nwp_max_tmp,y_test[\"OBS_tmpf_max\"].values)}')\n",
        "print(f'RMSE: {np.sqrt(mean_squared_error(nwp_max_tmp,y_test[\"OBS_tmpf_max\"].values))}')"
      ],
      "execution_count": null,
      "outputs": []
    },
    {
      "cell_type": "markdown",
      "metadata": {
        "id": "hGSx99tpdEUa"
      },
      "source": [
        "Examine the feature importance below for the XGBoost model and consider the effects of colinearity (recall 5. Feature Analysis)"
      ]
    },
    {
      "cell_type": "code",
      "metadata": {
        "id": "t2_qNkQoYtLj"
      },
      "source": [
        "# Plot the impurity-based feature importances of the forest \n",
        "\n",
        "#Display top 10 features\n",
        "no_of_feats = 10\n",
        "\n",
        "#Initialize figure\n",
        "plt.figure(figsize=(10,6))\n",
        "#Add title and axis labels\n",
        "plt.title(\"XGB Feature importances (Top 10)\")\n",
        "plt.ylabel('Feature Importance (normalized)')\n",
        "#Plot feature importance as bar chart\n",
        "plt.bar(range(0,no_of_feats), y_xgb_feat[0:no_of_feats],\n",
        "        color=\"royalblue\", align=\"center\")\n",
        "#Add feature names below tick labels \n",
        "plt.xticks(range(0,no_of_feats), X_train_tsel.columns[y_xgb_fidx][0:no_of_feats],rotation=45)\n",
        "plt.xlim([-1, no_of_feats]) #Set axis limits\n",
        "plt.show()"
      ],
      "execution_count": null,
      "outputs": []
    },
    {
      "cell_type": "markdown",
      "metadata": {
        "id": "R-HcJryP88-9"
      },
      "source": [
        "# **8. Exercise**"
      ]
    },
    {
      "cell_type": "markdown",
      "source": [
        "In this exercise we'll explore try and predict minimum temperature using a variety of machine learning models. In doing so we'll seek answers to the following questions:\n",
        "\n",
        "* Are ML models more accurate at predicting minimum or maximum temperature?\n",
        "* Can adding features improve ML model performance?\n",
        "* What happens if we predict temperature error instead of absolute temperature?"
      ],
      "metadata": {
        "id": "5VJPFt28BW5r"
      }
    },
    {
      "cell_type": "markdown",
      "source": [
        "### 1. How do ML models perform when predicting minimum temperature?  "
      ],
      "metadata": {
        "id": "EoRVYrll30s1"
      }
    },
    {
      "cell_type": "markdown",
      "source": [
        "Before we dive in lets perform some dimensionality reduction. We need to repeat this process of feature selection since we'll be predicting a new variable: minimum temperature. "
      ],
      "metadata": {
        "id": "SiWS6SOJ6oNr"
      }
    },
    {
      "cell_type": "code",
      "source": [
        "# To begin lets start out by performing feature selection with minimum temperature as our target\n",
        "\n",
        "''' Copy the code from the code block above \"Feature Analysis\" and change the observation from OBS_tmpf_max to OBS_tmpf_min \n",
        "    Don't forget to print out the shape of the new X_train and X_test objects to see how many features have been selected '''\n"
      ],
      "metadata": {
        "id": "UQZFWr7WiS8j"
      },
      "execution_count": null,
      "outputs": []
    },
    {
      "cell_type": "markdown",
      "source": [
        "To answer the posed question lets perform some ML experiments predicting minimum temperature. Use the functions defined in the course, in section 6., to produce predictions of minimum temperature during the testing period.\n",
        "\n",
        "An example of how to do this (with a linear regression model) is provided below for reference:"
      ],
      "metadata": {
        "id": "fa97Xk5VEosS"
      }
    },
    {
      "cell_type": "code",
      "source": [
        "# To begin here is an example of a linear regressor used to predict min temperature\n",
        "\n",
        "# Print out min temperature forecast error statistics for the NWP model (average of GFS00Z and GFS12Z)\n",
        "y_true = y_test['OBS_tmpf_min'].values\n",
        "y_mdl = min_temperature_mdl[-y_test.shape[0]:].values\n",
        "\n",
        "print(f'GFS Score : {r2_score(y_mdl,y_true)}')\n",
        "print(f'GFS MAE: {mean_absolute_error(y_mdl,y_true)}')\n",
        "print(f'GFS RMSE : {np.sqrt(mean_squared_error(y_mdl,y_true))}')\n",
        "\n",
        "### Linear Regression ###\n",
        "y_lr = run_lr(X_train,X_test,y_train['OBS_tmpf_min'].values,y_test['OBS_tmpf_min'].values,'All features')\n",
        "\n",
        "''' Below add code to run a linear regression model with univariate features. Change the last argument of the \n",
        "    \"run_lr\" function to change the title of the score output. (e.g. \"Univariate-Select\" for univarate selection) '''\n",
        "\n",
        "# LR with univariate selection\n",
        "\n",
        "# LR with tree-based selection"
      ],
      "metadata": {
        "id": "2AYyPOe1F8TD"
      },
      "execution_count": null,
      "outputs": []
    },
    {
      "cell_type": "code",
      "source": [
        "### XGB Model ###\n",
        "''' Use the run_gb function to produce XGB minimum temperature predictions below \n",
        "    use the examples from section 6 as a guide. Experiment with using all features\n",
        "    or just tree-based select features'''\n",
        "\n",
        "# XGB with all features\n",
        "\n",
        "# XGB with tree-based select features"
      ],
      "metadata": {
        "id": "vVL6Uu_JMKAh"
      },
      "execution_count": null,
      "outputs": []
    },
    {
      "cell_type": "code",
      "source": [
        "### Stacked Regressor ###\n",
        "''' Use the stacked regressor to predict minimum temperature,\n",
        "    combine a linear regression model with an XGB model. Use the example\n",
        "    from section 6 as a guide. For this case, use tree-based features.\n",
        "    You don't need to scale your data.'''\n",
        "    \n",
        "# Run stacked regressor using tree-based feature selection"
      ],
      "metadata": {
        "id": "H6FWeB1XMLXx"
      },
      "execution_count": null,
      "outputs": []
    },
    {
      "cell_type": "markdown",
      "source": [
        "Is the RMSE and MAE lower than that observed for maximum temperature (see section 6.)"
      ],
      "metadata": {
        "id": "kPOiQNhY485D"
      }
    },
    {
      "cell_type": "markdown",
      "source": [
        "\n",
        "### 2. Can adding features improve ensemble ML model prediction?\n",
        "\n",
        "\n",
        "To answer this question we'll start by creating a new feature dataset. This feature dataset will contain the following new variables:\n",
        "- The variance of each variable across model runs \n",
        "  - e.g. standard deviation of temperature forecasts\n",
        "- The average difference, across model runs, for each variable \n",
        "  - e.g. average difference in temperature forecast between model runs\n",
        "\n",
        "Run the following code block to create the new feature dataset.  \n"
      ],
      "metadata": {
        "id": "K_gdHxBrueWX"
      }
    },
    {
      "cell_type": "code",
      "source": [
        "### RUN THIS BLOCK - NO EDITS REQUIRED ###\n",
        "\n",
        "# Split feature dataset by model run\n",
        "gfs0 = total_feature_data.filter(like='GFS0')\n",
        "gfs6 = total_feature_data.filter(like='GFS6')\n",
        "gfs12 = total_feature_data.filter(like='GFS12')\n",
        "gfs18 = total_feature_data.filter(like='GFS18')\n",
        "\n",
        "# Define function to rename variables (place model run at end of variable)\n",
        "# This will make computing things like STDEV of a variable across model\n",
        "# runs alot easier!\n",
        "def df_rename(dff,gname):\n",
        "  for c in dff.columns:\n",
        "    variable_name = c.split(gname)[-1][1:]\n",
        "    dff.rename({c:variable_name+'_'+gname},axis=1,inplace=True)\n",
        "  return dff\n",
        "\n",
        "#Get list of model variables available for each model run\n",
        "vnames = []\n",
        "for c in gfs0.columns:\n",
        "  vnames.append(c.split('GFS0')[-1][1:])\n",
        "vnames = np.array(vnames)\n",
        "\n",
        "# Rename variables for each model run\n",
        "gfs_00 = df_rename(gfs0,'GFS0')\n",
        "gfs_06 = df_rename(gfs6,'GFS6')\n",
        "gfs_12 = df_rename(gfs12,'GFS12')\n",
        "gfs_18 = df_rename(gfs18,'GFS18')\n",
        "\n",
        "# Combine GFS runs into a single feature dataset\n",
        "total_feature_all = pd.concat([gfs_00,gfs_06,gfs_12,gfs_18],axis=1)\n",
        "\n",
        "# Compute the standard deviation and average dprog/dt for each GFS variable\n",
        "for v in vnames:\n",
        "  total_feature_all['std_'+v] = total_feature_all.filter(like=v).std(axis=1)\n",
        "  total_feature_all['trend_'+v] = total_feature_all.filter(like=v).diff(axis=1).mean(axis=1)\n",
        "\n",
        "# Add date variable to new feature dataset to facillitate train/test splitting\n",
        "total_feature_all = pd.concat([total_feature_all,total_feature_data['date']],axis=1)"
      ],
      "metadata": {
        "id": "80q0qvATu8W_"
      },
      "execution_count": null,
      "outputs": []
    },
    {
      "cell_type": "markdown",
      "source": [
        "The above block created two new datasets: \n",
        "* total_target_all\n",
        "* total_feature_all\n",
        "\n",
        "These datasets represent new target and feature datasets that contain additional features that incorporate information about variable trends and standard deviations across model runs. \n",
        "\n",
        "Use these new datasets in the following code block to create new training and testing DataFrames."
      ],
      "metadata": {
        "id": "xPZDEVdz6P3z"
      }
    },
    {
      "cell_type": "code",
      "source": [
        "''' \n",
        "    Now that we've updated our target and feature datasets to include the model error data\n",
        "    we need to split our newly created feature and target dataset. \n",
        "\n",
        "    Write code below to split total_feature_new and total_target_new into training and testing datasets. \n",
        "    Feel free to copy and modify the code from section 5. (partioning data) to accomplish this.\n",
        "    Be sure to rename X_train and X_test if you do this! \n",
        "'''\n",
        "\n",
        "#Split total datasets into two segements (Training: 2011 - 2017;  Testing: 2018-2019)\n",
        "\n",
        "#Extract Training data between 2011 and 2017\n",
        "\n",
        "#Extract Testing data between 2018 and 2019\n",
        "\n",
        "#Remove variables (features) with zero variance, during the training period (2011-2017)\n"
      ],
      "metadata": {
        "id": "Bj3IcjptzcDJ"
      },
      "execution_count": null,
      "outputs": []
    },
    {
      "cell_type": "code",
      "source": [
        "# Run XGB model to predict \n",
        "''' Use the run_gb function to predict the minimum temperature using the original\n",
        "    and new feature datasets. Compare the results.\n",
        "    \n",
        "    Refer to the examples from section 6 as a guide. Remember to use the training\n",
        "    and testing datasets you created in the previous code block.\n",
        "    '''\n",
        "\n",
        "# Train and execute an XGB model using the original X_train and X_test datasets\n",
        "\n",
        "# Train and execute an XGB model using the new X_train and X_test datasets\n",
        "# that contain additional (derived) feature variables.\n"
      ],
      "metadata": {
        "id": "keIHxok10CUg"
      },
      "execution_count": null,
      "outputs": []
    },
    {
      "cell_type": "markdown",
      "source": [
        "## 3. What happens if we predict temperature error instead of absolute temperature?\n",
        "\n",
        "The final question in this exercise asks if predicting temperature error instead of absolute temperature could provide better results? Let's find out!\n",
        "\n",
        "First let's compute the minimum temperature forecast error for each GFS run."
      ],
      "metadata": {
        "id": "rNJ9kwBvM1nQ"
      }
    },
    {
      "cell_type": "code",
      "source": [
        "### RUN THIS BLOCK - NO EDITS REQUIRED ###\n",
        "\n",
        "# Get MOS error\n",
        "mdl_err = total_feature_data.filter(like='tf').filter(like='min')-np.array([total_target_data['OBS_tmpf_min'].values]).T\n",
        "\n",
        "# Define new target (model error))\n",
        "for c in mdl_err.columns:\n",
        "  mdl_err.rename({c:c+'_err'},axis=1,inplace=True)\n",
        "\n",
        "# Compute the model average minimum temperature error \n",
        "total_err_mean = pd.Series(mdl_err.mean(axis=1).values,name='mean_error')\n",
        "\n",
        "# Shift the model average error back by one index to get a data series containing the forecast\n",
        "# error from the previous day\n",
        "total_target_persist = total_err_mean.shift(periods=1)\n",
        "\n",
        "# Create a new target dataset by adding the model average error to the \n",
        "# original target dataset containing OBS_tmpf_min and OBS_tmpf_max\n",
        "total_target_new = pd.concat([total_target_data,total_err_mean],axis=1).iloc[1:]\n",
        "\n",
        "# Add the persistance error (previous day's model error) to the feature dataset\n",
        "total_feature_new = pd.concat([total_feature_data.copy(),total_target_persist],axis=1).iloc[1:]\n",
        "\n",
        "# Rename mean error in feature dataset to persistance error (mean error from previous day)\n",
        "total_feature_new = total_feature_new.rename({'mean_error':'persist_error'})"
      ],
      "metadata": {
        "id": "vZNKINF-BVBz"
      },
      "execution_count": null,
      "outputs": []
    },
    {
      "cell_type": "markdown",
      "source": [
        "The above block created two new datasets: \n",
        "* total_target_new\n",
        "* total_feature new\n",
        "\n",
        "These datasets represent new target and feature datasets that contain additional information about model forecast error data. Use them in the following code block to create new training and testing DataFrames as outlined in Section 5."
      ],
      "metadata": {
        "id": "8Q2dGUzn5dVc"
      }
    },
    {
      "cell_type": "code",
      "source": [
        "''' \n",
        "    Now that we've updated our target and feature datasets to include the model error data\n",
        "    we need to split our newly created feature and target dataset. \n",
        "\n",
        "    Write code below to split total_feature_new and total_target_new into training and testing datasets. \n",
        "    Feel free to copy and modify the code from section 5. (partioning data) to accomplish this.\n",
        "    Be sure to rename X_train and X_test if you do this! \n",
        "'''\n",
        "\n",
        "#Split total datasets into two segements (Training: 2011 - 2017;  Testing: 2018-2019)\n",
        "\n",
        "\n",
        "#Extract Training data between 2011 and 2017\n",
        "\n",
        "#Extract Testing data between 2018 and 2019\n",
        "\n",
        "#Remove variables (features) with zero variance, during the training period (2011-2017)\n"
      ],
      "metadata": {
        "id": "w-SUOcRs5bkc"
      },
      "execution_count": null,
      "outputs": []
    },
    {
      "cell_type": "markdown",
      "source": [
        "Now that we've split our new feature and target datasets into testing and training datasets lets train an XGB model to **predict the minimum temperature forecast error**"
      ],
      "metadata": {
        "id": "UxbW_HEP5-cC"
      }
    },
    {
      "cell_type": "code",
      "source": [
        "# Run XGB model to predict model average temperature error\n",
        "''' Use the run_gb function to predict minimum temperature forecast error.\n",
        "    Refer to the examples from section 6 as a guide. Remember to use the training\n",
        "    and testing datasets you created in the previous code block. Also, note that the\n",
        "    new target is called: mean_error. So you should be trying to predict: y_test_err['mean_error'] \n",
        "    '''"
      ],
      "metadata": {
        "id": "YASLkvh_UI8m"
      },
      "execution_count": null,
      "outputs": []
    },
    {
      "cell_type": "markdown",
      "source": [
        "By this point you should have trained and executed an XGB model to predict the model average temperature error (defined as: *mean_error* in the *total_target_dataset*). What sort of result did you get? \n",
        "\n",
        "Did you see better performance when you trained an XGB model to predict the minimum (absolute) temperature. Or did the model perform better when trained to predict the temperature *error*?"
      ],
      "metadata": {
        "id": "9wTdJiRcr-vA"
      }
    },
    {
      "cell_type": "markdown",
      "source": [
        "## **Bonus Exercise**\n",
        "\n",
        "-- *For all you over achievers out there* --\n",
        "\n",
        "Using the example from section 7, plot the feature importance for a random forest trained to predict mean_error. \n",
        "  - What do you notice about the magnitude of feature importances?\n",
        "  - What do you think the results suggests about feature collinearity?"
      ],
      "metadata": {
        "id": "_O3_M1gTGHar"
      }
    },
    {
      "cell_type": "code",
      "source": [
        "# Refer to the example from Section 7. Use the function run_gb_mdl to get feature importance from an XGB model\n"
      ],
      "metadata": {
        "id": "YvjI1-DbFaLb"
      },
      "execution_count": null,
      "outputs": []
    },
    {
      "cell_type": "code",
      "source": [
        "# Plot the impurity-based feature importances of the XGB algorithm "
      ],
      "metadata": {
        "id": "-0FxyOCVFfp_"
      },
      "execution_count": null,
      "outputs": []
    },
    {
      "cell_type": "markdown",
      "source": [
        "In the following cell, perform tree-based feature selection for our new target: mean_error. \n",
        "\n",
        "Then fit a linear regression model to the resulting training and testing datasets."
      ],
      "metadata": {
        "id": "XbneMtGYGv1T"
      }
    },
    {
      "cell_type": "code",
      "source": [
        "#Use gradient boosting to perform model-based feature selection.\n",
        "#Select features whose relative importances exceed the median (i.e. the most important half of the features)"
      ],
      "metadata": {
        "id": "uu0ppcINEeeE"
      },
      "execution_count": null,
      "outputs": []
    },
    {
      "cell_type": "markdown",
      "metadata": {
        "id": "-7zyYhhjCnI4"
      },
      "source": [
        "Questions? Contact: cmcnich@uw.edu\n",
        "\n",
        "**Acknowledgements**\n",
        "\n",
        "*Burke, A., 2020: \"Traditional Machine Learning Pipeline Applied to NWP Model Data\"*\n",
        "\n",
        "The first half of this notebook was largely insipired by the lecture material cited above. "
      ]
    }
  ]
}